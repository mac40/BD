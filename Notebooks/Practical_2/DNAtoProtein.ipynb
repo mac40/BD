{
 "cells": [
  {
   "cell_type": "code",
   "execution_count": 1,
   "metadata": {
    "slideshow": {
     "slide_type": "skip"
    }
   },
   "outputs": [],
   "source": [
    "# general libraries\n",
    "import json\n",
    "import urllib.request\n",
    "from copy import copy\n",
    "# biopython libraries\n",
    "from Bio.Alphabet import generic_dna, generic_protein\n",
    "## for sequence handling\n",
    "from Bio import SeqIO\n",
    "from Bio.Seq import Seq\n",
    "## for alignments\n",
    "from Bio import pairwise2\n",
    "from Bio.SubsMat import MatrixInfo\n",
    "## for BLAST\n",
    "from Bio.Blast import NCBIWWW\n",
    "from Bio.Blast import NCBIXML\n",
    "## for UniProt\n",
    "from Bio import ExPASy\n",
    "from Bio import SwissProt\n",
    "\n",
    "import pandas as pd\n",
    "\n",
    "from IPython.display import Image"
   ]
  },
  {
   "cell_type": "markdown",
   "metadata": {
    "slideshow": {
     "slide_type": "slide"
    }
   },
   "source": [
    "# DNA to protein sequences\n",
    "\n",
    "## You will KNOW:\n",
    "* What is a gene in biology\n",
    "* How does a gene become a protein in the cell\n",
    "* How a gene is represented in Ensembl\n",
    "* What is a REST web-service\n",
    "* Some magic in Jupyter notebooks\n"
   ]
  },
  {
   "cell_type": "markdown",
   "metadata": {
    "slideshow": {
     "slide_type": "-"
    }
   },
   "source": [
    "## You will BE ABLE TO:\n",
    "* Retrieve gene sequences with a REST service\n",
    "* Align biological sequences with the BioPython library\n",
    "* Visualize alignments in Jalview\n",
    "* Analyze a protein sequence launching InterProScan remotely\n",
    "* Find similar sequences launching pHMMER remotely"
   ]
  },
  {
   "cell_type": "markdown",
   "metadata": {
    "slideshow": {
     "slide_type": "slide"
    }
   },
   "source": [
    "## We will use\n",
    "* Python3 (Jupyter in this case but vanilla python2.7/3.x is OK)\n",
    "* BioPython library\n",
    "* Jalview [http://www.jalview.org/](http://www.jalview.org/)\n",
    "\n",
    "### Install python and required libraries (Unix-like) (may require sudo)\n",
    "`apt install python3`<br>\n",
    "`apt install python-pip`<br>\n",
    "`pip install biopython`<br>\n",
    "`pip install pandas` (just for visualization purposes) <br>\n",
    "`pip install xmltramp2` (required by InterProScan API script) <br>\n",
    "\n",
    "### If you want to use Jupyter \n",
    "`pip install jupyter`<br>\n",
    "`jupyter notebook`"
   ]
  },
  {
   "cell_type": "markdown",
   "metadata": {
    "slideshow": {
     "slide_type": "subslide"
    }
   },
   "source": [
    "### Install Jalview\n",
    "#### Windows & JRE\n",
    "* Click on `Launch Jalview Desktop` button on the homepage __[http://www.jalview.org/](http://www.jalview.org/)__\n",
    "* Execute file\n",
    "\n",
    "#### Any OS w/o JRE\n",
    "* Go to __[http://www.jalview.org/Web_Installers/install.htm](http://www.jalview.org/Web_Installers/install.htm)__\n",
    "* Choose right download from the __includes Java VM__ column: \n",
    "* Launch installer\n",
    "\n"
   ]
  },
  {
   "cell_type": "markdown",
   "metadata": {
    "slideshow": {
     "slide_type": "slide"
    }
   },
   "source": [
    "## What is a gene\n",
    "\n",
    "A gene is a *discrete* *inheritable* unit that gives rise to observable *physical characteristics*.\n",
    "\n",
    "* **It gives rise to physical characteristics** means that it produces an observable phenomenon (a.k.a. phenotype)\n",
    "* **Inheritable** means that can be transferred across generations\n",
    "* **Discrete** means that phenotypes can be inherited singularly"
   ]
  },
  {
   "cell_type": "markdown",
   "metadata": {
    "slideshow": {
     "slide_type": "subslide"
    }
   },
   "source": [
    "## Discovery of DNA and invention of genetics\n",
    "\n",
    "1860: The concept of discrete inheritable units was first suggested by Gregor Mendel\n",
    "\n",
    "1905: The name *gene* comes up from William Bateson\n",
    "\n",
    "1923: Frederick Griffith observed that DNA carries genes\n",
    "\n",
    "1941: Edward Lawrie Tatum and George Wells Beadle show that genes code for proteins. This is known as the original **central dogma of molecular biology**"
   ]
  },
  {
   "cell_type": "markdown",
   "metadata": {
    "slideshow": {
     "slide_type": "subslide"
    }
   },
   "source": [
    "## The central dogma of molecular biology\n",
    "<img width=\"80%\" src=\"media/centraldogma.jpg\">\n",
    "\n",
    "A gene is **transcribed** to RNA first, then **translated** to Protein\n",
    "* DNA sits in the nucleus of the cell and is made of Adenine (A), Thymine (T), Cytosine (C) and Guanine (G) **nucleotides**\n",
    "* RNA is made in the nucleus and then brought outside. It uses Uracile (U) instead of Thymine (T)\n",
    "* Proteins are made of **amino acids**, completely different molecules from nucleotides\n",
    "* A **codon** (3 nucleotides) code for 1 amino acid following the **genetic code**, which is universal across all life forms."
   ]
  },
  {
   "cell_type": "markdown",
   "metadata": {
    "slideshow": {
     "slide_type": "skip"
    }
   },
   "source": [
    "## The structure of DNA\n",
    "\n",
    "<img align='centetr' width=80% src=\"https://upload.wikimedia.org/wikipedia/commons/thumb/b/b2/DNA_chemical_structure_2.svg/1200px-DNA_chemical_structure_2.svg.png\">\n",
    "\n",
    "\n",
    "In 1953 DNA structure is resolved to be a double helix by Rosalind Franklin, James Watson and Francis Crick\n",
    "\n",
    "It's a molecule composed of two chains (made of *nucleotides*) that coil around each other to form a double helix. \n",
    "\n",
    "Each chain is a sequence of nucleotides and the two helices are kept together by interactions between complementary nucleotides"
   ]
  },
  {
   "cell_type": "markdown",
   "metadata": {
    "slideshow": {
     "slide_type": "subslide"
    }
   },
   "source": [
    "## Genes are highly complex units\n",
    "<img align='center' width=80% src=\"https://upload.wikimedia.org/wikipedia/commons/5/54/Gene_structure_eukaryote_2_annotated.svg\">\n",
    "\n",
    "There are many portion of the gene that have **regulatory functions**\n",
    "\n",
    "The portion of a gene that is transcribed to RNA has its own regulatory sequences (UTRs, introns) and need to be processed and trimmed (splicing) beforme becoming a **mature** messenger\n",
    "\n",
    "Introns are removed and exons are combined to form a mature messenger RNA, which is then **translated** to protein"
   ]
  },
  {
   "cell_type": "code",
   "execution_count": 2,
   "metadata": {
    "slideshow": {
     "slide_type": "skip"
    }
   },
   "outputs": [],
   "source": [
    "# from IPython.display import HTML\n",
    "# HTML('<iframe width=\"100%\" src=\"https://www.youtube.com/embed/gG7uCskUOrA?ecver=1\" frameborder=\"0\" allow=\"autoplay; encrypted-media\" allowfullscreen></iframe>')\n",
    "# HTML('<iframe width=\"100%\" src=\"https://www.youtube.com/embed/2BwWavExcFI?ecver=1\" frameborder=\"0\" allow=\"autoplay; encrypted-media\" allowfullscreen></iframe>')"
   ]
  },
  {
   "cell_type": "code",
   "execution_count": 3,
   "metadata": {
    "slideshow": {
     "slide_type": "slide"
    }
   },
   "outputs": [
    {
     "data": {
      "text/html": [
       "<div align=\"middle\">\n",
       "<video width=\"100%\" controls>\n",
       "      <source src=\"media/translation.mp4\" type=\"video/mp4\">\n",
       "</video></div>\n"
      ],
      "text/plain": [
       "<IPython.core.display.HTML object>"
      ]
     },
     "metadata": {},
     "output_type": "display_data"
    }
   ],
   "source": [
    "%%HTML\n",
    "<div align=\"middle\">\n",
    "<video width=\"100%\" controls>\n",
    "      <source src=\"media/translation.mp4\" type=\"video/mp4\">\n",
    "</video></div>"
   ]
  },
  {
   "cell_type": "markdown",
   "metadata": {
    "slideshow": {
     "slide_type": "slide"
    }
   },
   "source": [
    "## Some numbers\n",
    "A ribosome translates approximately $20$ amino acids per second (reading $60$ nuceotides per second)\n",
    "\n",
    "In a typical cell there are around $50\\,000$ ribosomes\n",
    "\n",
    "In a typical human there are around $37$ trillions $(10^{12})$ cells\n",
    "\n",
    "$$ 20 * (5*10^5) * (37 *10^{12}) = 3.7*10^{20}$$\n",
    "\n",
    "Just accounting for translation events. Other operations going on at cellular level:\n",
    "* DNA replication\n",
    "* Chromosome breathing (folding/unfolding)\n",
    "* DNA repairing\n",
    "* Epygenetic modifications (DNA methylation)\n",
    "* RNA-mediated cell regulation\n",
    "* Protein post translational modifications\n",
    "* Enzyme-mediated catalysis or chemical reactions\n",
    "* ..."
   ]
  },
  {
   "cell_type": "markdown",
   "metadata": {
    "slideshow": {
     "slide_type": "slide"
    }
   },
   "source": [
    "## Genes in Ensembl\n",
    "Genes are stored as sequences representing nucleotides (ACTG)\n",
    "\n",
    "The central resource containing gene sequences is __[Ensembl](https://www.ensembl.org/index.html)__\n",
    "\n",
    "Ensembl is an example of **genome browser**, a tool to browse the genome.\n",
    "\n",
    "It's highly organized and has an elaborate interface to retrieve and __[visualize data](https://www.ensembl.org/Homo_sapiens/Gene/Summary?db=core;g=ENSG00000139618;r=13:32315474-32400266)__\n",
    "\n",
    "Ensembl - like many EBI services - offer a **REST API**"
   ]
  },
  {
   "cell_type": "markdown",
   "metadata": {
    "slideshow": {
     "slide_type": "slide"
    }
   },
   "source": [
    "### What is a REST service\n",
    "Representational State Transfer (**REST**) is a set of constraints to be used for creating web services.\n",
    "\n",
    "RESTful web services, provide **interoperability** between computer systems on the Internet.\n",
    "\n",
    "In a RESTful web service, requests are made to a resource's URL (Uniform Resource Locator) or colloquially a **web address**\n",
    "\n",
    "Requests usually follow the **HTTP** protocol (the operations available are GET, POST, ...)\n",
    "\n",
    "RESTful web services expose one or more **endpoints** to access different data. "
   ]
  },
  {
   "cell_type": "markdown",
   "metadata": {
    "slideshow": {
     "slide_type": "slide"
    }
   },
   "source": [
    "## Retrieve a gene sequence from Ensembl\n",
    "* Use the RESTful API to retrieve a gene sequence from the Ensemble database.\n",
    "* The gene we want to obtain is the *cyclin dependent kinase 20* (`ENSG00000156345`)\n",
    "* Documentation for Ensembl endpoints is at __[https://rest.ensembl.org/](https://rest.ensembl.org/)__\n",
    "* There are different kind of sequence we can ask for\n",
    "    * **genomic**: the DNA sequence\n",
    "    * **cdna**: complementary DNA (complementary to a messenger RNA)\n",
    "    * **cds**: coding sequence (complementary to the coding sequence of mRNA)\n",
    "    * **protein**: protein sequence\n",
    "\n"
   ]
  },
  {
   "cell_type": "code",
   "execution_count": 4,
   "metadata": {
    "scrolled": true,
    "slideshow": {
     "slide_type": "slide"
    }
   },
   "outputs": [
    {
     "data": {
      "text/plain": [
       "b'{\"molecule\":\"dna\",\"id\":\"ENSG00000156345\",\"query\":\"ENSG00000156345\",\"seq\":\"GCTGTCATCGTTCCGTGGGCCCTGCTGCGGGCACGCTCTCGGCGCATGCGTTTTTTATGCGGGATTAAGCTTGCTGCTGCGTGACAGCGGAGGGCTAGGAAAAGGCGCAGTGGGGCCCGGAGCTGTCACCCCTGACTCGACGCAGCTTCCGTTCTCCTGGTGACGTCGCCTACAGGAACCGCCCCAGTGGTCAGCTGCCGCGCTGTTGCTAGGCAACAGCGTGCGAGCTCAGATCAGCGTGGGGTGGAGGAGAAGTGGAGTTTGGAAGTTCAGGGGCACAGGGGCACAGGCCCACGACTGCAGCGGGATGGACCAGTACTGCATCCTGGGCCGCATCGGGGAGGGCGCCCACGGCATCGTCTTCAAGGCCAAGCACGTGGAGGTGAGGCTGGACCGCGGCCGGCAGCCTGGCGGGGGTGTGCCCCCGCCACCCTCCGGCTAACGCTCTAAACTGTTTCGGTTCCCTTTTTACATCCAGTACAGTTTTTAAAACCTACTCATATTCTAAACCTACTTTGGGCCGTTGCGCTTCCCTCCGCACAGCTGGCTTGGTCCCCTACCCCAGCGGCTGGGTCCCAGGCTAGTCCTAGACCCCCGAGGAGGGCCTCTGGCCGAGCCGGGGGCGCGTGTCTCTCTCTCAACCACCTTCCCCTCACCCACCTTCATCTCTCTTTCCCAGCCGAGGGTGGGCTGGCAGTGTCTGCCTTCTATCCTGCAGACTGGCGAGATAGTTGCCCTCAAGAAGGTGGCCCTAAGGCGGTTGGAGGACGGCTTCCCTAACCAGGCCCTGCGGGAGATTAAGGCTCTGCAGGAGATGGAGGACAATCAGTATGTGAGTAGGGGAGGGGGGGCATGGTATTCTCACCCTCAGTCGCTCGTTCCCACTTCTTTGTGCCTTCATTTTCCCAGCTACGCCTTCACCAGCTTTCAGGGATTTCCTCCCGCTGTCACTCACACACACTGCTCATTCATCTGCCTCCTTACCCCCTTTTGCCCTTTTTTGTCCACTTGTTCACCTTTATTTACCTATTTCTTTCATTTCTCACACATTCACTCTCATTTGCCTACTTATTTCTTAATGTATTCATTCATTCACCGACTTTTTTTCTCAAAACATGTAGTGATTTATAATGTAACTAGCACCTATTGAGCTCCCGATGTGTTCTGCAGGCATTATATACATTGTCATTTTGAGACCTCTTTACTACTGTACAAGGCAGGTTTCCAGATCTCTGTTTCTCAGGTGAGAGGAGGAGGTTATGTCACCAGCTCTTGGGCCCTCCGTTAGTCAGTAGAGGGTTTGGCCCAGGTTTGATTGAGAGTCCATTCTTCCCTTGGGACCTCCCATAGGCTCTACCCTGTGTTGGGCACTGGTGACACAGAGAAACCAGCTCCAGCCCAGCTCCTGAGGACTTAAGTGTGCTAACAAGAGACAGAGGCAACAGGGCCCACCTAGTGTGGTTCGTGCTGTGATAGGGTACCGGGAGGGGCTGCTGGAACACGAAGAGGGGCATCTTTCACCCCTAGTGTCATTACTCTTTTGGTGCTCTCTCTCACCCATGTCGAAATAGGGAATGTATTTGACTCCCTGGAGAGTTAACAGGGTTGGGTCTCTGTGATCTGGAGATATGCATGATATATTGGATGACAAAAGCATGTTATAAAATTTTGTGTCATCTGGGTTTTGTTTGGAAATATTATATATGTGAATGTGTATTTGTGTGTGCCATATCTGTTGTAAAGTCTGGTAGAATACACTCTAAGATTGACTGTAGGATTTTTCTTTTGTTCTTTTTCTGTTGGATTTTATGTCTTACCTGAATGTGTGCATGTGTTTTGATCTGTTAAATGGTTGTGTACTACCTGAAAAATCCGAAAACAGCAATCAGGCCATTTTGATTTTTTGAGGAAGATAAAAGGGCTTCCAGACAGCCATGTGTGGGATAGGTGGAGAGATCCATAAGGAAGCTGGTGATATGGTCCCTACATCCAGTTGGTCAGCAATTCTGAAGGTTCTAACTTTAAAACATACTCTAGATTTGCTCCTTGCCCAAGTCATCATCACCACTCATCAGAATGACAGTGGCAGCCTCCCCACTGCTCTCCATAGCCACAGTCCGGAGGGCTTTGTCAAAAGTGTAAGTTAAGTCATCGGCTCCCCTGCGTAAAAAGCCCTGGTGGCTTCTCTTCACACTTAGAGCACTATCACCATGTGCCCACCTCCAGCTGGCCTCTCCCTTTTCTCTCATTCAACACAACTTCTTAGGCATCTCTCCAGTGACCAGCACCTATCTAGGGTCCAGGAGCACAGAACAAGGCAGACACATCCTTCCCTTAAACAATCTCATGTACTCACATCCCTCTAGCCTCCTTCTGTGCTGGCGTTAGGGCCTTGCACTTGCTTTTCTTCCTGCTCAGAGCTTTATCCCAGATCCCCACAAACTGGGTCCTCATCTAGCCCCACCCCACCTAAATAAAGAAGTATCCTTTTCTCCACTCACAGAATCACACTATCCTCTTCTAGTTCTGTTGATTTTTTTTCTTTTTTTGATACAGGGTCTCACTCTGTCACCCAGGCTGGAGTGTAGAAGTGCGATTTTGTCTCCCTGTAGTCTCAACCTCCTGGGCTCAGGTGATCCTCCCACCTCAGCTTCCCAAGTAGCTAGGACTACAGGCACGTGTCACCATGCCTGGCTAGTTTTTTGTATTTTTTGTAGAGACAAGGTTTCACCATGTTGCCCAGGCTGGTCTCAAACACCTGGGTTCAAGCCATCCGCCCACCTTGGCCTCTCAAAGTACTGGGATTACGGGCATGAGACGTCATGCCCAGCCCCCTTGTATTTTGGTTCCTGTACTTACAGAATCTGAATATATCCCTTTTATTCATTTATTTGTTAAACTGTTTGTCCTTTGTGCTGTGAGTTCATTAAGAGTCCTGTCTCTCAGCTCACTCTCTGTGTAGCCTGGCTCCTCTGACAGTACTGGCCTCAGTGTTTGTGATGTGTCTGTAGCTGTCCCAGCACTGGGAAAGGTGGGATTCCTGGTGTCCTTTCCTTGGTGCTGGGATTCGGTGGTTCTAGAGGAAACAGGAGGAGACCTGTCCATCTCATGTGTGACCATCCAGATGATTTTCAGGCGGGTAGGCTGGGTGGGCGGACCAGATGGTGCCACTAAATGACCTTTTTTAGACCTTTTAGTGTTCATGGAGAATTAGAGTGGGGGCACACCTTATCTCAGGAGAGCAGAGCAAATCATGAGCATCGAGCTCTCTGATTCTTAGCTCAGGTCCACGTCACCTTCTTTGCTTACTGTCTTTTTGGATACAGGGTCCTCTGTCAGGGCATGGGCTGGGGTCTCAGGGTCACAGAGAGGGTCTGGTGACTTGAGTCTGGGGGCTAACAAGATGTCCTGCCCACAGGTGGTACAACTGAAGGCTGTGTTCCCACACGGTGGAGGCTTTGTGCTGGCCTTTGAGTTCATGCTGTCGGATCTGGCCGAGGTGGTGCGCCATGCCCAGAGGCCACTAGCCCAGGCACAGGTCAAGAGCTACCTGCAGATGCTGCTCAAGGGTGTCGCCTTCTGCCATGCCAACAACATTGTACATCGGGTCAGTCTCAGCATAGGCCGGGCATGGGGTCTGGGGAGCTGACTTGGCTTGGGGATGGGGCTAGCCCTTGTAAAAGGTGTGATAAGAAGTTGGGACAGAGCTGGTCAAGGCCTCCAGGTAAGTGGCCAGGGCATGGCCCTGGAGGAGGTGGGGACCGGGGCTGACCTGAGTGGTTAGACTGCCAAGCCCGCTTGTCCCAAGGTCCTATGGGGGATTTGGAGGGACTGATGCTTCTTTTGGTACTCCCAGGACCTGAAACCTGCCAACCTGCTCATCAGCGCCTCAGGCCAGCTCAAGATAGCGGACTTTGGCCTGGCTCGAGTCTTTTCCCCAGACGGCAGCCGCCTCTACACACACCAGGTGGCCACCAGGTAGGGAGGGCCAGATCCCTTCCAGTCTTCTCCATGGGGAAGAGATGCTTCTGGGCCTTTTCTCCAGACATTGCTTGTGGGGCTGGGGTCACCTCCCCAGGCATCCTTTTCTCAGCCCAGTGCCTGCCAGCCCTCTTCCTCGCAGGTGGTACCGAGCCCCCGAGCTCCTGTATGGTGCCCGCCAGTATGACCAGGGCGTCGATCTGTGGTGAGACCCCTGTGGGTGGTCAAAGGGTAACATGGCTCATGGATTTCTGCTAGGCTCTGAGGTCTCTGAGCTGTTTGGTGGTCTTTTCCCTGGTGGGAGTTTAGGCTTCCTTAAGGGTGTCTTCCCTGGTTGGGGTATTCTGAGCACTTTGGGGTTGGGGTTCCTCACTATGATGTTTTCGAGCTGGGTAGGGGCCAGGTGGGATGAGAATGGTGGTCCCAGGTGGGAAGCTTTCTGGGCTAGATGGGGAGGTGGTCTGAGCCGATATGTGCTGGAGTTAGATCCTAGGATATGGCATCTCTGAGCTGGTCAGAGGCCTGTGTCCTTGGACATGAAAGCTCTGAGCTTGTTTTGCAGCAAGAAGATAGTTGGCAGTGCCCATGGGTCTGAGATTTGGGGCAGGTTTGCAGGTCTGCCCCAGAAGTGTCCTAGAGCAGGAGTCTCCGAGAAGTCTTGGAACAGCTGGGGCTTTGCTCTGGGTTCTAGGGTTGAGGGCTTTGAGGGTTCAGGGACTGGGCCTCTGGACGTGAGGCTCCAGGGCTGGCTTGTGGGGCCTTGCCCTGGAGTGCAGTGTTAGAGCTGCTCTGTGGGTGGGTCTGTGGTCCATGGTGGGAGATCTCTGACCTGCTTGGGGCTCTGTGTCCACAGGTCTGTGGGCTGCATCATGGGGGAGCTGTTGAATGGGTCCCCCCTTTTCCCGGGCAAGAACGATATTGAACAGCTTTGCTATGTGCTTCGCATCTTGGGCACCCCAAACCCTCAAGTCTGGCCGGTTTGTAGGGGCCCTTGGTGAGGTGGGTGTGGGGCAGGTTTACTCCACTCCCAACAGCAAGTAACCACTCCCTCCCCTGAACCTTCTCTCTCCTGGCCCCAACCCCCCTTGATGGACAGGGACCACTGTCCTGGCCCAACTCAGGGCTTCCTCCTTCCTGCTGTCATTTGGGTTGGGGTAGATCCTGTCCTTTGTCCCTTTTCACCCCAGTACACACATGTGCAGTGTCTCAGCAAGCTGTGCACAGAGTCGTCATCTGAGAGGGCAAGGGGATGGATGAAGGAATACAGGGGTGGGTGAGTGAATGAATGATGGGTCAGGGAGACACATGGATGGGAGAGCACCCCCCATGTGAGTGTGTGTTAGGGGCTGAGAGTTGACAGCAGAGAGCATGGCAAGGGTCGGGAACTACTCTCATTGTACCCTGTTCCTTCTCCCTGGCCCAGGAGCTCACTGAGCTGCCGGACTACAACAAGATCTCCTTTAAGGAGCAGGTGCCCATGCCCCTGGAGGAGGTGCTGCCTGACGTCTCTCCCCAGGCATTGGATCTGCTGGGTCAATTCCTTCTCTACCCTCCTCACCAGCGCATCGCAGCTTCCAAGGTAGGGGGAGAGGCTGTAGTCTCTGCTCCTTCAGCTCCCCTCCCCATCACCCTGGTACTCTGTACTTGGTAGCCATGTGACCCCATCACATCAGCGACCCTCAGAACCTGTGATTGGCATGGACCAGCACCAGACATCTGGAACCCAGGGGACAGGGGCCTTGGAGCAGGTGTGCCTCTCATGAGTAGACCCCACTGGACATCCCCAGACTTCCCCTGAGGGTGGCCCATACGAGGGGCATGCCCAACTCTCAGGAGAGCGCGTGTCCGGGAGTGCAGGTTTCTGGGCTGCCCCTGACCCTGTGGCAGATACAGTAAGAGAGTCACTGGGGACTCATTCCTTTATTCCATTAGCAAGTATTTTCTGCACATCTGGCACATGCAGGGATTGTCCTGGGCCCTGCACAGATGGTAAACAATCAGTCCTACCTCCGCGGGGCACTCCTGGTGGTGAGGTAGCTCCAGGTCCAAAAGGTCACAAGAGGTCATGTTCTCCAGCTGTGGGAGCCCCAGGAGAGAGGCAAGGCCGACTTTGGGGTCAAGCAAAGCTTCCTGGTGGAGGGCAGGTTTAAGCATGAGATGTTTGAGGAGGTGTTCGCTGAAGAGAGAAATGGTGGGCAGAGGCCTGGAAGAGAGGACCCAGGAAGGCTGGTTATGGCTGGTAGGCCTGGGAGGACGATGACCACAGGAGCATGGGCTGACAGGTGTCAGGGTGTCTCTCAGGGGTCCCTGTCCCCTCCCTGCACTCAGCACCAGCCGCGTGTGTTTACATACGCCCTCTTGGTCTCCACTGTCAGCAGCTCCTGTGGGCTCTGTGTCCACAGTGTACCCAAGCCGTGTGACCCTTATCTCTTGGGTTGCCTCCCAGAATCTGGGTCTCCCCTCATCCCATTTAATCTCTTCTCCACCTGGCAGACAGAGTAACTTTATCCAAGTAGAACAGGACACATTCCTTCTCTGCCAGGGCCCTCCTGTGGCTCCATCTCAGAGGAAAAGCCAGGGTCCTTTTTGTGACCCACAGATGTCGTATGCTTGGGTGCCATCACCTCATGACGCTGCCTGCTGTTGTGCCCTGTGCTCACTCCTCTCCAGCCCCAGGGGTCAGTACACTTTTGTCCCTGGCCTGGAGCCTCATGTCCCACTTGCTTATGTCTCAAGTCTTGGCTTAAATGTCACTTCTCAGATGGCCTTCCCTCATGACTCTTCAGATCTGCAACCTCTCTCCAGGATTCCTCATTCCTCTGTCTTGCTTTCTCTCTTCCACTGCACTAATCATTATCTGACATACTGTGTATTTTACTTCATCTTGTTTATTACCCCCCACCCTCACTTATGTCAGAAAAACAGAGCTTTTGTCTGTTTTATTAACGGCTATGTTCCCAGCTTCTGGAATAGTGCTTCAGACATAGTAGACACTCAGAAAACACCCAGACACACTGAGTCAGCTGAATGCATAGATGAAGGAACATCTGCTTGAGGCTGGGGACAGGGAGGTGACTAGTTTCCTTCTGCTGTTCCTTACTTGCCACCCTCAGGCTCTCCTCCATCAGTACTTCTTCACAGCTCCCCTGCCTGCCCATCCATCTGAGCTGCCGATTCCTCAGCGTCTAGGGGGACCTGCCCCCAAGGCCCATCCAGGGCCCCCCCACATCCATGACTTCCACGTGGACCGGCCTCTTGAGGAGTCGCTGTTGAACCCAGAGCTGATTCGGCCCTTCATCCTGGAGGGGTGAGAAGTTGGCCCTGGTCCCGTCTGCCTGCTCCTCAGGACCACTCAGTCCACCTGTTCCTCTGCCACCTGCCTGGCTTCACCCTCCAAGGCCTCCCCATGGCCACAGTGGGCCCACACCACACCCTGCCCCTTAGCCCTTGCGAGGGTTGGTCTCGAGGCAGAGGTCATGTTCCCAGCCAAGAGTATGAGAACATCCAGTCGAGCAGAGGAGATTCATGGCCTGTGCTCGGTGAGCCTTACCTTCTGTGTGCTACTGACGTACCCATCAGGACAGTGAGCTCTGCTGCCAGTCAAGGCCTGCATATGCAGAATGACGATGCCTGCCTTGGTGCTGCTTCCCCGAGTGCTGCCTCCTGGTCAAGGAGAAGTGCAGAGAGTAAGGTGTCCTTATGTTGGAAACTCAAGTGGAAGGAAGATTTGGTTTGGTTTTATTCTCAGAGCCATTAAACACTAGTTCAGTATGTGAGATATAGATTCTAAAAACCTCAGGTGGCTCTGCCTTATGTCTGTTCCTCCTTCATTTCTCTCAAGGGAAATGGCTAAGGTGGCATTGTCTCATGGCTCTCGTTTTTGGGGTCATGGGGAGGGTAGCACCAGGCATAGCCACTTTTGCCCTGAGGGACTCCTGTGTACTTCACATCACTGAGCACTCATTTAGAAGTGAGGGAGACAGAAGTCTAGGCCCAGGGATGGCTCCAGTTGGGGATCCAGCAGGAGACCCTCTGCACATGAGGCTGGTTTACCAACATCTACTCCCTCAGGATGAGCGTGAGCCAGAAGCAGCTGTGTATTTAAGGAAACAAGCGTTCCTGGAATTAATTTATAAATTTAATAAATCCCAATATAATCCCAGCTAGTGCTTTTTCCTTATTATAATTTGATAAGGTGATTATAAAAGATACATGGAAGGAAGTGGAACCAGATGCAGAAGAGGAAATGATGGAAGGACTTACGGTATCAGATACCAATATTTAAAAGTTTGTATAATAATAAAGAGTATGATTGTGGTTCAAGGATAAAAA\",\"desc\":\"chromosome:GRCh38:9:87966441:87974753:-1\",\"version\":17}'"
      ]
     },
     "execution_count": 4,
     "metadata": {},
     "output_type": "execute_result"
    }
   ],
   "source": [
    "base_url = 'https://rest.ensembl.org/'\n",
    "endpoint = 'sequence/id/'\n",
    "seq_id = 'ENSG00000156345'\n",
    "parameters = '?content-type=application/json&type=genomic'\n",
    "gdna_url = base_url + endpoint + seq_id + parameters\n",
    "\n",
    "gdna = urllib.request.urlopen(gdna_url).read()\n",
    "gdna"
   ]
  },
  {
   "cell_type": "code",
   "execution_count": 5,
   "metadata": {
    "scrolled": true,
    "slideshow": {
     "slide_type": "subslide"
    }
   },
   "outputs": [
    {
     "data": {
      "text/plain": [
       "{'molecule': 'dna',\n",
       " 'id': 'ENSG00000156345',\n",
       " 'query': 'ENSG00000156345',\n",
       " 'seq': 'GCTGTCATCGTTCCGTGGGCCCTGCTGCGGGCACGCTCTCGGCGCATGCGTTTTTTATGCGGGATTAAGCTTGCTGCTGCGTGACAGCGGAGGGCTAGGAAAAGGCGCAGTGGGGCCCGGAGCTGTCACCCCTGACTCGACGCAGCTTCCGTTCTCCTGGTGACGTCGCCTACAGGAACCGCCCCAGTGGTCAGCTGCCGCGCTGTTGCTAGGCAACAGCGTGCGAGCTCAGATCAGCGTGGGGTGGAGGAGAAGTGGAGTTTGGAAGTTCAGGGGCACAGGGGCACAGGCCCACGACTGCAGCGGGATGGACCAGTACTGCATCCTGGGCCGCATCGGGGAGGGCGCCCACGGCATCGTCTTCAAGGCCAAGCACGTGGAGGTGAGGCTGGACCGCGGCCGGCAGCCTGGCGGGGGTGTGCCCCCGCCACCCTCCGGCTAACGCTCTAAACTGTTTCGGTTCCCTTTTTACATCCAGTACAGTTTTTAAAACCTACTCATATTCTAAACCTACTTTGGGCCGTTGCGCTTCCCTCCGCACAGCTGGCTTGGTCCCCTACCCCAGCGGCTGGGTCCCAGGCTAGTCCTAGACCCCCGAGGAGGGCCTCTGGCCGAGCCGGGGGCGCGTGTCTCTCTCTCAACCACCTTCCCCTCACCCACCTTCATCTCTCTTTCCCAGCCGAGGGTGGGCTGGCAGTGTCTGCCTTCTATCCTGCAGACTGGCGAGATAGTTGCCCTCAAGAAGGTGGCCCTAAGGCGGTTGGAGGACGGCTTCCCTAACCAGGCCCTGCGGGAGATTAAGGCTCTGCAGGAGATGGAGGACAATCAGTATGTGAGTAGGGGAGGGGGGGCATGGTATTCTCACCCTCAGTCGCTCGTTCCCACTTCTTTGTGCCTTCATTTTCCCAGCTACGCCTTCACCAGCTTTCAGGGATTTCCTCCCGCTGTCACTCACACACACTGCTCATTCATCTGCCTCCTTACCCCCTTTTGCCCTTTTTTGTCCACTTGTTCACCTTTATTTACCTATTTCTTTCATTTCTCACACATTCACTCTCATTTGCCTACTTATTTCTTAATGTATTCATTCATTCACCGACTTTTTTTCTCAAAACATGTAGTGATTTATAATGTAACTAGCACCTATTGAGCTCCCGATGTGTTCTGCAGGCATTATATACATTGTCATTTTGAGACCTCTTTACTACTGTACAAGGCAGGTTTCCAGATCTCTGTTTCTCAGGTGAGAGGAGGAGGTTATGTCACCAGCTCTTGGGCCCTCCGTTAGTCAGTAGAGGGTTTGGCCCAGGTTTGATTGAGAGTCCATTCTTCCCTTGGGACCTCCCATAGGCTCTACCCTGTGTTGGGCACTGGTGACACAGAGAAACCAGCTCCAGCCCAGCTCCTGAGGACTTAAGTGTGCTAACAAGAGACAGAGGCAACAGGGCCCACCTAGTGTGGTTCGTGCTGTGATAGGGTACCGGGAGGGGCTGCTGGAACACGAAGAGGGGCATCTTTCACCCCTAGTGTCATTACTCTTTTGGTGCTCTCTCTCACCCATGTCGAAATAGGGAATGTATTTGACTCCCTGGAGAGTTAACAGGGTTGGGTCTCTGTGATCTGGAGATATGCATGATATATTGGATGACAAAAGCATGTTATAAAATTTTGTGTCATCTGGGTTTTGTTTGGAAATATTATATATGTGAATGTGTATTTGTGTGTGCCATATCTGTTGTAAAGTCTGGTAGAATACACTCTAAGATTGACTGTAGGATTTTTCTTTTGTTCTTTTTCTGTTGGATTTTATGTCTTACCTGAATGTGTGCATGTGTTTTGATCTGTTAAATGGTTGTGTACTACCTGAAAAATCCGAAAACAGCAATCAGGCCATTTTGATTTTTTGAGGAAGATAAAAGGGCTTCCAGACAGCCATGTGTGGGATAGGTGGAGAGATCCATAAGGAAGCTGGTGATATGGTCCCTACATCCAGTTGGTCAGCAATTCTGAAGGTTCTAACTTTAAAACATACTCTAGATTTGCTCCTTGCCCAAGTCATCATCACCACTCATCAGAATGACAGTGGCAGCCTCCCCACTGCTCTCCATAGCCACAGTCCGGAGGGCTTTGTCAAAAGTGTAAGTTAAGTCATCGGCTCCCCTGCGTAAAAAGCCCTGGTGGCTTCTCTTCACACTTAGAGCACTATCACCATGTGCCCACCTCCAGCTGGCCTCTCCCTTTTCTCTCATTCAACACAACTTCTTAGGCATCTCTCCAGTGACCAGCACCTATCTAGGGTCCAGGAGCACAGAACAAGGCAGACACATCCTTCCCTTAAACAATCTCATGTACTCACATCCCTCTAGCCTCCTTCTGTGCTGGCGTTAGGGCCTTGCACTTGCTTTTCTTCCTGCTCAGAGCTTTATCCCAGATCCCCACAAACTGGGTCCTCATCTAGCCCCACCCCACCTAAATAAAGAAGTATCCTTTTCTCCACTCACAGAATCACACTATCCTCTTCTAGTTCTGTTGATTTTTTTTCTTTTTTTGATACAGGGTCTCACTCTGTCACCCAGGCTGGAGTGTAGAAGTGCGATTTTGTCTCCCTGTAGTCTCAACCTCCTGGGCTCAGGTGATCCTCCCACCTCAGCTTCCCAAGTAGCTAGGACTACAGGCACGTGTCACCATGCCTGGCTAGTTTTTTGTATTTTTTGTAGAGACAAGGTTTCACCATGTTGCCCAGGCTGGTCTCAAACACCTGGGTTCAAGCCATCCGCCCACCTTGGCCTCTCAAAGTACTGGGATTACGGGCATGAGACGTCATGCCCAGCCCCCTTGTATTTTGGTTCCTGTACTTACAGAATCTGAATATATCCCTTTTATTCATTTATTTGTTAAACTGTTTGTCCTTTGTGCTGTGAGTTCATTAAGAGTCCTGTCTCTCAGCTCACTCTCTGTGTAGCCTGGCTCCTCTGACAGTACTGGCCTCAGTGTTTGTGATGTGTCTGTAGCTGTCCCAGCACTGGGAAAGGTGGGATTCCTGGTGTCCTTTCCTTGGTGCTGGGATTCGGTGGTTCTAGAGGAAACAGGAGGAGACCTGTCCATCTCATGTGTGACCATCCAGATGATTTTCAGGCGGGTAGGCTGGGTGGGCGGACCAGATGGTGCCACTAAATGACCTTTTTTAGACCTTTTAGTGTTCATGGAGAATTAGAGTGGGGGCACACCTTATCTCAGGAGAGCAGAGCAAATCATGAGCATCGAGCTCTCTGATTCTTAGCTCAGGTCCACGTCACCTTCTTTGCTTACTGTCTTTTTGGATACAGGGTCCTCTGTCAGGGCATGGGCTGGGGTCTCAGGGTCACAGAGAGGGTCTGGTGACTTGAGTCTGGGGGCTAACAAGATGTCCTGCCCACAGGTGGTACAACTGAAGGCTGTGTTCCCACACGGTGGAGGCTTTGTGCTGGCCTTTGAGTTCATGCTGTCGGATCTGGCCGAGGTGGTGCGCCATGCCCAGAGGCCACTAGCCCAGGCACAGGTCAAGAGCTACCTGCAGATGCTGCTCAAGGGTGTCGCCTTCTGCCATGCCAACAACATTGTACATCGGGTCAGTCTCAGCATAGGCCGGGCATGGGGTCTGGGGAGCTGACTTGGCTTGGGGATGGGGCTAGCCCTTGTAAAAGGTGTGATAAGAAGTTGGGACAGAGCTGGTCAAGGCCTCCAGGTAAGTGGCCAGGGCATGGCCCTGGAGGAGGTGGGGACCGGGGCTGACCTGAGTGGTTAGACTGCCAAGCCCGCTTGTCCCAAGGTCCTATGGGGGATTTGGAGGGACTGATGCTTCTTTTGGTACTCCCAGGACCTGAAACCTGCCAACCTGCTCATCAGCGCCTCAGGCCAGCTCAAGATAGCGGACTTTGGCCTGGCTCGAGTCTTTTCCCCAGACGGCAGCCGCCTCTACACACACCAGGTGGCCACCAGGTAGGGAGGGCCAGATCCCTTCCAGTCTTCTCCATGGGGAAGAGATGCTTCTGGGCCTTTTCTCCAGACATTGCTTGTGGGGCTGGGGTCACCTCCCCAGGCATCCTTTTCTCAGCCCAGTGCCTGCCAGCCCTCTTCCTCGCAGGTGGTACCGAGCCCCCGAGCTCCTGTATGGTGCCCGCCAGTATGACCAGGGCGTCGATCTGTGGTGAGACCCCTGTGGGTGGTCAAAGGGTAACATGGCTCATGGATTTCTGCTAGGCTCTGAGGTCTCTGAGCTGTTTGGTGGTCTTTTCCCTGGTGGGAGTTTAGGCTTCCTTAAGGGTGTCTTCCCTGGTTGGGGTATTCTGAGCACTTTGGGGTTGGGGTTCCTCACTATGATGTTTTCGAGCTGGGTAGGGGCCAGGTGGGATGAGAATGGTGGTCCCAGGTGGGAAGCTTTCTGGGCTAGATGGGGAGGTGGTCTGAGCCGATATGTGCTGGAGTTAGATCCTAGGATATGGCATCTCTGAGCTGGTCAGAGGCCTGTGTCCTTGGACATGAAAGCTCTGAGCTTGTTTTGCAGCAAGAAGATAGTTGGCAGTGCCCATGGGTCTGAGATTTGGGGCAGGTTTGCAGGTCTGCCCCAGAAGTGTCCTAGAGCAGGAGTCTCCGAGAAGTCTTGGAACAGCTGGGGCTTTGCTCTGGGTTCTAGGGTTGAGGGCTTTGAGGGTTCAGGGACTGGGCCTCTGGACGTGAGGCTCCAGGGCTGGCTTGTGGGGCCTTGCCCTGGAGTGCAGTGTTAGAGCTGCTCTGTGGGTGGGTCTGTGGTCCATGGTGGGAGATCTCTGACCTGCTTGGGGCTCTGTGTCCACAGGTCTGTGGGCTGCATCATGGGGGAGCTGTTGAATGGGTCCCCCCTTTTCCCGGGCAAGAACGATATTGAACAGCTTTGCTATGTGCTTCGCATCTTGGGCACCCCAAACCCTCAAGTCTGGCCGGTTTGTAGGGGCCCTTGGTGAGGTGGGTGTGGGGCAGGTTTACTCCACTCCCAACAGCAAGTAACCACTCCCTCCCCTGAACCTTCTCTCTCCTGGCCCCAACCCCCCTTGATGGACAGGGACCACTGTCCTGGCCCAACTCAGGGCTTCCTCCTTCCTGCTGTCATTTGGGTTGGGGTAGATCCTGTCCTTTGTCCCTTTTCACCCCAGTACACACATGTGCAGTGTCTCAGCAAGCTGTGCACAGAGTCGTCATCTGAGAGGGCAAGGGGATGGATGAAGGAATACAGGGGTGGGTGAGTGAATGAATGATGGGTCAGGGAGACACATGGATGGGAGAGCACCCCCCATGTGAGTGTGTGTTAGGGGCTGAGAGTTGACAGCAGAGAGCATGGCAAGGGTCGGGAACTACTCTCATTGTACCCTGTTCCTTCTCCCTGGCCCAGGAGCTCACTGAGCTGCCGGACTACAACAAGATCTCCTTTAAGGAGCAGGTGCCCATGCCCCTGGAGGAGGTGCTGCCTGACGTCTCTCCCCAGGCATTGGATCTGCTGGGTCAATTCCTTCTCTACCCTCCTCACCAGCGCATCGCAGCTTCCAAGGTAGGGGGAGAGGCTGTAGTCTCTGCTCCTTCAGCTCCCCTCCCCATCACCCTGGTACTCTGTACTTGGTAGCCATGTGACCCCATCACATCAGCGACCCTCAGAACCTGTGATTGGCATGGACCAGCACCAGACATCTGGAACCCAGGGGACAGGGGCCTTGGAGCAGGTGTGCCTCTCATGAGTAGACCCCACTGGACATCCCCAGACTTCCCCTGAGGGTGGCCCATACGAGGGGCATGCCCAACTCTCAGGAGAGCGCGTGTCCGGGAGTGCAGGTTTCTGGGCTGCCCCTGACCCTGTGGCAGATACAGTAAGAGAGTCACTGGGGACTCATTCCTTTATTCCATTAGCAAGTATTTTCTGCACATCTGGCACATGCAGGGATTGTCCTGGGCCCTGCACAGATGGTAAACAATCAGTCCTACCTCCGCGGGGCACTCCTGGTGGTGAGGTAGCTCCAGGTCCAAAAGGTCACAAGAGGTCATGTTCTCCAGCTGTGGGAGCCCCAGGAGAGAGGCAAGGCCGACTTTGGGGTCAAGCAAAGCTTCCTGGTGGAGGGCAGGTTTAAGCATGAGATGTTTGAGGAGGTGTTCGCTGAAGAGAGAAATGGTGGGCAGAGGCCTGGAAGAGAGGACCCAGGAAGGCTGGTTATGGCTGGTAGGCCTGGGAGGACGATGACCACAGGAGCATGGGCTGACAGGTGTCAGGGTGTCTCTCAGGGGTCCCTGTCCCCTCCCTGCACTCAGCACCAGCCGCGTGTGTTTACATACGCCCTCTTGGTCTCCACTGTCAGCAGCTCCTGTGGGCTCTGTGTCCACAGTGTACCCAAGCCGTGTGACCCTTATCTCTTGGGTTGCCTCCCAGAATCTGGGTCTCCCCTCATCCCATTTAATCTCTTCTCCACCTGGCAGACAGAGTAACTTTATCCAAGTAGAACAGGACACATTCCTTCTCTGCCAGGGCCCTCCTGTGGCTCCATCTCAGAGGAAAAGCCAGGGTCCTTTTTGTGACCCACAGATGTCGTATGCTTGGGTGCCATCACCTCATGACGCTGCCTGCTGTTGTGCCCTGTGCTCACTCCTCTCCAGCCCCAGGGGTCAGTACACTTTTGTCCCTGGCCTGGAGCCTCATGTCCCACTTGCTTATGTCTCAAGTCTTGGCTTAAATGTCACTTCTCAGATGGCCTTCCCTCATGACTCTTCAGATCTGCAACCTCTCTCCAGGATTCCTCATTCCTCTGTCTTGCTTTCTCTCTTCCACTGCACTAATCATTATCTGACATACTGTGTATTTTACTTCATCTTGTTTATTACCCCCCACCCTCACTTATGTCAGAAAAACAGAGCTTTTGTCTGTTTTATTAACGGCTATGTTCCCAGCTTCTGGAATAGTGCTTCAGACATAGTAGACACTCAGAAAACACCCAGACACACTGAGTCAGCTGAATGCATAGATGAAGGAACATCTGCTTGAGGCTGGGGACAGGGAGGTGACTAGTTTCCTTCTGCTGTTCCTTACTTGCCACCCTCAGGCTCTCCTCCATCAGTACTTCTTCACAGCTCCCCTGCCTGCCCATCCATCTGAGCTGCCGATTCCTCAGCGTCTAGGGGGACCTGCCCCCAAGGCCCATCCAGGGCCCCCCCACATCCATGACTTCCACGTGGACCGGCCTCTTGAGGAGTCGCTGTTGAACCCAGAGCTGATTCGGCCCTTCATCCTGGAGGGGTGAGAAGTTGGCCCTGGTCCCGTCTGCCTGCTCCTCAGGACCACTCAGTCCACCTGTTCCTCTGCCACCTGCCTGGCTTCACCCTCCAAGGCCTCCCCATGGCCACAGTGGGCCCACACCACACCCTGCCCCTTAGCCCTTGCGAGGGTTGGTCTCGAGGCAGAGGTCATGTTCCCAGCCAAGAGTATGAGAACATCCAGTCGAGCAGAGGAGATTCATGGCCTGTGCTCGGTGAGCCTTACCTTCTGTGTGCTACTGACGTACCCATCAGGACAGTGAGCTCTGCTGCCAGTCAAGGCCTGCATATGCAGAATGACGATGCCTGCCTTGGTGCTGCTTCCCCGAGTGCTGCCTCCTGGTCAAGGAGAAGTGCAGAGAGTAAGGTGTCCTTATGTTGGAAACTCAAGTGGAAGGAAGATTTGGTTTGGTTTTATTCTCAGAGCCATTAAACACTAGTTCAGTATGTGAGATATAGATTCTAAAAACCTCAGGTGGCTCTGCCTTATGTCTGTTCCTCCTTCATTTCTCTCAAGGGAAATGGCTAAGGTGGCATTGTCTCATGGCTCTCGTTTTTGGGGTCATGGGGAGGGTAGCACCAGGCATAGCCACTTTTGCCCTGAGGGACTCCTGTGTACTTCACATCACTGAGCACTCATTTAGAAGTGAGGGAGACAGAAGTCTAGGCCCAGGGATGGCTCCAGTTGGGGATCCAGCAGGAGACCCTCTGCACATGAGGCTGGTTTACCAACATCTACTCCCTCAGGATGAGCGTGAGCCAGAAGCAGCTGTGTATTTAAGGAAACAAGCGTTCCTGGAATTAATTTATAAATTTAATAAATCCCAATATAATCCCAGCTAGTGCTTTTTCCTTATTATAATTTGATAAGGTGATTATAAAAGATACATGGAAGGAAGTGGAACCAGATGCAGAAGAGGAAATGATGGAAGGACTTACGGTATCAGATACCAATATTTAAAAGTTTGTATAATAATAAAGAGTATGATTGTGGTTCAAGGATAAAAA',\n",
       " 'desc': 'chromosome:GRCh38:9:87966441:87974753:-1',\n",
       " 'version': 17}"
      ]
     },
     "execution_count": 5,
     "metadata": {},
     "output_type": "execute_result"
    }
   ],
   "source": [
    "# import json\n",
    "gdna = json.loads(gdna)\n",
    "gdna"
   ]
  },
  {
   "cell_type": "code",
   "execution_count": 6,
   "metadata": {
    "slideshow": {
     "slide_type": "subslide"
    }
   },
   "outputs": [
    {
     "name": "stdout",
     "output_type": "stream",
     "text": [
      "molecule: dna\n",
      "      id: ENSG00000156345\n",
      "   query: ENSG00000156345\n",
      "     seq: GCTGTCATCGTTCCGTGGGCCCTGCTGCGGGCACGCTCTC... 8273 more\n",
      "    desc: chromosome:GRCh38:9:87966441:87974753:-1\n",
      " version: 17\n"
     ]
    }
   ],
   "source": [
    "# items() reutrn an iterator with keys and values\n",
    "# the format method allow alignments {:>x}\n",
    "# ternary operators\n",
    "for k, v in gdna.items():\n",
    "    print('{:>8}: {}{}'.format(k, str(v)[:40], '... {} more'.format(len(gdna['seq']) - 40) if k == 'seq' else ''))"
   ]
  },
  {
   "cell_type": "markdown",
   "metadata": {
    "slideshow": {
     "slide_type": "slide"
    }
   },
   "source": [
    "## Retrieve all transcripts relative to a gene\n",
    "By using the same endpoint with different parameters we have access to the transcript(s) of a gene. Remember that a single gene may have **multiple** transcripts.\n",
    "\n",
    "* Sequence endpoint documentation: __[https://rest.ensembl.org/documentation/info/sequence_id](https://rest.ensembl.org/documentation/info/sequence_id)__\n",
    "* Ensembl REST base url `https://rest.ensembl.org/`\n",
    "* Sequence endpoint     `sequence/id/`\n",
    "* Gene id               `ENSG00000156345`\n",
    "* python function       `urllib.request.urlopen(URL).read()`\n",
    "* Hint 1: Remember to set the `type` parameter to `cdna` and `cds`\n",
    "* Hint 2: You need to account for the multiple sequences in the response setting the parameter `multiple_sequences=1`\n",
    "\n",
    "Try to answer these questions:\n",
    "* How many cdna transcripts do you find? How many cds transcripts? \n",
    "* Can you imagine why the numbers are different? \n",
    "* Do you notice any differences in the sequences of cdna and cds transcripts?\n",
    "* Why do you think they are different?"
   ]
  },
  {
   "cell_type": "code",
   "execution_count": 7,
   "metadata": {
    "slideshow": {
     "slide_type": "slide"
    }
   },
   "outputs": [
    {
     "data": {
      "text/html": [
       "<div>\n",
       "<style scoped>\n",
       "    .dataframe tbody tr th:only-of-type {\n",
       "        vertical-align: middle;\n",
       "    }\n",
       "\n",
       "    .dataframe tbody tr th {\n",
       "        vertical-align: top;\n",
       "    }\n",
       "\n",
       "    .dataframe thead th {\n",
       "        text-align: right;\n",
       "    }\n",
       "</style>\n",
       "<table border=\"1\" class=\"dataframe\">\n",
       "  <thead>\n",
       "    <tr style=\"text-align: right;\">\n",
       "      <th></th>\n",
       "      <th>desc</th>\n",
       "      <th>molecule</th>\n",
       "      <th>query</th>\n",
       "      <th>seq</th>\n",
       "      <th>version</th>\n",
       "    </tr>\n",
       "    <tr>\n",
       "      <th>id</th>\n",
       "      <th></th>\n",
       "      <th></th>\n",
       "      <th></th>\n",
       "      <th></th>\n",
       "      <th></th>\n",
       "    </tr>\n",
       "  </thead>\n",
       "  <tbody>\n",
       "    <tr>\n",
       "      <th>ENST00000459720</th>\n",
       "      <td>None</td>\n",
       "      <td>dna</td>\n",
       "      <td>ENSG00000156345</td>\n",
       "      <td>GCTTGCTGCTGCGTGACAGCGGAGGGCTAGGAAAAGGCGCAGTGGG...</td>\n",
       "      <td>5</td>\n",
       "    </tr>\n",
       "    <tr>\n",
       "      <th>ENST00000603475</th>\n",
       "      <td>None</td>\n",
       "      <td>dna</td>\n",
       "      <td>ENSG00000156345</td>\n",
       "      <td>CGTGCGAGCTCAGATCAGCGTGGGGTGGAGGAGAAGTGGAGTTTGG...</td>\n",
       "      <td>1</td>\n",
       "    </tr>\n",
       "    <tr>\n",
       "      <th>ENST00000336654</th>\n",
       "      <td>None</td>\n",
       "      <td>dna</td>\n",
       "      <td>ENSG00000156345</td>\n",
       "      <td>GTCGCCTACAGGAACCGCCCCAGTGGTCAGCTGCCGCGCTGTTGCT...</td>\n",
       "      <td>9</td>\n",
       "    </tr>\n",
       "    <tr>\n",
       "      <th>ENST00000375883</th>\n",
       "      <td>None</td>\n",
       "      <td>dna</td>\n",
       "      <td>ENSG00000156345</td>\n",
       "      <td>GCTGTCATCGTTCCGTGGGCCCTGCTGCGGGCACGCTCTCGGCGCA...</td>\n",
       "      <td>7</td>\n",
       "    </tr>\n",
       "    <tr>\n",
       "      <th>ENST00000375871</th>\n",
       "      <td>None</td>\n",
       "      <td>dna</td>\n",
       "      <td>ENSG00000156345</td>\n",
       "      <td>AGTTCAGGGGCACAGGGGCACAGGCCCACGACTGCAGCGGGATGGA...</td>\n",
       "      <td>8</td>\n",
       "    </tr>\n",
       "    <tr>\n",
       "      <th>ENST00000605159</th>\n",
       "      <td>None</td>\n",
       "      <td>dna</td>\n",
       "      <td>ENSG00000156345</td>\n",
       "      <td>GGAGAAGTGGAGTTTGGAAGTTCAGGGGCACAGGGGCACAGGCCCA...</td>\n",
       "      <td>5</td>\n",
       "    </tr>\n",
       "    <tr>\n",
       "      <th>ENST00000325303</th>\n",
       "      <td>None</td>\n",
       "      <td>dna</td>\n",
       "      <td>ENSG00000156345</td>\n",
       "      <td>CTGTCATCGTTCCGTGGGCCCTGCTGCGGGCACGCTCTCGGCGCAT...</td>\n",
       "      <td>8</td>\n",
       "    </tr>\n",
       "    <tr>\n",
       "      <th>ENST00000486228</th>\n",
       "      <td>None</td>\n",
       "      <td>dna</td>\n",
       "      <td>ENSG00000156345</td>\n",
       "      <td>TTTTATGCGGGATTAAGCTTGCTGCTGCGTGACAGCGGAGGGCTAG...</td>\n",
       "      <td>7</td>\n",
       "    </tr>\n",
       "    <tr>\n",
       "      <th>ENST00000604175</th>\n",
       "      <td>None</td>\n",
       "      <td>dna</td>\n",
       "      <td>ENSG00000156345</td>\n",
       "      <td>GCGAGCTCAGATCAGCGTGGGGTGGAGGAGAAGTGGAGTTTGGAAG...</td>\n",
       "      <td>5</td>\n",
       "    </tr>\n",
       "    <tr>\n",
       "      <th>ENST00000605591</th>\n",
       "      <td>None</td>\n",
       "      <td>dna</td>\n",
       "      <td>ENSG00000156345</td>\n",
       "      <td>GCGAGCTCAGATCAGCGTGGGGTGGAGGAGAAGTGGAGTTTGGAAG...</td>\n",
       "      <td>1</td>\n",
       "    </tr>\n",
       "  </tbody>\n",
       "</table>\n",
       "</div>"
      ],
      "text/plain": [
       "                 desc molecule            query  \\\n",
       "id                                                \n",
       "ENST00000459720  None      dna  ENSG00000156345   \n",
       "ENST00000603475  None      dna  ENSG00000156345   \n",
       "ENST00000336654  None      dna  ENSG00000156345   \n",
       "ENST00000375883  None      dna  ENSG00000156345   \n",
       "ENST00000375871  None      dna  ENSG00000156345   \n",
       "ENST00000605159  None      dna  ENSG00000156345   \n",
       "ENST00000325303  None      dna  ENSG00000156345   \n",
       "ENST00000486228  None      dna  ENSG00000156345   \n",
       "ENST00000604175  None      dna  ENSG00000156345   \n",
       "ENST00000605591  None      dna  ENSG00000156345   \n",
       "\n",
       "                                                               seq  version  \n",
       "id                                                                           \n",
       "ENST00000459720  GCTTGCTGCTGCGTGACAGCGGAGGGCTAGGAAAAGGCGCAGTGGG...        5  \n",
       "ENST00000603475  CGTGCGAGCTCAGATCAGCGTGGGGTGGAGGAGAAGTGGAGTTTGG...        1  \n",
       "ENST00000336654  GTCGCCTACAGGAACCGCCCCAGTGGTCAGCTGCCGCGCTGTTGCT...        9  \n",
       "ENST00000375883  GCTGTCATCGTTCCGTGGGCCCTGCTGCGGGCACGCTCTCGGCGCA...        7  \n",
       "ENST00000375871  AGTTCAGGGGCACAGGGGCACAGGCCCACGACTGCAGCGGGATGGA...        8  \n",
       "ENST00000605159  GGAGAAGTGGAGTTTGGAAGTTCAGGGGCACAGGGGCACAGGCCCA...        5  \n",
       "ENST00000325303  CTGTCATCGTTCCGTGGGCCCTGCTGCGGGCACGCTCTCGGCGCAT...        8  \n",
       "ENST00000486228  TTTTATGCGGGATTAAGCTTGCTGCTGCGTGACAGCGGAGGGCTAG...        7  \n",
       "ENST00000604175  GCGAGCTCAGATCAGCGTGGGGTGGAGGAGAAGTGGAGTTTGGAAG...        5  \n",
       "ENST00000605591  GCGAGCTCAGATCAGCGTGGGGTGGAGGAGAAGTGGAGTTTGGAAG...        1  "
      ]
     },
     "execution_count": 7,
     "metadata": {},
     "output_type": "execute_result"
    }
   ],
   "source": [
    "# import urllib.request, json\n",
    "# import pandas as pd\n",
    "params = '?content-type=application/json&type=cdna&multiple_sequences=1'\n",
    "cdna_url = base_url + endpoint + seq_id + params\n",
    "cdna = urllib.request.urlopen(cdna_url).read()\n",
    "pd.DataFrame.from_dict(json.loads(cdna)).set_index('id')"
   ]
  },
  {
   "cell_type": "code",
   "execution_count": 8,
   "metadata": {
    "slideshow": {
     "slide_type": "-"
    }
   },
   "outputs": [
    {
     "data": {
      "text/html": [
       "<div>\n",
       "<style scoped>\n",
       "    .dataframe tbody tr th:only-of-type {\n",
       "        vertical-align: middle;\n",
       "    }\n",
       "\n",
       "    .dataframe tbody tr th {\n",
       "        vertical-align: top;\n",
       "    }\n",
       "\n",
       "    .dataframe thead th {\n",
       "        text-align: right;\n",
       "    }\n",
       "</style>\n",
       "<table border=\"1\" class=\"dataframe\">\n",
       "  <thead>\n",
       "    <tr style=\"text-align: right;\">\n",
       "      <th></th>\n",
       "      <th>desc</th>\n",
       "      <th>molecule</th>\n",
       "      <th>query</th>\n",
       "      <th>seq</th>\n",
       "      <th>version</th>\n",
       "    </tr>\n",
       "    <tr>\n",
       "      <th>id</th>\n",
       "      <th></th>\n",
       "      <th></th>\n",
       "      <th></th>\n",
       "      <th></th>\n",
       "      <th></th>\n",
       "    </tr>\n",
       "  </thead>\n",
       "  <tbody>\n",
       "    <tr>\n",
       "      <th>ENST00000336654</th>\n",
       "      <td>None</td>\n",
       "      <td>dna</td>\n",
       "      <td>ENSG00000156345</td>\n",
       "      <td>ATGGACCAGTACTGCATCCTGGGCCGCATCGGGGAGGGCGCCCACG...</td>\n",
       "      <td>9</td>\n",
       "    </tr>\n",
       "    <tr>\n",
       "      <th>ENST00000375883</th>\n",
       "      <td>None</td>\n",
       "      <td>dna</td>\n",
       "      <td>ENSG00000156345</td>\n",
       "      <td>ATGGACCAGTACTGCATCCTGGGCCGCATCGGGGAGGGCGCCCACG...</td>\n",
       "      <td>7</td>\n",
       "    </tr>\n",
       "    <tr>\n",
       "      <th>ENST00000375871</th>\n",
       "      <td>None</td>\n",
       "      <td>dna</td>\n",
       "      <td>ENSG00000156345</td>\n",
       "      <td>ATGGACCAGTACTGCATCCTGGGCCGCATCGGGGAGGGCGCCCACG...</td>\n",
       "      <td>8</td>\n",
       "    </tr>\n",
       "    <tr>\n",
       "      <th>ENST00000605159</th>\n",
       "      <td>None</td>\n",
       "      <td>dna</td>\n",
       "      <td>ENSG00000156345</td>\n",
       "      <td>ATGGACCAGTACTGCATCCTGGGCCGCATCGGGGAGGGCGCCCACG...</td>\n",
       "      <td>5</td>\n",
       "    </tr>\n",
       "    <tr>\n",
       "      <th>ENST00000325303</th>\n",
       "      <td>None</td>\n",
       "      <td>dna</td>\n",
       "      <td>ENSG00000156345</td>\n",
       "      <td>ATGGACCAGTACTGCATCCTGGGCCGCATCGGGGAGGGCGCCCACG...</td>\n",
       "      <td>8</td>\n",
       "    </tr>\n",
       "  </tbody>\n",
       "</table>\n",
       "</div>"
      ],
      "text/plain": [
       "                 desc molecule            query  \\\n",
       "id                                                \n",
       "ENST00000336654  None      dna  ENSG00000156345   \n",
       "ENST00000375883  None      dna  ENSG00000156345   \n",
       "ENST00000375871  None      dna  ENSG00000156345   \n",
       "ENST00000605159  None      dna  ENSG00000156345   \n",
       "ENST00000325303  None      dna  ENSG00000156345   \n",
       "\n",
       "                                                               seq  version  \n",
       "id                                                                           \n",
       "ENST00000336654  ATGGACCAGTACTGCATCCTGGGCCGCATCGGGGAGGGCGCCCACG...        9  \n",
       "ENST00000375883  ATGGACCAGTACTGCATCCTGGGCCGCATCGGGGAGGGCGCCCACG...        7  \n",
       "ENST00000375871  ATGGACCAGTACTGCATCCTGGGCCGCATCGGGGAGGGCGCCCACG...        8  \n",
       "ENST00000605159  ATGGACCAGTACTGCATCCTGGGCCGCATCGGGGAGGGCGCCCACG...        5  \n",
       "ENST00000325303  ATGGACCAGTACTGCATCCTGGGCCGCATCGGGGAGGGCGCCCACG...        8  "
      ]
     },
     "execution_count": 8,
     "metadata": {},
     "output_type": "execute_result"
    }
   ],
   "source": [
    "cds_url = base_url + endpoint + seq_id + params.replace('cdna', 'cds')\n",
    "cds = json.loads(urllib.request.urlopen(cds_url).read())\n",
    "pd.DataFrame.from_dict(cds).set_index('id')"
   ]
  },
  {
   "cell_type": "markdown",
   "metadata": {
    "slideshow": {
     "slide_type": "slide"
    }
   },
   "source": [
    "## Retrieve exons of a gene\n",
    "Ensembl APIs allow to get the list of exons found in a genomic region throught the `overlap` endpoint. \n",
    "\n",
    "This endpoint allows to find sequence features overlapping a genomic regions, in this case `feature=exon`.\n",
    "\n"
   ]
  },
  {
   "cell_type": "code",
   "execution_count": 9,
   "metadata": {
    "slideshow": {
     "slide_type": "-"
    }
   },
   "outputs": [
    {
     "data": {
      "text/html": [
       "<div>\n",
       "<style scoped>\n",
       "    .dataframe tbody tr th:only-of-type {\n",
       "        vertical-align: middle;\n",
       "    }\n",
       "\n",
       "    .dataframe tbody tr th {\n",
       "        vertical-align: top;\n",
       "    }\n",
       "\n",
       "    .dataframe thead th {\n",
       "        text-align: right;\n",
       "    }\n",
       "</style>\n",
       "<table border=\"1\" class=\"dataframe\">\n",
       "  <thead>\n",
       "    <tr style=\"text-align: right;\">\n",
       "      <th></th>\n",
       "      <th>Parent</th>\n",
       "      <th>assembly_name</th>\n",
       "      <th>constitutive</th>\n",
       "      <th>end</th>\n",
       "      <th>ensembl_end_phase</th>\n",
       "      <th>ensembl_phase</th>\n",
       "      <th>exon_id</th>\n",
       "      <th>feature_type</th>\n",
       "      <th>rank</th>\n",
       "      <th>seq_region_name</th>\n",
       "      <th>source</th>\n",
       "      <th>start</th>\n",
       "      <th>strand</th>\n",
       "      <th>version</th>\n",
       "    </tr>\n",
       "    <tr>\n",
       "      <th>id</th>\n",
       "      <th></th>\n",
       "      <th></th>\n",
       "      <th></th>\n",
       "      <th></th>\n",
       "      <th></th>\n",
       "      <th></th>\n",
       "      <th></th>\n",
       "      <th></th>\n",
       "      <th></th>\n",
       "      <th></th>\n",
       "      <th></th>\n",
       "      <th></th>\n",
       "      <th></th>\n",
       "      <th></th>\n",
       "    </tr>\n",
       "  </thead>\n",
       "  <tbody>\n",
       "    <tr>\n",
       "      <th>ENSE00001862627</th>\n",
       "      <td>ENST00000459720</td>\n",
       "      <td>GRCh38</td>\n",
       "      <td>0</td>\n",
       "      <td>87974685</td>\n",
       "      <td>-1</td>\n",
       "      <td>-1</td>\n",
       "      <td>ENSE00001862627</td>\n",
       "      <td>exon</td>\n",
       "      <td>1</td>\n",
       "      <td>9</td>\n",
       "      <td>havana</td>\n",
       "      <td>87974372</td>\n",
       "      <td>-1</td>\n",
       "      <td>1</td>\n",
       "    </tr>\n",
       "    <tr>\n",
       "      <th>ENSE00003580906</th>\n",
       "      <td>ENST00000459720</td>\n",
       "      <td>GRCh38</td>\n",
       "      <td>0</td>\n",
       "      <td>87974035</td>\n",
       "      <td>-1</td>\n",
       "      <td>-1</td>\n",
       "      <td>ENSE00003580906</td>\n",
       "      <td>exon</td>\n",
       "      <td>2</td>\n",
       "      <td>9</td>\n",
       "      <td>havana</td>\n",
       "      <td>87973922</td>\n",
       "      <td>-1</td>\n",
       "      <td>1</td>\n",
       "    </tr>\n",
       "    <tr>\n",
       "      <th>ENSE00003551454</th>\n",
       "      <td>ENST00000459720</td>\n",
       "      <td>GRCh38</td>\n",
       "      <td>0</td>\n",
       "      <td>87971335</td>\n",
       "      <td>-1</td>\n",
       "      <td>-1</td>\n",
       "      <td>ENSE00003551454</td>\n",
       "      <td>exon</td>\n",
       "      <td>3</td>\n",
       "      <td>9</td>\n",
       "      <td>havana</td>\n",
       "      <td>87971147</td>\n",
       "      <td>-1</td>\n",
       "      <td>1</td>\n",
       "    </tr>\n",
       "    <tr>\n",
       "      <th>ENSE00001872570</th>\n",
       "      <td>ENST00000459720</td>\n",
       "      <td>GRCh38</td>\n",
       "      <td>0</td>\n",
       "      <td>87970897</td>\n",
       "      <td>-1</td>\n",
       "      <td>-1</td>\n",
       "      <td>ENSE00001872570</td>\n",
       "      <td>exon</td>\n",
       "      <td>4</td>\n",
       "      <td>9</td>\n",
       "      <td>havana</td>\n",
       "      <td>87969194</td>\n",
       "      <td>-1</td>\n",
       "      <td>1</td>\n",
       "    </tr>\n",
       "    <tr>\n",
       "      <th>ENSE00001822512</th>\n",
       "      <td>ENST00000459720</td>\n",
       "      <td>GRCh38</td>\n",
       "      <td>0</td>\n",
       "      <td>87967659</td>\n",
       "      <td>-1</td>\n",
       "      <td>-1</td>\n",
       "      <td>ENSE00001822512</td>\n",
       "      <td>exon</td>\n",
       "      <td>5</td>\n",
       "      <td>9</td>\n",
       "      <td>havana</td>\n",
       "      <td>87966441</td>\n",
       "      <td>-1</td>\n",
       "      <td>1</td>\n",
       "    </tr>\n",
       "  </tbody>\n",
       "</table>\n",
       "</div>"
      ],
      "text/plain": [
       "                          Parent assembly_name  constitutive       end  \\\n",
       "id                                                                       \n",
       "ENSE00001862627  ENST00000459720        GRCh38             0  87974685   \n",
       "ENSE00003580906  ENST00000459720        GRCh38             0  87974035   \n",
       "ENSE00003551454  ENST00000459720        GRCh38             0  87971335   \n",
       "ENSE00001872570  ENST00000459720        GRCh38             0  87970897   \n",
       "ENSE00001822512  ENST00000459720        GRCh38             0  87967659   \n",
       "\n",
       "                 ensembl_end_phase  ensembl_phase          exon_id  \\\n",
       "id                                                                   \n",
       "ENSE00001862627                 -1             -1  ENSE00001862627   \n",
       "ENSE00003580906                 -1             -1  ENSE00003580906   \n",
       "ENSE00003551454                 -1             -1  ENSE00003551454   \n",
       "ENSE00001872570                 -1             -1  ENSE00001872570   \n",
       "ENSE00001822512                 -1             -1  ENSE00001822512   \n",
       "\n",
       "                feature_type  rank seq_region_name  source     start  strand  \\\n",
       "id                                                                             \n",
       "ENSE00001862627         exon     1               9  havana  87974372      -1   \n",
       "ENSE00003580906         exon     2               9  havana  87973922      -1   \n",
       "ENSE00003551454         exon     3               9  havana  87971147      -1   \n",
       "ENSE00001872570         exon     4               9  havana  87969194      -1   \n",
       "ENSE00001822512         exon     5               9  havana  87966441      -1   \n",
       "\n",
       "                 version  \n",
       "id                        \n",
       "ENSE00001862627        1  \n",
       "ENSE00003580906        1  \n",
       "ENSE00003551454        1  \n",
       "ENSE00001872570        1  \n",
       "ENSE00001822512        1  "
      ]
     },
     "execution_count": 9,
     "metadata": {},
     "output_type": "execute_result"
    }
   ],
   "source": [
    "exons_url = base_url + 'overlap/id/' + seq_id + '?content-type=application/json&feature=exon'\n",
    "exons = urllib.request.urlopen(exons_url).read()\n",
    "exons = json.loads(exons)\n",
    "pd.DataFrame.from_dict(exons).set_index('id').head()"
   ]
  },
  {
   "cell_type": "code",
   "execution_count": 10,
   "metadata": {},
   "outputs": [
    {
     "data": {
      "text/plain": [
       "55"
      ]
     },
     "execution_count": 10,
     "metadata": {},
     "output_type": "execute_result"
    }
   ],
   "source": [
    "len(exons)"
   ]
  },
  {
   "cell_type": "markdown",
   "metadata": {
    "slideshow": {
     "slide_type": "slide"
    }
   },
   "source": [
    "There are so many exons because in Ensembl exons are redundant. Each transcript has its own set of exons even if they are the same exact genomic region.\n",
    "\n",
    "Exons have parents transcript identified by their `Parent` key.\n",
    "\n",
    "We can filter them by `Parent` key to select only the exons whose parent is the id of one (or all) transcript(s)."
   ]
  },
  {
   "cell_type": "code",
   "execution_count": 11,
   "metadata": {
    "scrolled": false,
    "slideshow": {
     "slide_type": "-"
    }
   },
   "outputs": [
    {
     "data": {
      "text/html": [
       "<div>\n",
       "<style scoped>\n",
       "    .dataframe tbody tr th:only-of-type {\n",
       "        vertical-align: middle;\n",
       "    }\n",
       "\n",
       "    .dataframe tbody tr th {\n",
       "        vertical-align: top;\n",
       "    }\n",
       "\n",
       "    .dataframe thead th {\n",
       "        text-align: right;\n",
       "    }\n",
       "</style>\n",
       "<table border=\"1\" class=\"dataframe\">\n",
       "  <thead>\n",
       "    <tr style=\"text-align: right;\">\n",
       "      <th></th>\n",
       "      <th>Parent</th>\n",
       "      <th>assembly_name</th>\n",
       "      <th>constitutive</th>\n",
       "      <th>end</th>\n",
       "      <th>ensembl_end_phase</th>\n",
       "      <th>ensembl_phase</th>\n",
       "      <th>exon_id</th>\n",
       "      <th>feature_type</th>\n",
       "      <th>rank</th>\n",
       "      <th>seq_region_name</th>\n",
       "      <th>source</th>\n",
       "      <th>start</th>\n",
       "      <th>strand</th>\n",
       "      <th>version</th>\n",
       "    </tr>\n",
       "    <tr>\n",
       "      <th>id</th>\n",
       "      <th></th>\n",
       "      <th></th>\n",
       "      <th></th>\n",
       "      <th></th>\n",
       "      <th></th>\n",
       "      <th></th>\n",
       "      <th></th>\n",
       "      <th></th>\n",
       "      <th></th>\n",
       "      <th></th>\n",
       "      <th></th>\n",
       "      <th></th>\n",
       "      <th></th>\n",
       "      <th></th>\n",
       "    </tr>\n",
       "  </thead>\n",
       "  <tbody>\n",
       "    <tr>\n",
       "      <th>ENSE00001890030</th>\n",
       "      <td>ENST00000336654</td>\n",
       "      <td>GRCh38</td>\n",
       "      <td>0</td>\n",
       "      <td>87974589</td>\n",
       "      <td>0</td>\n",
       "      <td>-1</td>\n",
       "      <td>ENSE00001890030</td>\n",
       "      <td>exon</td>\n",
       "      <td>1</td>\n",
       "      <td>9</td>\n",
       "      <td>ensembl_havana</td>\n",
       "      <td>87974372</td>\n",
       "      <td>-1</td>\n",
       "      <td>1</td>\n",
       "    </tr>\n",
       "    <tr>\n",
       "      <th>ENSE00001342208</th>\n",
       "      <td>ENST00000336654</td>\n",
       "      <td>GRCh38</td>\n",
       "      <td>0</td>\n",
       "      <td>87974074</td>\n",
       "      <td>0</td>\n",
       "      <td>0</td>\n",
       "      <td>ENSE00001342208</td>\n",
       "      <td>exon</td>\n",
       "      <td>2</td>\n",
       "      <td>9</td>\n",
       "      <td>ensembl_havana</td>\n",
       "      <td>87973922</td>\n",
       "      <td>-1</td>\n",
       "      <td>2</td>\n",
       "    </tr>\n",
       "    <tr>\n",
       "      <th>ENSE00003501098</th>\n",
       "      <td>ENST00000336654</td>\n",
       "      <td>GRCh38</td>\n",
       "      <td>0</td>\n",
       "      <td>87971335</td>\n",
       "      <td>0</td>\n",
       "      <td>0</td>\n",
       "      <td>ENSE00003501098</td>\n",
       "      <td>exon</td>\n",
       "      <td>3</td>\n",
       "      <td>9</td>\n",
       "      <td>ensembl_havana</td>\n",
       "      <td>87971147</td>\n",
       "      <td>-1</td>\n",
       "      <td>1</td>\n",
       "    </tr>\n",
       "    <tr>\n",
       "      <th>ENSE00003471288</th>\n",
       "      <td>ENST00000336654</td>\n",
       "      <td>GRCh38</td>\n",
       "      <td>0</td>\n",
       "      <td>87970897</td>\n",
       "      <td>2</td>\n",
       "      <td>0</td>\n",
       "      <td>ENSE00003471288</td>\n",
       "      <td>exon</td>\n",
       "      <td>4</td>\n",
       "      <td>9</td>\n",
       "      <td>ensembl_havana</td>\n",
       "      <td>87970776</td>\n",
       "      <td>-1</td>\n",
       "      <td>1</td>\n",
       "    </tr>\n",
       "    <tr>\n",
       "      <th>ENSE00003508198</th>\n",
       "      <td>ENST00000336654</td>\n",
       "      <td>GRCh38</td>\n",
       "      <td>0</td>\n",
       "      <td>87969919</td>\n",
       "      <td>0</td>\n",
       "      <td>2</td>\n",
       "      <td>ENSE00003508198</td>\n",
       "      <td>exon</td>\n",
       "      <td>5</td>\n",
       "      <td>9</td>\n",
       "      <td>ensembl_havana</td>\n",
       "      <td>87969796</td>\n",
       "      <td>-1</td>\n",
       "      <td>1</td>\n",
       "    </tr>\n",
       "    <tr>\n",
       "      <th>ENSE00003535476</th>\n",
       "      <td>ENST00000336654</td>\n",
       "      <td>GRCh38</td>\n",
       "      <td>0</td>\n",
       "      <td>87969349</td>\n",
       "      <td>0</td>\n",
       "      <td>0</td>\n",
       "      <td>ENSE00003535476</td>\n",
       "      <td>exon</td>\n",
       "      <td>6</td>\n",
       "      <td>9</td>\n",
       "      <td>ensembl_havana</td>\n",
       "      <td>87969194</td>\n",
       "      <td>-1</td>\n",
       "      <td>1</td>\n",
       "    </tr>\n",
       "    <tr>\n",
       "      <th>ENSE00001902992</th>\n",
       "      <td>ENST00000336654</td>\n",
       "      <td>GRCh38</td>\n",
       "      <td>0</td>\n",
       "      <td>87967659</td>\n",
       "      <td>-1</td>\n",
       "      <td>0</td>\n",
       "      <td>ENSE00001902992</td>\n",
       "      <td>exon</td>\n",
       "      <td>7</td>\n",
       "      <td>9</td>\n",
       "      <td>ensembl_havana</td>\n",
       "      <td>87966446</td>\n",
       "      <td>-1</td>\n",
       "      <td>1</td>\n",
       "    </tr>\n",
       "  </tbody>\n",
       "</table>\n",
       "</div>"
      ],
      "text/plain": [
       "                          Parent assembly_name  constitutive       end  \\\n",
       "id                                                                       \n",
       "ENSE00001890030  ENST00000336654        GRCh38             0  87974589   \n",
       "ENSE00001342208  ENST00000336654        GRCh38             0  87974074   \n",
       "ENSE00003501098  ENST00000336654        GRCh38             0  87971335   \n",
       "ENSE00003471288  ENST00000336654        GRCh38             0  87970897   \n",
       "ENSE00003508198  ENST00000336654        GRCh38             0  87969919   \n",
       "ENSE00003535476  ENST00000336654        GRCh38             0  87969349   \n",
       "ENSE00001902992  ENST00000336654        GRCh38             0  87967659   \n",
       "\n",
       "                 ensembl_end_phase  ensembl_phase          exon_id  \\\n",
       "id                                                                   \n",
       "ENSE00001890030                  0             -1  ENSE00001890030   \n",
       "ENSE00001342208                  0              0  ENSE00001342208   \n",
       "ENSE00003501098                  0              0  ENSE00003501098   \n",
       "ENSE00003471288                  2              0  ENSE00003471288   \n",
       "ENSE00003508198                  0              2  ENSE00003508198   \n",
       "ENSE00003535476                  0              0  ENSE00003535476   \n",
       "ENSE00001902992                 -1              0  ENSE00001902992   \n",
       "\n",
       "                feature_type  rank seq_region_name          source     start  \\\n",
       "id                                                                             \n",
       "ENSE00001890030         exon     1               9  ensembl_havana  87974372   \n",
       "ENSE00001342208         exon     2               9  ensembl_havana  87973922   \n",
       "ENSE00003501098         exon     3               9  ensembl_havana  87971147   \n",
       "ENSE00003471288         exon     4               9  ensembl_havana  87970776   \n",
       "ENSE00003508198         exon     5               9  ensembl_havana  87969796   \n",
       "ENSE00003535476         exon     6               9  ensembl_havana  87969194   \n",
       "ENSE00001902992         exon     7               9  ensembl_havana  87966446   \n",
       "\n",
       "                 strand  version  \n",
       "id                                \n",
       "ENSE00001890030      -1        1  \n",
       "ENSE00001342208      -1        2  \n",
       "ENSE00003501098      -1        1  \n",
       "ENSE00003471288      -1        1  \n",
       "ENSE00003508198      -1        1  \n",
       "ENSE00003535476      -1        1  \n",
       "ENSE00001902992      -1        1  "
      ]
     },
     "execution_count": 11,
     "metadata": {},
     "output_type": "execute_result"
    }
   ],
   "source": [
    "transcript = cds[0]['id']\n",
    "exons_example = list(filter(lambda d: d['Parent']==transcript, exons))\n",
    "pd.DataFrame.from_dict(exons_example).set_index('id')"
   ]
  },
  {
   "cell_type": "markdown",
   "metadata": {
    "slideshow": {
     "slide_type": "slide"
    }
   },
   "source": [
    "### Exons usage\n",
    "Not all transcript use the same exons. \n",
    "\n",
    "Some transcripts are shorter because they are assmebled starting from different combination of exons.\n",
    "\n",
    "Furthermore, exons can be assembled in different orders.\n",
    "\n",
    "Luckily not all combinations are viable"
   ]
  },
  {
   "cell_type": "code",
   "execution_count": 12,
   "metadata": {
    "slideshow": {
     "slide_type": "-"
    }
   },
   "outputs": [
    {
     "data": {
      "text/html": [
       "<div>\n",
       "<style scoped>\n",
       "    .dataframe tbody tr th:only-of-type {\n",
       "        vertical-align: middle;\n",
       "    }\n",
       "\n",
       "    .dataframe tbody tr th {\n",
       "        vertical-align: top;\n",
       "    }\n",
       "\n",
       "    .dataframe thead th {\n",
       "        text-align: right;\n",
       "    }\n",
       "</style>\n",
       "<table border=\"1\" class=\"dataframe\">\n",
       "  <thead>\n",
       "    <tr style=\"text-align: right;\">\n",
       "      <th></th>\n",
       "      <th>ENST00000336654</th>\n",
       "      <th>ENST00000375883</th>\n",
       "      <th>ENST00000375871</th>\n",
       "      <th>ENST00000605159</th>\n",
       "      <th>ENST00000325303</th>\n",
       "    </tr>\n",
       "  </thead>\n",
       "  <tbody>\n",
       "    <tr>\n",
       "      <th>1</th>\n",
       "      <td>ENSE00001890030</td>\n",
       "      <td>ENSE00003592303</td>\n",
       "      <td>ENSE00003553919</td>\n",
       "      <td>ENSE00003641963</td>\n",
       "      <td>ENSE00001468688</td>\n",
       "    </tr>\n",
       "    <tr>\n",
       "      <th>2</th>\n",
       "      <td>ENSE00001342208</td>\n",
       "      <td>ENSE00003694606</td>\n",
       "      <td>ENSE00003694606</td>\n",
       "      <td>ENSE00003694606</td>\n",
       "      <td>ENSE00003694606</td>\n",
       "    </tr>\n",
       "    <tr>\n",
       "      <th>3</th>\n",
       "      <td>ENSE00003501098</td>\n",
       "      <td>ENSE00003501098</td>\n",
       "      <td>ENSE00003501098</td>\n",
       "      <td>ENSE00003501098</td>\n",
       "      <td>ENSE00003501098</td>\n",
       "    </tr>\n",
       "    <tr>\n",
       "      <th>4</th>\n",
       "      <td>ENSE00003471288</td>\n",
       "      <td>ENSE00003471288</td>\n",
       "      <td>ENSE00003471288</td>\n",
       "      <td>ENSE00003471288</td>\n",
       "      <td>ENSE00003471288</td>\n",
       "    </tr>\n",
       "    <tr>\n",
       "      <th>5</th>\n",
       "      <td>ENSE00003508198</td>\n",
       "      <td>ENSE00003508198</td>\n",
       "      <td>ENSE00003658341</td>\n",
       "      <td>ENSE00003508198</td>\n",
       "      <td>ENSE00003532544</td>\n",
       "    </tr>\n",
       "    <tr>\n",
       "      <th>6</th>\n",
       "      <td>ENSE00003535476</td>\n",
       "      <td>ENSE00003535476</td>\n",
       "      <td>ENSE00001701771</td>\n",
       "      <td>ENSE00003535476</td>\n",
       "      <td>ENSE00003508198</td>\n",
       "    </tr>\n",
       "    <tr>\n",
       "      <th>7</th>\n",
       "      <td>ENSE00001902992</td>\n",
       "      <td>ENSE00001902992</td>\n",
       "      <td>None</td>\n",
       "      <td>ENSE00003527648</td>\n",
       "      <td>ENSE00003535476</td>\n",
       "    </tr>\n",
       "    <tr>\n",
       "      <th>8</th>\n",
       "      <td>None</td>\n",
       "      <td>None</td>\n",
       "      <td>None</td>\n",
       "      <td>None</td>\n",
       "      <td>ENSE00001902501</td>\n",
       "    </tr>\n",
       "  </tbody>\n",
       "</table>\n",
       "</div>"
      ],
      "text/plain": [
       "0  ENST00000336654  ENST00000375883  ENST00000375871  ENST00000605159  \\\n",
       "1  ENSE00001890030  ENSE00003592303  ENSE00003553919  ENSE00003641963   \n",
       "2  ENSE00001342208  ENSE00003694606  ENSE00003694606  ENSE00003694606   \n",
       "3  ENSE00003501098  ENSE00003501098  ENSE00003501098  ENSE00003501098   \n",
       "4  ENSE00003471288  ENSE00003471288  ENSE00003471288  ENSE00003471288   \n",
       "5  ENSE00003508198  ENSE00003508198  ENSE00003658341  ENSE00003508198   \n",
       "6  ENSE00003535476  ENSE00003535476  ENSE00001701771  ENSE00003535476   \n",
       "7  ENSE00001902992  ENSE00001902992             None  ENSE00003527648   \n",
       "8             None             None             None             None   \n",
       "\n",
       "0  ENST00000325303  \n",
       "1  ENSE00001468688  \n",
       "2  ENSE00003694606  \n",
       "3  ENSE00003501098  \n",
       "4  ENSE00003471288  \n",
       "5  ENSE00003532544  \n",
       "6  ENSE00003508198  \n",
       "7  ENSE00003535476  \n",
       "8  ENSE00001902501  "
      ]
     },
     "execution_count": 12,
     "metadata": {},
     "output_type": "execute_result"
    }
   ],
   "source": [
    "exons_per_transcript = [[tr['id']] + [e['id'] for e in filter(lambda d: d['Parent'] == tr['id'], exons)] for tr in cds]\n",
    "pd.DataFrame(exons_per_transcript).set_index(0).transpose()"
   ]
  },
  {
   "cell_type": "markdown",
   "metadata": {
    "slideshow": {
     "slide_type": "slide"
    }
   },
   "source": [
    "## Visualization of exon usage in Ensembl\n",
    "This is an example of the information found on a genome browser. In this case, exon usage for different transcripts is shown in a intuitive way. \n",
    "\n",
    "<div style='overflow-y: scroll; max-height: 400px'><img align='left' width=100% src=\"media/Human_98796627587974919.png\"></div>"
   ]
  },
  {
   "cell_type": "markdown",
   "metadata": {
    "slideshow": {
     "slide_type": "slide"
    }
   },
   "source": [
    "## Biopython\n",
    "### Writing exons in a FASTA file\n",
    "Biologists love text files! One of them (the most frequently used) is the FASTA format. It's a very simple format to store nucleotide or amino acid sequences. It can contain a single or multiple sequence record. Each sequence record is composed of two parts:\n",
    "* **Header** Identified by its first character `>`\n",
    "* **Sequence**: any other line"
   ]
  },
  {
   "cell_type": "code",
   "execution_count": 13,
   "metadata": {
    "slideshow": {
     "slide_type": "-"
    }
   },
   "outputs": [
    {
     "name": "stdout",
     "output_type": "stream",
     "text": [
      ">ENSE00001902992.1 chromosome:GRCh38:9:87966446:87967659:-1\n",
      "GCTCTCCTCCATCAGTACTTCTTCACAGCTCCCCTGCCTGCCCATCCATCTGAGCTGCCG\n",
      "ATTCCTCAGCGTCTAGGGGGACCTGCCCCCAAGGCCCATCCAGGGCCCCCCCACATCCAT\n",
      "GACTTCCACGTGGACCGGCCTCTTGAGGAGTCGCTGTTGAACCCAGAGCTGATTCGGCCC\n",
      "TTCATCC...\n"
     ]
    }
   ],
   "source": [
    "with open('exons.fasta', 'w') as of:\n",
    "    for exon_id in exons_per_transcript[0]:\n",
    "        exon_seq_url = base_url + 'sequence/id/' + exon_id + '?content-type=text/x-fasta'\n",
    "        exon_fasta = urllib.request.urlopen(exon_seq_url).read().decode('utf-8')\n",
    "        of.write(exon_fasta + '\\n')\n",
    "    print(exon_fasta[:250] + '...')"
   ]
  },
  {
   "cell_type": "markdown",
   "metadata": {
    "slideshow": {
     "slide_type": "slide"
    }
   },
   "source": [
    "In order to comply with biologists' love for text files, computer scientists came up with different solutions.\n",
    "\n",
    "One of them is __[BioPython](https://biopython.org/)__, a python library that let's you manage all kinds of biological file formats.\n",
    "\n",
    "It also has some useful utilities to:\n",
    "* align sequences\n",
    "* launch BLAST remotely\n",
    "* handle protein structures\n"
   ]
  },
  {
   "cell_type": "code",
   "execution_count": 14,
   "metadata": {
    "slideshow": {
     "slide_type": "-"
    }
   },
   "outputs": [
    {
     "name": "stdout",
     "output_type": "stream",
     "text": [
      "ID: ENSE00001890030.1\n",
      "Name: ENSE00001890030.1\n",
      "Description: ENSE00001890030.1 chromosome:GRCh38:9:87974372:87974589:-1\n",
      "Number of features: 0\n",
      "Seq('GTCGCCTACAGGAACCGCCCCAGTGGTCAGCTGCCGCGCTGTTGCTAGGCAACA...GAG', SingleLetterAlphabet())\n"
     ]
    }
   ],
   "source": [
    "# parse FASTA file with biopython module SeqIO\n",
    "seq_records = list(SeqIO.parse(\"exons.fasta\", \"fasta\"))\n",
    "# select one exon from the list of results\n",
    "an_exon = seq_records[1]\n",
    "# __repr__ method of Fasta record objects\n",
    "print(an_exon)"
   ]
  },
  {
   "cell_type": "code",
   "execution_count": 15,
   "metadata": {
    "slideshow": {
     "slide_type": "slide"
    }
   },
   "outputs": [
    {
     "name": "stdout",
     "output_type": "stream",
     "text": [
      "GTCGCCTACAGGAACCGCCCCAGTGGTCAGCTGCCGCGCTGTTGCTAGGCAACAGCGTGCGAGCTCAGATCAGCGTGGGGTGGAGGAGAAGTGGAGTTTGGAAGTTCAGGGGCACAGGGGCACAGGCCCACGACTGCAGCGGGATGGACCAGTACTGCATCCTGGGCCGCATCGGGGAGGGCGCCCACGGCATCGTCTTCAAGGCCAAGCACGTGGAG\n"
     ]
    }
   ],
   "source": [
    "# __repr__ method of the Seq objects\n",
    "print(an_exon.seq)"
   ]
  },
  {
   "cell_type": "code",
   "execution_count": 16,
   "metadata": {
    "slideshow": {
     "slide_type": "-"
    }
   },
   "outputs": [
    {
     "name": "stdout",
     "output_type": "stream",
     "text": [
      "GUCGCCUACAGGAACCGCCCCAGUGGUCAGCUGCCGCGCUGUUGCUAGGCAACAGCGUGCGAGCUCAGAUCAGCGUGGGGUGGAGGAGAAGUGGAGUUUGGAAGUUCAGGGGCACAGGGGCACAGGCCCACGACUGCAGCGGGAUGGACCAGUACUGCAUCCUGGGCCGCAUCGGGGAGGGCGCCCACGGCAUCGUCUUCAAGGCCAAGCACGUGGAG\n"
     ]
    }
   ],
   "source": [
    "# transcription is the conversion of DNA to messenger RNA\n",
    "print(an_exon.seq.transcribe())"
   ]
  },
  {
   "cell_type": "code",
   "execution_count": 17,
   "metadata": {
    "slideshow": {
     "slide_type": "-"
    }
   },
   "outputs": [
    {
     "name": "stdout",
     "output_type": "stream",
     "text": [
      "VAYRNRPSGQLPRCC*ATACELRSAWGGGEVEFGSSGAQGHRPTTAAGWTSTASWAASGRAPTASSSRPSTW\n"
     ]
    },
    {
     "name": "stderr",
     "output_type": "stream",
     "text": [
      "/usr/local/lib/python3.6/dist-packages/Bio/Seq.py:2576: BiopythonWarning: Partial codon, len(sequence) not a multiple of three. Explicitly trim the sequence or add trailing N before translation. This may become an error in future.\n",
      "  BiopythonWarning)\n"
     ]
    }
   ],
   "source": [
    "# translation is the conversion of messenger RNA to amino acid\n",
    "print(an_exon.seq.transcribe().translate())"
   ]
  },
  {
   "cell_type": "code",
   "execution_count": 18,
   "metadata": {
    "scrolled": false,
    "slideshow": {
     "slide_type": "skip"
    }
   },
   "outputs": [],
   "source": [
    "def print_multiline_alignment(alignment, n=60):\n",
    "    seq1 = [alignment[0][i:i+n] for i in range(0, len(alignment[0]), n)]\n",
    "    seq2 =  [alignment[1][i:i+n] for i in range(0, len(alignment[1]), n)]\n",
    "    nstart1, nend1 = 0, 0\n",
    "    nstart2, nend2 = 0, 0\n",
    "    for i, (s1, s2) in enumerate(zip(seq1, seq2)):\n",
    "        gap1 = s1.count('-') \n",
    "        gap2 = s2.count('-')\n",
    "        if i == 0:\n",
    "            nstart1 = 1 if gap1 != n else nstart1\n",
    "            nstart2 = 1 if gap2 != n else nstart2\n",
    "            nend1 = n - gap1 if gap1 != n else nend1\n",
    "            nend2 = n - gap2 if gap2 != n else nend2\n",
    "\n",
    "        print('{:>5} {:>5} {} {}'.format('tmplt', nstart1, s1, nend1))\n",
    "        nstart1 += n - gap1\n",
    "        nend1 += n - gap1\n",
    "        nend2 += n - gap2\n",
    "        print('{:>5} {:>5} {}'.format('', '', ''.join(['|' if x == y else ' ' for x, y in zip(s1, s2)])))\n",
    "        print('{:>5} {:>5} {} {}'.format('query', nstart2, s2, nend2))\n",
    "        nstart2 += n - gap2 \n",
    "        print()"
   ]
  },
  {
   "cell_type": "markdown",
   "metadata": {
    "slideshow": {
     "slide_type": "slide"
    }
   },
   "source": [
    "## Pairwise alignment\n",
    "Biopython has functions to perform pairwise alignments. It has different functions:\n",
    "* globalxx \n",
    "* globalms\n",
    "* localds...\n",
    "\n",
    "where global and local indicate the type of alignment and the two letters are match and gap-penalty parameters\n",
    "\n",
    "The **match** parameters are:\n",
    "* `x`     No parameters. Identical characters have score of 1, otherwise 0.\n",
    "* `m`     A match score is the score of identical chars, otherwise mismatch score.\n",
    "* `d`     A dictionary returns the score of any pair of characters.\n",
    "\n",
    "The **gap penalty** parameters are:\n",
    "* `x`     No gap penalties.\n",
    "* `s`     Same open and extend gap penalties for both sequences.\n",
    "* `d`     The sequences have different open and extend gap penalties.\n",
    "\n"
   ]
  },
  {
   "cell_type": "code",
   "execution_count": 19,
   "metadata": {
    "slideshow": {
     "slide_type": "subslide"
    }
   },
   "outputs": [
    {
     "name": "stdout",
     "output_type": "stream",
     "text": [
      "tmplt     1 ATGGACCAGTACTGCATCCTGGGCCGCATCGGGGAGGGCGCCCACGGCATCGTCTTCAAG 60\n",
      "                                                                        \n",
      "query     0 ------------------------------------------------------------ 0\n",
      "\n",
      "tmplt    61 GCCAAGCACGTGGAGCCGAGGGTGGGCTGGCAGTGTCTGCCTTCTATCCTGCAGACTGGC 120\n",
      "                                                                        \n",
      "query     0 ------------------------------------------------------------ 0\n",
      "\n",
      "tmplt   121 GAGATAGTTGCCCTCAAGAAGGTGGCCCTAAGGCGGTTGGAGGACGGCTTCCCTAACCAG 180\n",
      "                                                                        \n",
      "query     0 ------------------------------------------------------------ 0\n",
      "\n",
      "tmplt   181 GCCCTGCGGGAGATTAAGGCTCTGCAGGAGATGGAGGACAATCAGTATGTGGTACAACTG 240\n",
      "                                                |    ||        |     |  \n",
      "query     0 ------------------------------------G----TC--------G-----C-- 5\n",
      "\n",
      "tmplt   241 AAGGCTGTGTTCCCACACGGTGGAGGCTTTGTGCTGGCCTTTGAGTTCATGCTGTCGGAT 300\n",
      "                |     |   |||    |||                   |   |   | | |    \n",
      "query     5 ----C-----T---ACA----GGA-------------------A---C---C-G-C---- 18\n",
      "\n",
      "tmplt   301 CTGGCCGAGGTGGTGCGCCATGCCCAGAGGCCACTAGCCCAGGCACAGGTCAAGAGCTAC 360\n",
      "            |   || |    ||| |   |   |  | |   ||       || |  | |    |    \n",
      "query    18 C---CC-A----GTG-G---T---C--A-G---CT-------GC-C--G-C----G---- 38\n",
      "\n",
      "tmplt   361 CTGCAGATGCTGCTCAAGGGTGTCGCCTTCTGCCATGCCAACAACATTGTACATCGGGAC 420\n",
      "            ||   | |  ||||  |              |    |       ||    |||    |  \n",
      "query    38 CT---G-T--TGCT--A--------------G----G-------CA----ACA----G-- 55\n",
      "\n",
      "tmplt   421 CTGAAACCTGCCAACCTGCTCATCAGCGCCTCAGGCCAGCTCAAGATAGCGGACTTTGGC 480\n",
      "            | |     ||     | |      |  | |||| |  |  ||     |   | |    | \n",
      "query    55 C-G-----TG-----C-G------A--G-CTCA-G--A--TC-----A---G-C----G- 75\n",
      "\n",
      "tmplt   481 CTGGCTCGAGTCTTTTCCCCAGACGGCAGCCGCCTCTACACACACCAGGTGGCCACCAGG 540\n",
      "             |||   | |     |            |  |              |   ||     |  \n",
      "query    75 -TGG---G-G-----T------------G--G--------------A---GG-----A-- 87\n",
      "\n",
      "tmplt   541 TCTGTGGGCTGCATCATGGGGGAGCTGTTGAATGGGTCCCCCCTTTTCCCGGGCAAGAAC 600\n",
      "                      |    |      || ||  | |   |        |||             \n",
      "query    87 ----------G----A------AG-TG--G-A---G--------TTT------------- 99\n",
      "\n",
      "tmplt   601 GATATTGAACAGCTTTGCTATGTGCTTCGCATCTTGGGCACCCCAAACCCTCAAGTCTGG 660\n",
      "            |     | | ||  || | |        |      |||     |  |    | |     |\n",
      "query    99 G-----G-A-AG--TT-C-A--------G------GGG-----C--A----C-A-----G 117\n",
      "\n",
      "tmplt   661 CCGGAGCTCACTGAGCTGCCGGACTACAACAAGATCTCCTTTAAGGAGCAGGTGCCCATG 720\n",
      "              || |  |||  |      || |  |  |   |    |      || |   ||  || |\n",
      "query   117 --GG-G--CAC--A------GG-C--C--C---A----C------GA-C---TG--CA-G 139\n",
      "\n",
      "tmplt   721 CCCCTGGAGGAGGTGCTGCCTGACGTCTCTCCCCAGGCATTGGATCTGCTGGGTCAATTC 780\n",
      "               |  | |||     ||   ||          |   |     |        |       \n",
      "query   139 ---C--G-GGA-----TG---GA----------C---C-----A--------G------- 152\n",
      "\n",
      "tmplt   781 CTTCTCTACCCTCCTCACCAGCGCATCGCAGCTTCCAAGGCTCTCCTCCATCAGTACTTC 840\n",
      "                          |    |   | |    |    | |        ||| |  |      \n",
      "query   152 --------------T----A---C-T----G----C-A--------TCC-T--G------ 164\n",
      "\n",
      "tmplt   841 TTCACAGCTCCCCTGCCTGCCCATCCATCTGAGCTGCCGATTCCTCAGCGTCTAGGGGGA 900\n",
      "                  |       ||| |      ||  |   | |  |        | |   |   || \n",
      "query   164 ------G-------GCC-G------CA--T---C-G--G--------G-G---A---GG- 180\n",
      "\n",
      "tmplt   901 CCTGCCCCCAAGGCCCATCCAGGGCCCCCCCACATCCATGACTTCCACGTGGACCGGCCT 960\n",
      "               |    |   |||||  |  ||        ||| |  |   |   | |         |\n",
      "query   180 ---G----C---GCCCA--C--GG--------CAT-C--G---T---C-T---------T 199\n",
      "\n",
      "tmplt   961 CTTGAGGAGTCGCTGTTGAACCCAGAGCTGATTCGGCCCTTCATCCTGGAGGGGTGA 1020\n",
      "            |   |  |      |  |   ||| |||  |  | |          ||||     | \n",
      "query   199 C---A--A------G--G---CCA-AGC--A--C-G----------TGGA-----G- 221\n",
      "\n"
     ]
    }
   ],
   "source": [
    "# from Bio import pairwise2\n",
    "alignment = pairwise2.align.globalxx(cds[0]['seq'], an_exon.seq)[0]\n",
    "# custom print function\n",
    "print_multiline_alignment(alignment)"
   ]
  },
  {
   "cell_type": "markdown",
   "metadata": {
    "slideshow": {
     "slide_type": "subslide"
    }
   },
   "source": [
    "## Aligning two sequences\n",
    "\n",
    "By using the the `pairwise2` module, correctly align the **cds** `ENST00000336654` and **exon** `ENSE00001890030.1`\n",
    "\n",
    "Retrieve the sequence of the two entities using the endpoint:<br>__[https://rest.ensembl.org/documentation/info/sequence_id](https://rest.ensembl.org/documentation/info/sequence_id)__\n",
    "\n",
    "Find the correct way to align the two sequences. Documentation of the pairwise2 module is here: <br>__[http://biopython.org/DIST/docs/api/Bio.pairwise2-module.html](http://biopython.org/DIST/docs/api/Bio.pairwise2-module.html)__\n",
    "\n",
    "* Hint 1: function to print alignments __[https://github.com/marnec/practical](https://github.com/marnec/practical)__\n",
    "* Hint 2: local alignment is the way to go\n",
    "* Hint 3: You probably want a substitution matrix (http://biopython.org/DIST/docs/api/Bio.SubsMat.MatrixInfo-module.html)\n",
    "* Hint 4: `print(MatrixInfo.available_matrices)`"
   ]
  },
  {
   "cell_type": "code",
   "execution_count": 20,
   "metadata": {
    "slideshow": {
     "slide_type": "slide"
    }
   },
   "outputs": [
    {
     "name": "stdout",
     "output_type": "stream",
     "text": [
      "tmplt     1 ATGGACCAGTACTGCATCCTGGGCCGCATCGGGGAGGGCGCCCACGGCATCGTCTTCAAG 60\n",
      "                                                                        \n",
      "query     0 ------------------------------------------------------------ 0\n",
      "\n",
      "tmplt    61 GCCAAGCACGTGGAGCCGAGGGTGGGCTGGCAGTGTCTGCCTTCTATCCTGCAGACTGGC 120\n",
      "                                                                        \n",
      "query     0 ------------------------------------------------------------ 0\n",
      "\n",
      "tmplt   121 GAGATAGTTGCCCTCAAGAAGGTGGCCCTAAGGCGGTTGGAGGACG-GCT-TCCCTAACC 180\n",
      "                  || |||  || |||    |||| |  | |||  |  | || ||| |  |||  |\n",
      "query     0 ------GTCGCCTACAGGAA--CCGCCCCA--GTGGTCAGCTGCCGCGCTGTTGCTAGGC 50\n",
      "\n",
      "tmplt   179 AGGCCCTGCGGGAGATTAAGGCTCTGCAGGAGATGGAGGACAATCAGTATGTGGTACAAC 238\n",
      "            |  |   | | ||| | |  | || ||  | | ||||||| ||   |  | ||| |   |\n",
      "query    50 A-ACAGCGTGCGAGCTCA--GATCAGCGTGGGGTGGAGGAGAAGTGGAGTTTGGAAGTTC 107\n",
      "\n",
      "tmplt   239 TGAAGGCTGTGTTCC-CACACGGTGGAG-GCTTTGTGCTGGCCTTTGAGTTCATGCT--G 298\n",
      "             |  |||   |   | ||  |    ||  ||   | | ||| |    | | ||| ||  |\n",
      "query   107 AG-GGGCACAGGGGCACAGGCCCACGACTGCAGCGGGATGGACCAGTACTGCATCCTGGG 166\n",
      "\n",
      "tmplt   295 TCGGATCTGGCCGAGGTGGTGCGCCATGCCCAGAGGCCACTAGCCCAGGCACAGGTCAAG 354\n",
      "             || ||| ||  |||  || || ||| |  ||  | |  | || ||| ||||  ||  ||\n",
      "query   166 CCGCATCGGG--GAG--GGCGC-CCACG-GCATCGTCTTCAAGGCCAAGCAC--GTGGAG 218\n",
      "\n",
      "tmplt   355 AGCTACCTGCAGATGCTGCTCAAGGGTGTCGCCTTCTGCCATGCCAACAACATTGTACAT 414\n",
      "                                                                        \n",
      "query   218 ------------------------------------------------------------ 218\n",
      "\n",
      "tmplt   415 CGGGACCTGAAACCTGCCAACCTGCTCATCAGCGCCTCAGGCCAGCTCAAGATAGCGGAC 474\n",
      "                                                                        \n",
      "query   218 ------------------------------------------------------------ 218\n",
      "\n",
      "tmplt   475 TTTGGCCTGGCTCGAGTCTTTTCCCCAGACGGCAGCCGCCTCTACACACACCAGGTGGCC 534\n",
      "                                                                        \n",
      "query   218 ------------------------------------------------------------ 218\n",
      "\n",
      "tmplt   535 ACCAGGTCTGTGGGCTGCATCATGGGGGAGCTGTTGAATGGGTCCCCCCTTTTCCCGGGC 594\n",
      "                                                                        \n",
      "query   218 ------------------------------------------------------------ 218\n",
      "\n",
      "tmplt   595 AAGAACGATATTGAACAGCTTTGCTATGTGCTTCGCATCTTGGGCACCCCAAACCCTCAA 654\n",
      "                                                                        \n",
      "query   218 ------------------------------------------------------------ 218\n",
      "\n",
      "tmplt   655 GTCTGGCCGGAGCTCACTGAGCTGCCGGACTACAACAAGATCTCCTTTAAGGAGCAGGTG 714\n",
      "                                                                        \n",
      "query   218 ------------------------------------------------------------ 218\n",
      "\n",
      "tmplt   715 CCCATGCCCCTGGAGGAGGTGCTGCCTGACGTCTCTCCCCAGGCATTGGATCTGCTGGGT 774\n",
      "                                                                        \n",
      "query   218 ------------------------------------------------------------ 218\n",
      "\n",
      "tmplt   775 CAATTCCTTCTCTACCCTCCTCACCAGCGCATCGCAGCTTCCAAGGCTCTCCTCCATCAG 834\n",
      "                                                                        \n",
      "query   218 ------------------------------------------------------------ 218\n",
      "\n",
      "tmplt   835 TACTTCTTCACAGCTCCCCTGCCTGCCCATCCATCTGAGCTGCCGATTCCTCAGCGTCTA 894\n",
      "                                                                        \n",
      "query   218 ------------------------------------------------------------ 218\n",
      "\n",
      "tmplt   895 GGGGGACCTGCCCCCAAGGCCCATCCAGGGCCCCCCCACATCCATGACTTCCACGTGGAC 954\n",
      "                                                                        \n",
      "query   218 ------------------------------------------------------------ 218\n",
      "\n",
      "tmplt   955 CGGCCTCTTGAGGAGTCGCTGTTGAACCCAGAGCTGATTCGGCCCTTCATCCTGGAGGGG 1014\n",
      "                                                                        \n",
      "query   218 ------------------------------------------------------------ 218\n",
      "\n",
      "tmplt  1015 TGA 1074\n",
      "               \n",
      "query   218 --- 275\n",
      "\n"
     ]
    }
   ],
   "source": [
    "# x = Identical characters have score of 1, otherwise 0\n",
    "# s = Same open and extend gap penalties for both sequences\n",
    "alignment = pairwise2.align.localxs(cds[0]['seq'], an_exon.seq, -1, -0.5)[0]\n",
    "print_multiline_alignment(alignment)"
   ]
  },
  {
   "cell_type": "code",
   "execution_count": 21,
   "metadata": {
    "slideshow": {
     "slide_type": "slide"
    }
   },
   "outputs": [
    {
     "name": "stdout",
     "output_type": "stream",
     "text": [
      "tmplt     0 ------------------------------------------------------------ 0\n",
      "                                                                        \n",
      "query     1 GTCGCCTACAGGAACCGCCCCAGTGGTCAGCTGCCGCGCTGTTGCTAGGCAACAGCGTGC 120\n",
      "\n",
      "tmplt     0 ------------------------------------------------------------ 0\n",
      "                                                                        \n",
      "query    61 GAGCTCAGATCAGCGTGGGGTGGAGGAGAAGTGGAGTTTGGAAGTTCAGGGGCACAGGGG 180\n",
      "\n",
      "tmplt     0 -----------------------ATGGACCAGTACTGCATCCTGGGCCGCATCGGGGAGG 0\n",
      "                                   |||||||||||||||||||||||||||||||||||||\n",
      "query   121 CACAGGCCCACGACTGCAGCGGGATGGACCAGTACTGCATCCTGGGCCGCATCGGGGAGG 240\n",
      "\n",
      "tmplt    37 GCGCCCACGGCATCGTCTTCAAGGCCAAGCACGTGGAGCCGAGGGTGGGCTGGCAGTGTC 37\n",
      "            ||||||||||||||||||||||||||||||||||||||                      \n",
      "query   181 GCGCCCACGGCATCGTCTTCAAGGCCAAGCACGTGGAG---------------------- 278\n",
      "\n",
      "tmplt    97 TGCCTTCTATCCTGCAGACTGGCGAGATAGTTGCCCTCAAGAAGGTGGCCCTAAGGCGGT 97\n",
      "                                                                        \n",
      "query   219 ------------------------------------------------------------ 278\n",
      "\n",
      "tmplt   157 TGGAGGACGGCTTCCCTAACCAGGCCCTGCGGGAGATTAAGGCTCTGCAGGAGATGGAGG 157\n",
      "                                                                        \n",
      "query   219 ------------------------------------------------------------ 278\n",
      "\n",
      "tmplt   217 ACAATCAGTATGTGGTACAACTGAAGGCTGTGTTCCCACACGGTGGAGGCTTTGTGCTGG 217\n",
      "                                                                        \n",
      "query   219 ------------------------------------------------------------ 278\n",
      "\n",
      "tmplt   277 CCTTTGAGTTCATGCTGTCGGATCTGGCCGAGGTGGTGCGCCATGCCCAGAGGCCACTAG 277\n",
      "                                                                        \n",
      "query   219 ------------------------------------------------------------ 278\n",
      "\n",
      "tmplt   337 CCCAGGCACAGGTCAAGAGCTACCTGCAGATGCTGCTCAAGGGTGTCGCCTTCTGCCATG 337\n",
      "                                                                        \n",
      "query   219 ------------------------------------------------------------ 278\n",
      "\n",
      "tmplt   397 CCAACAACATTGTACATCGGGACCTGAAACCTGCCAACCTGCTCATCAGCGCCTCAGGCC 397\n",
      "                                                                        \n",
      "query   219 ------------------------------------------------------------ 278\n",
      "\n",
      "tmplt   457 AGCTCAAGATAGCGGACTTTGGCCTGGCTCGAGTCTTTTCCCCAGACGGCAGCCGCCTCT 457\n",
      "                                                                        \n",
      "query   219 ------------------------------------------------------------ 278\n",
      "\n",
      "tmplt   517 ACACACACCAGGTGGCCACCAGGTCTGTGGGCTGCATCATGGGGGAGCTGTTGAATGGGT 517\n",
      "                                                                        \n",
      "query   219 ------------------------------------------------------------ 278\n",
      "\n",
      "tmplt   577 CCCCCCTTTTCCCGGGCAAGAACGATATTGAACAGCTTTGCTATGTGCTTCGCATCTTGG 577\n",
      "                                                                        \n",
      "query   219 ------------------------------------------------------------ 278\n",
      "\n",
      "tmplt   637 GCACCCCAAACCCTCAAGTCTGGCCGGAGCTCACTGAGCTGCCGGACTACAACAAGATCT 637\n",
      "                                                                        \n",
      "query   219 ------------------------------------------------------------ 278\n",
      "\n",
      "tmplt   697 CCTTTAAGGAGCAGGTGCCCATGCCCCTGGAGGAGGTGCTGCCTGACGTCTCTCCCCAGG 697\n",
      "                                                                        \n",
      "query   219 ------------------------------------------------------------ 278\n",
      "\n",
      "tmplt   757 CATTGGATCTGCTGGGTCAATTCCTTCTCTACCCTCCTCACCAGCGCATCGCAGCTTCCA 757\n",
      "                                                                        \n",
      "query   219 ------------------------------------------------------------ 278\n",
      "\n",
      "tmplt   817 AGGCTCTCCTCCATCAGTACTTCTTCACAGCTCCCCTGCCTGCCCATCCATCTGAGCTGC 817\n",
      "                                                                        \n",
      "query   219 ------------------------------------------------------------ 278\n",
      "\n",
      "tmplt   877 CGATTCCTCAGCGTCTAGGGGGACCTGCCCCCAAGGCCCATCCAGGGCCCCCCCACATCC 877\n",
      "                                                                        \n",
      "query   219 ------------------------------------------------------------ 278\n",
      "\n",
      "tmplt   937 ATGACTTCCACGTGGACCGGCCTCTTGAGGAGTCGCTGTTGAACCCAGAGCTGATTCGGC 937\n",
      "                                                                        \n",
      "query   219 ------------------------------------------------------------ 278\n",
      "\n",
      "tmplt   997 CCTTCATCCTGGAGGGGTGA 997\n",
      "                                \n",
      "query   219 -------------------- 318\n",
      "\n"
     ]
    }
   ],
   "source": [
    "# from Bio.SubsMat import MatrixInfo\n",
    "## d = A dictionary returns the score of any pair of characters\n",
    "## s = Same open and extend gap penalties for both sequences\n",
    "alignment = pairwise2.align.localds(cds[0]['seq'], an_exon.seq, MatrixInfo.genetic, -1000, -500)[0]\n",
    "print_multiline_alignment(alignment)"
   ]
  },
  {
   "cell_type": "markdown",
   "metadata": {
    "slideshow": {
     "slide_type": "subslide"
    }
   },
   "source": [
    "### Take home message: Instruments & meaning\n",
    "\n",
    "Possibilities might seem endless, however not all paths of action make sense.\n",
    "\n",
    "Knoweldge of the **origin** and **meaning** of data is often **essential**.\n",
    "\n",
    "When align two sequences keep in mind what they are and the relationship between them."
   ]
  },
  {
   "cell_type": "markdown",
   "metadata": {
    "slideshow": {
     "slide_type": "slide"
    }
   },
   "source": [
    "## Multiple sequence alignment\n",
    "\n",
    "Aligning $n$ sequences with dynamic programming implies performing $\\frac{n(n-1)}{2}$ pairwise alignments.\n",
    "\n",
    "This is an $O(n^2)$ problem. Other methods are used, among which Clustal Omega is very fast and accurate.\n",
    "\n",
    "BioPython doesn't offer a way to perform multiple sequence alignments.\n",
    "\n",
    "To make it quick let's go on Clustal Omega website __[https://www.ebi.ac.uk/Tools/msa/clustalo/](https://www.ebi.ac.uk/Tools/msa/clustalo/)__\n",
    "\n",
    "We will then visualize alignments in Jalview __[http://www.jalview.org/](http://www.jalview.org/)__"
   ]
  },
  {
   "cell_type": "code",
   "execution_count": 22,
   "metadata": {
    "slideshow": {
     "slide_type": "subslide"
    }
   },
   "outputs": [],
   "source": [
    "base_url = 'https://rest.ensembl.org/'\n",
    "endpoint = 'sequence/id/'\n",
    "seq_id = 'ENSG00000156345'\n",
    "# set the parameters to retrieve protein sequence in FASTA format\n",
    "params = '?content-type=text/x-fasta&type=protein&multiple_sequences=1'\n",
    "protein_url = base_url + endpoint + seq_id + params\n",
    "protein = urllib.request.urlopen(protein_url).read().decode('utf-8')\n",
    "# wirte response directly to file"
   ]
  },
  {
   "cell_type": "code",
   "execution_count": 23,
   "metadata": {
    "slideshow": {
     "slide_type": "subslide"
    }
   },
   "outputs": [
    {
     "name": "stdout",
     "output_type": "stream",
     "text": [
      ">ENSP00000338975.5\n",
      "MDQYCILGRIGEGAHGIVFKAKHVEPRVGWQCLPSILQTGEIVALKKVALRRLEDGFPNQ\n",
      "ALREIKALQEMEDNQYVVQLKAVFPHGGGFVLAFEFMLSDLAEVVRHAQRPLAQAQVKSY\n",
      "LQMLLKGVAFCHANNIVHRDLKPANLLISASGQLKIADFGLARVFSPDGSRLYTHQVATR\n",
      "SVGCIMGELLNGSPLFPGKNDIEQLCYVLRILGTPNPQVWPELTELPDYNKISFKEQVPM\n",
      "PLEEVLPDVSPQALDLLGQFLLYPPHQRIAASKALLHQYFFTAPLPAHPSELPIPQRLGG\n",
      "PAPKAHPGPPHIHDFHVDRPLEESLLNPELIRPFILEG\n",
      ">ENSP00000365043.3\n",
      "MDQYCILGRIGEGAHGIVFKAKHVETGEIVALKKVALRRLEDGFPNQALREIKALQEMED\n",
      "NQYVVQLKAVFPHGGGFVLAFEFMLSDLAEVVRHAQRPLAQAQVKSYLQMLLKGVAF\n"
     ]
    }
   ],
   "source": [
    "print(protein[:500])"
   ]
  },
  {
   "cell_type": "code",
   "execution_count": 24,
   "metadata": {
    "slideshow": {
     "slide_type": "-"
    }
   },
   "outputs": [],
   "source": [
    "with open('proteins.fasta', 'w') as of:\n",
    "    of.write(protein + '\\n')"
   ]
  },
  {
   "cell_type": "markdown",
   "metadata": {
    "slideshow": {
     "slide_type": "slide"
    }
   },
   "source": [
    "## Aligning protein sequences against protein databases\n",
    "Searching a sequence in a protein database means finding the best alingment of a query sequence and up to million of targets.\n",
    "\n",
    "HMMER is a project offering many tools to perform searches agains HMM profiles<br>__[https://www.ebi.ac.uk/Tools/hmmer/](https://www.ebi.ac.uk/Tools/hmmer/)__\n",
    "\n",
    "There are different flavors of HMMER softwares:\n",
    "* **phmmer** aligns protein sequences vs protein database (PDB, Trembl, SwissProt)\n",
    "* **hmmscan** aligns protein sequences vs HMM database (Pfam, Gene3D, Tigrfam)\n",
    "* **hmmsearch** aligns a MSA/HMM profile vs protein database (PDB, Trembl, SwissProt)\n",
    "* **jackhmmer** iteratively searches seq/MSA/HMM vs protein database (PDB, Trembl, SwissProt)"
   ]
  },
  {
   "cell_type": "markdown",
   "metadata": {
    "slideshow": {
     "slide_type": "subslide"
    }
   },
   "source": [
    "### Exercise: Align unknown sequence to biological DBs\n",
    "\n",
    "You will all have the same **unkown sequence**. The sequence is in the `unknown.fasta` file in moodle<br>\n",
    "Can you answer these questions?\n",
    "* __Are there similar sequences in the SwissProt?__\n",
    "    * HINT: Use phmmer to find similar sequences in the SwissProt __[https://www.ebi.ac.uk/Tools/hmmer/search/phmmer](https://www.ebi.ac.uk/Tools/hmmer/search/phmmer)__"
   ]
  },
  {
   "cell_type": "markdown",
   "metadata": {
    "slideshow": {
     "slide_type": "fragment"
    }
   },
   "source": [
    "* __How similar are the first 30 sequences among them?__ \n",
    "    * HINT 1: Download fasta, copy 30 sequences in a new file.\n",
    "    * HINT 2: Perform a multiple sequence alignment from the Clustal Omega website __[https://www.ebi.ac.uk/Tools/msa/clustalo/](https://www.ebi.ac.uk/Tools/msa/clustalo/)__"
   ]
  },
  {
   "cell_type": "markdown",
   "metadata": {
    "slideshow": {
     "slide_type": "fragment"
    }
   },
   "source": [
    "* __Are there any conserved regions in the sequence?__\n",
    "    * HINT: Download the alignment, open in Jalview and look at the conservation section"
   ]
  },
  {
   "cell_type": "markdown",
   "metadata": {
    "slideshow": {
     "slide_type": "fragment"
    }
   },
   "source": [
    "* __Can you obtain additional information from the alignment?__    \n",
    "    * HINT 1: Build a phylogenetic tree\n",
    "    * HINT 2: Try to refine the alignment"
   ]
  },
  {
   "cell_type": "markdown",
   "metadata": {
    "slideshow": {
     "slide_type": "subslide"
    }
   },
   "source": [
    "HMMER can also be downloaded as a standalone program or launched from command line \n",
    "\n",
    "Documentation for hmmer at __[https://hmmer-web-docs.readthedocs.io/en/latest/api.html](https://hmmer-web-docs.readthedocs.io/en/latest/api.html)__"
   ]
  },
  {
   "cell_type": "code",
   "execution_count": 25,
   "metadata": {
    "slideshow": {
     "slide_type": "-"
    }
   },
   "outputs": [
    {
     "data": {
      "text/plain": [
       "['  % Total    % Received % Xferd  Average Speed   Time    Time     Time  Current',\n",
       " '                                 Dload  Upload   Total   Spent    Left  Speed',\n",
       " '',\n",
       " '  0     0    0     0    0     0      0      0 --:--:-- --:--:-- --:--:--     0',\n",
       " '100  2316  100    68  100  2248     66   2188  0:00:01  0:00:01 --:--:--  2255',\n",
       " '100  2316  100    68  100  2248     66   2186  0:00:01  0:00:01 --:--:--  2255',\n",
       " '',\n",
       " '  0     0    0     0    0     0      0      0 --:--:--  0:00:02 --:--:--     0',\n",
       " '  0     0    0     0    0     0      0      0 --:--:--  0:00:03 --:--:--     0<opt>',\n",
       " '  <data name=\"results\" algo=\"phmmer\" uuid=\"2CB702F8-E1AF-11E8-8FD7-2CA053F04F9B\">']"
      ]
     },
     "execution_count": 25,
     "metadata": {},
     "output_type": "execute_result"
    }
   ],
   "source": [
    "# anything appearing after '!' on a line will be executed by the sub-system command-line.\n",
    "# redirect results of the command assigning the call to a variable\n",
    "result = !curl -L -H 'Expect:' \\\n",
    "               -H 'Accept:text/xml' -F seqdb=pdb \\\n",
    "               -F algo=phmmer \\\n",
    "               -F seq='<testP.fa' \\\n",
    "               https://www.ebi.ac.uk/Tools/hmmer/search/phmmer\n",
    "result[:10]"
   ]
  },
  {
   "cell_type": "code",
   "execution_count": 26,
   "metadata": {},
   "outputs": [
    {
     "data": {
      "text/plain": [
       "'2CB702F8-E1AF-11E8-8FD7-2CA053F04F9B'"
      ]
     },
     "execution_count": 26,
     "metadata": {},
     "output_type": "execute_result"
    }
   ],
   "source": [
    "# ugly solution (but it works)\n",
    "for line in result:\n",
    "    if 'uuid' in line:\n",
    "        uuid = line.split('=')[-1][1:-2]\n",
    "uuid"
   ]
  },
  {
   "cell_type": "code",
   "execution_count": 27,
   "metadata": {
    "slideshow": {
     "slide_type": "subslide"
    }
   },
   "outputs": [
    {
     "name": "stderr",
     "output_type": "stream",
     "text": [
      "  % Total    % Received % Xferd  Average Speed   Time    Time     Time  Current\n",
      "                                 Dload  Upload   Total   Spent    Left  Speed\n",
      "\r",
      "  0     0    0     0    0     0      0      0 --:--:-- --:--:-- --:--:--     0\r",
      "100    65  100    65    0     0    201      0 --:--:-- --:--:-- --:--:--   201\n",
      "\r",
      "  0     0    0     0    0     0      0      0 --:--:--  0:00:01 --:--:--     0\r",
      " 50  387k   50  197k    0     0   128k      0  0:00:03  0:00:01  0:00:02  500k\r",
      "100  387k  100  387k    0     0   210k      0  0:00:01  0:00:01 --:--:--  550k\n"
     ]
    }
   ],
   "source": [
    "%%bash -s \"$uuid\" --out hmmer_result\n",
    "\n",
    "# bash environment I can't write this command to the top\n",
    "# -s pass positional arguments from notebook namespace\n",
    "# --out redirect output to variable\n",
    "\n",
    "curl -L -H 'Expect:' \\\n",
    "     -H 'Accept:text/xml' \\\n",
    "     https://www.ebi.ac.uk/Tools/hmmer/results/\"$1\"?output=json&ali=1&range=1,1"
   ]
  },
  {
   "cell_type": "code",
   "execution_count": 28,
   "metadata": {
    "slideshow": {
     "slide_type": "subslide"
    }
   },
   "outputs": [
    {
     "data": {
      "text/html": [
       "<div>\n",
       "<style scoped>\n",
       "    .dataframe tbody tr th:only-of-type {\n",
       "        vertical-align: middle;\n",
       "    }\n",
       "\n",
       "    .dataframe tbody tr th {\n",
       "        vertical-align: top;\n",
       "    }\n",
       "\n",
       "    .dataframe thead th {\n",
       "        text-align: right;\n",
       "    }\n",
       "</style>\n",
       "<table border=\"1\" class=\"dataframe\">\n",
       "  <thead>\n",
       "    <tr style=\"text-align: right;\">\n",
       "      <th></th>\n",
       "      <th>ndom</th>\n",
       "      <th>desc</th>\n",
       "      <th>pvalue</th>\n",
       "    </tr>\n",
       "    <tr>\n",
       "      <th>acc</th>\n",
       "      <th></th>\n",
       "      <th></th>\n",
       "      <th></th>\n",
       "    </tr>\n",
       "  </thead>\n",
       "  <tbody>\n",
       "    <tr>\n",
       "      <th>1i3q_A</th>\n",
       "      <td>1</td>\n",
       "      <td>DNA-DIRECTED RNA POLYMERASE II LARGEST SUBUNIT</td>\n",
       "      <td>-2776.457219</td>\n",
       "    </tr>\n",
       "    <tr>\n",
       "      <th>3rzd_A</th>\n",
       "      <td>1</td>\n",
       "      <td>DNA-directed RNA polymerase II subunit RPB1</td>\n",
       "      <td>-2776.457219</td>\n",
       "    </tr>\n",
       "    <tr>\n",
       "      <th>5ip7_A</th>\n",
       "      <td>1</td>\n",
       "      <td>DNA-directed RNA polymerase II subunit RPB1</td>\n",
       "      <td>-2774.861284</td>\n",
       "    </tr>\n",
       "    <tr>\n",
       "      <th>4a3b_A</th>\n",
       "      <td>1</td>\n",
       "      <td>DNA-DIRECTED RNA POLYMERASE II SUBUNIT RPB1</td>\n",
       "      <td>-2774.860097</td>\n",
       "    </tr>\n",
       "    <tr>\n",
       "      <th>3j1n_A</th>\n",
       "      <td>1</td>\n",
       "      <td>DNA-directed RNA polymerase II subunit RPB1</td>\n",
       "      <td>-2323.344860</td>\n",
       "    </tr>\n",
       "    <tr>\n",
       "      <th>3j0k_A</th>\n",
       "      <td>1</td>\n",
       "      <td>DNA-directed RNA polymerase II largest subunit</td>\n",
       "      <td>-2323.344860</td>\n",
       "    </tr>\n",
       "    <tr>\n",
       "      <th>5x4z_A</th>\n",
       "      <td>1</td>\n",
       "      <td>DNA-directed RNA polymerase subunit</td>\n",
       "      <td>-2002.511940</td>\n",
       "    </tr>\n",
       "    <tr>\n",
       "      <th>3h0g_A</th>\n",
       "      <td>1</td>\n",
       "      <td>DNA-directed RNA polymerase II subunit rpb1</td>\n",
       "      <td>-1737.379536</td>\n",
       "    </tr>\n",
       "    <tr>\n",
       "      <th>5u0s_a</th>\n",
       "      <td>1</td>\n",
       "      <td>RNA polymerase II subunit Rpb1</td>\n",
       "      <td>-1737.379536</td>\n",
       "    </tr>\n",
       "    <tr>\n",
       "      <th>5iy6_A</th>\n",
       "      <td>4</td>\n",
       "      <td>DNA-directed RNA polymerase II subunit RPB1</td>\n",
       "      <td>-1447.285531</td>\n",
       "    </tr>\n",
       "  </tbody>\n",
       "</table>\n",
       "</div>"
      ],
      "text/plain": [
       "        ndom                                            desc       pvalue\n",
       "acc                                                                      \n",
       "1i3q_A     1  DNA-DIRECTED RNA POLYMERASE II LARGEST SUBUNIT -2776.457219\n",
       "3rzd_A     1     DNA-directed RNA polymerase II subunit RPB1 -2776.457219\n",
       "5ip7_A     1     DNA-directed RNA polymerase II subunit RPB1 -2774.861284\n",
       "4a3b_A     1     DNA-DIRECTED RNA POLYMERASE II SUBUNIT RPB1 -2774.860097\n",
       "3j1n_A     1     DNA-directed RNA polymerase II subunit RPB1 -2323.344860\n",
       "3j0k_A     1  DNA-directed RNA polymerase II largest subunit -2323.344860\n",
       "5x4z_A     1             DNA-directed RNA polymerase subunit -2002.511940\n",
       "3h0g_A     1     DNA-directed RNA polymerase II subunit rpb1 -1737.379536\n",
       "5u0s_a     1                  RNA polymerase II subunit Rpb1 -1737.379536\n",
       "5iy6_A     4     DNA-directed RNA polymerase II subunit RPB1 -1447.285531"
      ]
     },
     "execution_count": 28,
     "metadata": {},
     "output_type": "execute_result"
    }
   ],
   "source": [
    "# very complex output, I just want a summary\n",
    "header = ['acc', 'ndom', 'desc', 'pvalue']\n",
    "tab = []\n",
    "for hit in json.loads(hmmer_result)['results']['hits']:\n",
    "    tab.append([hit[field] for field in header])\n",
    "    \n",
    "result_table = pd.DataFrame(tab)\n",
    "result_table.columns = header\n",
    "result_table.set_index('acc').head(10)"
   ]
  },
  {
   "cell_type": "markdown",
   "metadata": {
    "slideshow": {
     "slide_type": "slide"
    }
   },
   "source": [
    "## InterProScan\n",
    "Proteins perform a function in the cell and that function can be inferred from the protein sequence.\n",
    "\n",
    "InterPro provides functional analysis of proteins by classifying them into **families** and predicting **domains** and important sites.\n",
    "\n",
    "InterProScan is the online tool that produces InterPro annotations. It aggregates many different tools coming from different research groups.\n",
    "\n",
    "Endpoints for the RESTful API are not written anywhere. If you search for a REST service you will be redirected here:<br>\n",
    "https://goo.gl/4XMzPK\n",
    "\n",
    "Where you'll find directions to a python script<br>\n",
    "https://github.com/ebi-wp/webservice-clients/blob/master/python/iprscan5.py"
   ]
  },
  {
   "cell_type": "code",
   "execution_count": 29,
   "metadata": {
    "slideshow": {
     "slide_type": "slide"
    }
   },
   "outputs": [
    {
     "name": "stderr",
     "output_type": "stream",
     "text": [
      "iprscan5-R20181106-103158-0125-33498173-p2m\n",
      "RUNNING\n",
      "RUNNING\n",
      "RUNNING\n",
      "RUNNING\n",
      "RUNNING\n",
      "RUNNING\n",
      "RUNNING\n",
      "RUNNING\n",
      "FINISHED\n"
     ]
    },
    {
     "name": "stdout",
     "output_type": "stream",
     "text": [
      "interproscanOut.out.txt\n",
      "interproscanOut.log.txt\n",
      "interproscanOut.tsv.txt\n",
      "interproscanOut.xml.xml\n",
      "interproscanOut.htmltarball.html.tar.gz\n",
      "interproscanOut.gff.txt\n",
      "interproscanOut.svg.svg\n",
      "interproscanOut.sequence.txt\n",
      "interproscanOut.json.txt\n"
     ]
    }
   ],
   "source": [
    "# use biopython to obtain a protein sequence from one of our transcripts\n",
    "protein_seq = Seq(cds[0]['seq']).transcribe().translate()\n",
    "\n",
    "# pip install xmltramp2\n",
    "# use jupyter magic to feed a namespace variable to the command line\n",
    "%run ipr5API.py --outfile interproscanOut --sequence $protein_seq --email myemail@gmail.com --quiet"
   ]
  },
  {
   "cell_type": "code",
   "execution_count": 30,
   "metadata": {
    "slideshow": {
     "slide_type": "slide"
    }
   },
   "outputs": [
    {
     "data": {
      "text/html": [
       "<div>\n",
       "<style scoped>\n",
       "    .dataframe tbody tr th:only-of-type {\n",
       "        vertical-align: middle;\n",
       "    }\n",
       "\n",
       "    .dataframe tbody tr th {\n",
       "        vertical-align: top;\n",
       "    }\n",
       "\n",
       "    .dataframe thead th {\n",
       "        text-align: right;\n",
       "    }\n",
       "</style>\n",
       "<table border=\"1\" class=\"dataframe\">\n",
       "  <thead>\n",
       "    <tr style=\"text-align: right;\">\n",
       "      <th></th>\n",
       "      <th>length</th>\n",
       "      <th>sign acc</th>\n",
       "      <th>sign desc</th>\n",
       "      <th>start</th>\n",
       "      <th>end</th>\n",
       "      <th>score</th>\n",
       "      <th>status</th>\n",
       "      <th>date</th>\n",
       "      <th>ipr acc</th>\n",
       "      <th>ipr desc</th>\n",
       "    </tr>\n",
       "    <tr>\n",
       "      <th>1</th>\n",
       "      <th></th>\n",
       "      <th></th>\n",
       "      <th></th>\n",
       "      <th></th>\n",
       "      <th></th>\n",
       "      <th></th>\n",
       "      <th></th>\n",
       "      <th></th>\n",
       "      <th></th>\n",
       "      <th></th>\n",
       "    </tr>\n",
       "  </thead>\n",
       "  <tbody>\n",
       "    <tr>\n",
       "      <th>CDD</th>\n",
       "      <td>338</td>\n",
       "      <td>cd07832</td>\n",
       "      <td>STKc_CCRK</td>\n",
       "      <td>3</td>\n",
       "      <td>281</td>\n",
       "      <td>1.12966E-173</td>\n",
       "      <td>T</td>\n",
       "      <td>06-11-2018</td>\n",
       "      <td>NaN</td>\n",
       "      <td>NaN</td>\n",
       "    </tr>\n",
       "    <tr>\n",
       "      <th>Gene3D</th>\n",
       "      <td>338</td>\n",
       "      <td>G3DSA:3.30.200.20</td>\n",
       "      <td>NaN</td>\n",
       "      <td>1</td>\n",
       "      <td>97</td>\n",
       "      <td>9.4E-21</td>\n",
       "      <td>T</td>\n",
       "      <td>06-11-2018</td>\n",
       "      <td>NaN</td>\n",
       "      <td>NaN</td>\n",
       "    </tr>\n",
       "    <tr>\n",
       "      <th>Gene3D</th>\n",
       "      <td>338</td>\n",
       "      <td>G3DSA:1.10.510.10</td>\n",
       "      <td>NaN</td>\n",
       "      <td>182</td>\n",
       "      <td>288</td>\n",
       "      <td>5.6E-23</td>\n",
       "      <td>T</td>\n",
       "      <td>06-11-2018</td>\n",
       "      <td>NaN</td>\n",
       "      <td>NaN</td>\n",
       "    </tr>\n",
       "    <tr>\n",
       "      <th>Gene3D</th>\n",
       "      <td>338</td>\n",
       "      <td>G3DSA:1.10.510.10</td>\n",
       "      <td>NaN</td>\n",
       "      <td>99</td>\n",
       "      <td>181</td>\n",
       "      <td>2.8E-24</td>\n",
       "      <td>T</td>\n",
       "      <td>06-11-2018</td>\n",
       "      <td>NaN</td>\n",
       "      <td>NaN</td>\n",
       "    </tr>\n",
       "    <tr>\n",
       "      <th>PANTHER</th>\n",
       "      <td>338</td>\n",
       "      <td>PTHR24056:SF242</td>\n",
       "      <td>NaN</td>\n",
       "      <td>169</td>\n",
       "      <td>296</td>\n",
       "      <td>1.7E-73</td>\n",
       "      <td>T</td>\n",
       "      <td>06-11-2018</td>\n",
       "      <td>NaN</td>\n",
       "      <td>NaN</td>\n",
       "    </tr>\n",
       "    <tr>\n",
       "      <th>PANTHER</th>\n",
       "      <td>338</td>\n",
       "      <td>PTHR24056:SF242</td>\n",
       "      <td>NaN</td>\n",
       "      <td>4</td>\n",
       "      <td>180</td>\n",
       "      <td>1.7E-73</td>\n",
       "      <td>T</td>\n",
       "      <td>06-11-2018</td>\n",
       "      <td>NaN</td>\n",
       "      <td>NaN</td>\n",
       "    </tr>\n",
       "    <tr>\n",
       "      <th>PANTHER</th>\n",
       "      <td>338</td>\n",
       "      <td>PTHR24056</td>\n",
       "      <td>NaN</td>\n",
       "      <td>169</td>\n",
       "      <td>296</td>\n",
       "      <td>1.7E-73</td>\n",
       "      <td>T</td>\n",
       "      <td>06-11-2018</td>\n",
       "      <td>NaN</td>\n",
       "      <td>NaN</td>\n",
       "    </tr>\n",
       "    <tr>\n",
       "      <th>PANTHER</th>\n",
       "      <td>338</td>\n",
       "      <td>PTHR24056</td>\n",
       "      <td>NaN</td>\n",
       "      <td>4</td>\n",
       "      <td>180</td>\n",
       "      <td>1.7E-73</td>\n",
       "      <td>T</td>\n",
       "      <td>06-11-2018</td>\n",
       "      <td>NaN</td>\n",
       "      <td>NaN</td>\n",
       "    </tr>\n",
       "    <tr>\n",
       "      <th>Pfam</th>\n",
       "      <td>338</td>\n",
       "      <td>PF00069</td>\n",
       "      <td>Protein kinase domain</td>\n",
       "      <td>7</td>\n",
       "      <td>180</td>\n",
       "      <td>9.7E-35</td>\n",
       "      <td>T</td>\n",
       "      <td>06-11-2018</td>\n",
       "      <td>NaN</td>\n",
       "      <td>NaN</td>\n",
       "    </tr>\n",
       "    <tr>\n",
       "      <th>ProSitePatterns</th>\n",
       "      <td>338</td>\n",
       "      <td>PS00108</td>\n",
       "      <td>Serine/Threonine protein kinases active-site s...</td>\n",
       "      <td>136</td>\n",
       "      <td>148</td>\n",
       "      <td>-</td>\n",
       "      <td>T</td>\n",
       "      <td>06-11-2018</td>\n",
       "      <td>NaN</td>\n",
       "      <td>NaN</td>\n",
       "    </tr>\n",
       "    <tr>\n",
       "      <th>ProSiteProfiles</th>\n",
       "      <td>338</td>\n",
       "      <td>PS50011</td>\n",
       "      <td>Protein kinase domain profile.</td>\n",
       "      <td>4</td>\n",
       "      <td>280</td>\n",
       "      <td>31.976</td>\n",
       "      <td>T</td>\n",
       "      <td>06-11-2018</td>\n",
       "      <td>NaN</td>\n",
       "      <td>NaN</td>\n",
       "    </tr>\n",
       "    <tr>\n",
       "      <th>SMART</th>\n",
       "      <td>338</td>\n",
       "      <td>SM00220</td>\n",
       "      <td>NaN</td>\n",
       "      <td>4</td>\n",
       "      <td>280</td>\n",
       "      <td>7.1E-58</td>\n",
       "      <td>T</td>\n",
       "      <td>06-11-2018</td>\n",
       "      <td>NaN</td>\n",
       "      <td>NaN</td>\n",
       "    </tr>\n",
       "    <tr>\n",
       "      <th>SUPERFAMILY</th>\n",
       "      <td>338</td>\n",
       "      <td>SSF56112</td>\n",
       "      <td>NaN</td>\n",
       "      <td>1</td>\n",
       "      <td>286</td>\n",
       "      <td>3.37E-68</td>\n",
       "      <td>T</td>\n",
       "      <td>06-11-2018</td>\n",
       "      <td>NaN</td>\n",
       "      <td>NaN</td>\n",
       "    </tr>\n",
       "  </tbody>\n",
       "</table>\n",
       "</div>"
      ],
      "text/plain": [
       "                 length           sign acc  \\\n",
       "1                                            \n",
       "CDD                 338            cd07832   \n",
       "Gene3D              338  G3DSA:3.30.200.20   \n",
       "Gene3D              338  G3DSA:1.10.510.10   \n",
       "Gene3D              338  G3DSA:1.10.510.10   \n",
       "PANTHER             338    PTHR24056:SF242   \n",
       "PANTHER             338    PTHR24056:SF242   \n",
       "PANTHER             338          PTHR24056   \n",
       "PANTHER             338          PTHR24056   \n",
       "Pfam                338            PF00069   \n",
       "ProSitePatterns     338            PS00108   \n",
       "ProSiteProfiles     338            PS50011   \n",
       "SMART               338            SM00220   \n",
       "SUPERFAMILY         338           SSF56112   \n",
       "\n",
       "                                                         sign desc  start  \\\n",
       "1                                                                           \n",
       "CDD                                                      STKc_CCRK      3   \n",
       "Gene3D                                                         NaN      1   \n",
       "Gene3D                                                         NaN    182   \n",
       "Gene3D                                                         NaN     99   \n",
       "PANTHER                                                        NaN    169   \n",
       "PANTHER                                                        NaN      4   \n",
       "PANTHER                                                        NaN    169   \n",
       "PANTHER                                                        NaN      4   \n",
       "Pfam                                         Protein kinase domain      7   \n",
       "ProSitePatterns  Serine/Threonine protein kinases active-site s...    136   \n",
       "ProSiteProfiles                     Protein kinase domain profile.      4   \n",
       "SMART                                                          NaN      4   \n",
       "SUPERFAMILY                                                    NaN      1   \n",
       "\n",
       "                 end         score status        date ipr acc ipr desc  \n",
       "1                                                                       \n",
       "CDD              281  1.12966E-173      T  06-11-2018     NaN      NaN  \n",
       "Gene3D            97       9.4E-21      T  06-11-2018     NaN      NaN  \n",
       "Gene3D           288       5.6E-23      T  06-11-2018     NaN      NaN  \n",
       "Gene3D           181       2.8E-24      T  06-11-2018     NaN      NaN  \n",
       "PANTHER          296       1.7E-73      T  06-11-2018     NaN      NaN  \n",
       "PANTHER          180       1.7E-73      T  06-11-2018     NaN      NaN  \n",
       "PANTHER          296       1.7E-73      T  06-11-2018     NaN      NaN  \n",
       "PANTHER          180       1.7E-73      T  06-11-2018     NaN      NaN  \n",
       "Pfam             180       9.7E-35      T  06-11-2018     NaN      NaN  \n",
       "ProSitePatterns  148             -      T  06-11-2018     NaN      NaN  \n",
       "ProSiteProfiles  280        31.976      T  06-11-2018     NaN      NaN  \n",
       "SMART            280       7.1E-58      T  06-11-2018     NaN      NaN  \n",
       "SUPERFAMILY      286      3.37E-68      T  06-11-2018     NaN      NaN  "
      ]
     },
     "execution_count": 30,
     "metadata": {},
     "output_type": "execute_result"
    }
   ],
   "source": [
    "df = pd.read_csv('interproscanOut.tsv.txt', delimiter='\\t', header=None, usecols=range(2,13), index_col=1)\n",
    "df.columns = ['length', 'sign acc', 'sign desc', 'start', 'end', 'score', 'status', 'date', 'ipr acc', 'ipr desc']\n",
    "df.sort_index()"
   ]
  },
  {
   "cell_type": "markdown",
   "metadata": {
    "slideshow": {
     "slide_type": "subslide"
    }
   },
   "source": [
    "More info about the tools used can be found in the about page of InterPro website <br> __[https://www.ebi.ac.uk/interpro/](https://www.ebi.ac.uk/interpro/)__\n",
    "\n",
    "Let's look for our protein in InterPro. We need a UniProt accession number.\n",
    "\n",
    "Retrieve UniProt accessions relative to a gene from Ensembl `xrefs/id` endpoint (`ENSG00000156345`)"
   ]
  },
  {
   "cell_type": "code",
   "execution_count": 31,
   "metadata": {},
   "outputs": [
    {
     "data": {
      "text/html": [
       "<div>\n",
       "<style scoped>\n",
       "    .dataframe tbody tr th:only-of-type {\n",
       "        vertical-align: middle;\n",
       "    }\n",
       "\n",
       "    .dataframe tbody tr th {\n",
       "        vertical-align: top;\n",
       "    }\n",
       "\n",
       "    .dataframe thead th {\n",
       "        text-align: right;\n",
       "    }\n",
       "</style>\n",
       "<table border=\"1\" class=\"dataframe\">\n",
       "  <thead>\n",
       "    <tr style=\"text-align: right;\">\n",
       "      <th></th>\n",
       "      <th>db_display_name</th>\n",
       "      <th>dbname</th>\n",
       "      <th>description</th>\n",
       "      <th>display_id</th>\n",
       "      <th>info_text</th>\n",
       "      <th>info_type</th>\n",
       "      <th>primary_id</th>\n",
       "      <th>synonyms</th>\n",
       "      <th>version</th>\n",
       "    </tr>\n",
       "  </thead>\n",
       "  <tbody>\n",
       "    <tr>\n",
       "      <th>0</th>\n",
       "      <td>UniProtKB Gene Name</td>\n",
       "      <td>Uniprot_gn</td>\n",
       "      <td></td>\n",
       "      <td>CDK20</td>\n",
       "      <td></td>\n",
       "      <td>DEPENDENT</td>\n",
       "      <td>Q8IZL9</td>\n",
       "      <td>[]</td>\n",
       "      <td>0</td>\n",
       "    </tr>\n",
       "    <tr>\n",
       "      <th>1</th>\n",
       "      <td>UniProtKB Gene Name</td>\n",
       "      <td>Uniprot_gn</td>\n",
       "      <td></td>\n",
       "      <td>CDK20</td>\n",
       "      <td></td>\n",
       "      <td>DEPENDENT</td>\n",
       "      <td>A0A0S2Z5B6</td>\n",
       "      <td>[]</td>\n",
       "      <td>0</td>\n",
       "    </tr>\n",
       "  </tbody>\n",
       "</table>\n",
       "</div>"
      ],
      "text/plain": [
       "       db_display_name      dbname description display_id info_text  \\\n",
       "0  UniProtKB Gene Name  Uniprot_gn                  CDK20             \n",
       "1  UniProtKB Gene Name  Uniprot_gn                  CDK20             \n",
       "\n",
       "   info_type  primary_id synonyms version  \n",
       "0  DEPENDENT      Q8IZL9       []       0  \n",
       "1  DEPENDENT  A0A0S2Z5B6       []       0  "
      ]
     },
     "execution_count": 31,
     "metadata": {},
     "output_type": "execute_result"
    }
   ],
   "source": [
    "xref_url = base_url + 'xrefs/id/ENSG00000156345' + '?content-type=application/json&external_db=Uniprot_gn'\n",
    "xldf = pd.DataFrame.from_dict(json.loads(urllib.request.urlopen(xref_url).read()))\n",
    "xldf"
   ]
  },
  {
   "cell_type": "markdown",
   "metadata": {},
   "source": [
    "Every entry in UniProt have precalculated InterPro results in a dedicated page <br> \n",
    "__[https://www.ebi.ac.uk/interpro/protein/Q8IZL9](https://www.ebi.ac.uk/interpro/protein/Q8IZL9)__\n",
    "\n",
    "If you compare InterPro annotation found on the web page to the table we retrieved from the REST service you can notice there are differences in the annotation. This leads us to our third exercise ..."
   ]
  },
  {
   "cell_type": "markdown",
   "metadata": {
    "slideshow": {
     "slide_type": "slide"
    }
   },
   "source": [
    "### Why is annotation different?\n",
    "\n",
    "A short summary up to this point:\n",
    "1. Retrieved a gene sequence from Ensembl\n",
    "2. Selected a trasnript among those produced by that gene\n",
    "3. Translated the transcript in protein sequence with BioPython\n",
    "4. Scanned that protein sequence for domains with InterProScan\n",
    "5. Compared InterPro annotation we produced with that precalculated for the protein in UniProt"
   ]
  },
  {
   "cell_type": "code",
   "execution_count": 32,
   "metadata": {
    "slideshow": {
     "slide_type": "fragment"
    }
   },
   "outputs": [],
   "source": [
    "# from Bio import ExPASy\n",
    "# from Bio import SwissProt\n",
    "# xldf = pd.DataFrame.from_dict(json.loads(urllib.request.urlopen(xref_url).read()))\n",
    "handle = ExPASy.get_sprot_raw(xldf['primary_id'][0])\n",
    "record = SwissProt.read(handle)"
   ]
  },
  {
   "cell_type": "markdown",
   "metadata": {
    "slideshow": {
     "slide_type": "-"
    }
   },
   "source": [
    "What's the length of the sequence?\n",
    "* explore attributes of `record` using the `dir()` function: `dir(record)`\n",
    "* find the correct attribute"
   ]
  },
  {
   "cell_type": "code",
   "execution_count": 33,
   "metadata": {
    "slideshow": {
     "slide_type": "subslide"
    }
   },
   "outputs": [
    {
     "name": "stdout",
     "output_type": "stream",
     "text": [
      "accessions                    annotation_update             comments\n",
      "created                       cross_references              data_class\n",
      "description                   entry_name                    features\n",
      "gene_name                     host_organism                 host_taxonomy_id\n",
      "keywords                      molecule_type                 organelle\n",
      "organism                      organism_classification       protein_existence\n",
      "references                    seqinfo                       sequence\n",
      "sequence_length               sequence_update               taxonomy_id\n"
     ]
    }
   ],
   "source": [
    "# remove built-ins \n",
    "attr = list(filter(lambda e: not e.startswith('__'), dir(record)))\n",
    "# print on three columns\n",
    "for a, b, c in zip(attr[::3], attr[1::3], attr[2::3]):\n",
    "    print('{:<30}{:<30}{:<}'.format(a,b,c))"
   ]
  },
  {
   "cell_type": "code",
   "execution_count": 34,
   "metadata": {
    "slideshow": {
     "slide_type": "-"
    }
   },
   "outputs": [
    {
     "data": {
      "text/plain": [
       "346"
      ]
     },
     "execution_count": 34,
     "metadata": {},
     "output_type": "execute_result"
    }
   ],
   "source": [
    "record.sequence_length"
   ]
  },
  {
   "cell_type": "code",
   "execution_count": 35,
   "metadata": {
    "slideshow": {
     "slide_type": "-"
    }
   },
   "outputs": [
    {
     "data": {
      "text/plain": [
       "338"
      ]
     },
     "execution_count": 35,
     "metadata": {},
     "output_type": "execute_result"
    }
   ],
   "source": [
    "df['length'][0]"
   ]
  },
  {
   "cell_type": "markdown",
   "metadata": {
    "slideshow": {
     "slide_type": "subslide"
    }
   },
   "source": [
    "Lengths are different because the transcript we used for the analysis is not the canonical sequence in UniProt:\n",
    "\n",
    "* UniProt is a DB of protein sequences\n",
    "* Each entry is refers to a gene\n",
    "* However each gene may code for multiple proteins (isoforms)\n",
    "* Thus each entry has one main isoform - the canonical sequence - and may have additional isoforms.\n",
    "\n",
    "### Take home message: versioning\n",
    "\n",
    "Versions of biological entities are very important. They change continuously according to new discoveries and data.\n",
    "\n",
    "It's very important to know what version of an object you are talking about."
   ]
  }
 ],
 "metadata": {
  "celltoolbar": "Slideshow",
  "kernelspec": {
   "display_name": "Python 3",
   "language": "python",
   "name": "python3"
  },
  "language_info": {
   "codemirror_mode": {
    "name": "ipython",
    "version": 3
   },
   "file_extension": ".py",
   "mimetype": "text/x-python",
   "name": "python",
   "nbconvert_exporter": "python",
   "pygments_lexer": "ipython3",
   "version": "3.7.1"
  }
 },
 "nbformat": 4,
 "nbformat_minor": 2
}
