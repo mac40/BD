{
 "cells": [
  {
   "cell_type": "code",
   "execution_count": 1,
   "metadata": {
    "slideshow": {
     "slide_type": "skip"
    }
   },
   "outputs": [],
   "source": [
    "# general libraries\n",
    "import json\n",
    "import urllib.request\n",
    "from copy import copy\n",
    "# biopython libraries\n",
    "from Bio.Alphabet import generic_dna, generic_protein\n",
    "## for sequence handling\n",
    "from Bio import SeqIO\n",
    "from Bio.Seq import Seq\n",
    "## for alignments\n",
    "from Bio import pairwise2\n",
    "from Bio.SubsMat import MatrixInfo\n",
    "## for BLAST\n",
    "from Bio.Blast import NCBIWWW\n",
    "from Bio.Blast import NCBIXML\n",
    "\n",
    "import pandas as pd\n",
    "\n",
    "from IPython.display import Image\n",
    "from IPython.display import HTML"
   ]
  },
  {
   "cell_type": "markdown",
   "metadata": {
    "slideshow": {
     "slide_type": "slide"
    }
   },
   "source": [
    "# DNA to protein sequences\n",
    "\n",
    "## You will KNOW:\n",
    "* What is a gene in biology\n",
    "* How does a gene become a protein in the cell\n",
    "* How a gene is represented in Ensembl\n",
    "* What is a REST web-service\n",
    "* Some magic in Jupyter notebooks\n"
   ]
  },
  {
   "cell_type": "markdown",
   "metadata": {
    "slideshow": {
     "slide_type": "-"
    }
   },
   "source": [
    "## You will BE ABLE TO:\n",
    "* Retrieve gene sequences with a REST service\n",
    "* Align biological sequences with the BioPython library\n",
    "* Visualize alignments in Jalview\n",
    "* Analyze a protein sequence launching InterProScan remotely\n",
    "* Find similar sequences launching pHMMER remotely"
   ]
  },
  {
   "cell_type": "markdown",
   "metadata": {
    "slideshow": {
     "slide_type": "slide"
    }
   },
   "source": [
    "## We will use\n",
    "* Python3 (Jupyter in this case but vanilla python2.7/3.x is OK)\n",
    "* BioPython library\n",
    "* Jalview\n",
    "\n",
    "### Install python and required libraries (Unix-like) (may require sudo)\n",
    "`apt install python3`<br>\n",
    "`apt install python-pip`<br>\n",
    "`pip install biopython`<br>\n",
    "`pip install pandas` (just for visualization purposes) <br>\n",
    "`pip install xmltramp2` (required by InterProScan API script) <br>\n",
    "\n",
    "### If you want to use Jupyter \n",
    "`pip install jupyter`<br>\n",
    "`jupyter notebook`"
   ]
  },
  {
   "cell_type": "markdown",
   "metadata": {
    "slideshow": {
     "slide_type": "slide"
    }
   },
   "source": [
    "## What is a gene\n",
    "\n",
    "A gene is a *discrete* *inheritable* unit that gives rise to observable *physical characteristics*.\n",
    "\n",
    "* **It gives rise to physical characteristics** means that it produces an observable phenomenon (a.k.a. phenotype)\n",
    "* **Inheritable** means that can be transferred across generations\n",
    "* **Discrete** means that phenotypes can be inherited singularly"
   ]
  },
  {
   "cell_type": "markdown",
   "metadata": {
    "slideshow": {
     "slide_type": "subslide"
    }
   },
   "source": [
    "## Discovery of DNA and invention of genetics\n",
    "\n",
    "1860: The concept of discrete inheritable units was first suggested by Gregor Mendel\n",
    "\n",
    "1905: The name *gene* comes up from William Bateson\n",
    "\n",
    "1923: Frederick Griffith observed that DNA carries genes\n",
    "\n",
    "1941: Edward Lawrie Tatum and George Wells Beadle show that genes code for proteins. This is known as the original **central dogma of molecular biology**"
   ]
  },
  {
   "cell_type": "markdown",
   "metadata": {
    "slideshow": {
     "slide_type": "subslide"
    }
   },
   "source": [
    "## The central dogma of molecular biology\n",
    "<img width=\"80%\" src=\"media/centraldogma.jpg\">\n",
    "\n",
    "A gene is **transcribed** to RNA first, then **translated** to Protein\n",
    "* DNA sits in the nucleus of the cell and is made of Adenine (A), Thymine (T), Cytosine (C) and Guanine (G) **nucleotides**\n",
    "* RNA is made in the nucleus and then brought outside. It uses Uracile (U) instead of Thymine (T)\n",
    "* Proteins are made of **amino acids**, completely different molecules from nucleotides\n",
    "* A **codon** (3 nucleotides) code for 1 amino acid following the **genetic code**, which is universal across all life forms."
   ]
  },
  {
   "cell_type": "markdown",
   "metadata": {
    "slideshow": {
     "slide_type": "skip"
    }
   },
   "source": [
    "## The structure of DNA\n",
    "\n",
    "<img align='centetr' width=80% src=\"https://upload.wikimedia.org/wikipedia/commons/thumb/b/b2/DNA_chemical_structure_2.svg/1200px-DNA_chemical_structure_2.svg.png\">\n",
    "\n",
    "\n",
    "In 1953 DNA structure is resolved to be a double helix by Rosalind Franklin, James Watson and Francis Crick\n",
    "\n",
    "It's a molecule composed of two chains (made of *nucleotides*) that coil around each other to form a double helix. \n",
    "\n",
    "Each chain is a sequence of nucleotides and the two helices are kept together by interactions between complementary nucleotides"
   ]
  },
  {
   "cell_type": "markdown",
   "metadata": {
    "slideshow": {
     "slide_type": "subslide"
    }
   },
   "source": [
    "## Genes are highly complex units\n",
    "<img align='center' width=80% src=\"https://upload.wikimedia.org/wikipedia/commons/5/54/Gene_structure_eukaryote_2_annotated.svg\">\n",
    "\n",
    "There are many portion of the gene that have **regulatory functions**\n",
    "\n",
    "The portion of a gene that is transcribed to RNA has its own regulatory sequences (UTRs, introns) and need to be processed and trimmed (splicing) beforme becoming a **mature** messenger\n",
    "\n",
    "Introns are removed and exons are combined to form a mature messenger RNA, which is then **translated** to protein"
   ]
  },
  {
   "cell_type": "code",
   "execution_count": 7,
   "metadata": {
    "scrolled": false,
    "slideshow": {
     "slide_type": "subslide"
    }
   },
   "outputs": [
    {
     "data": {
      "text/html": [
       "<iframe width=\"729\" height=\"410\" src=\"https://www.youtube.com/embed/gG7uCskUOrA\" frameborder=\"0\" allow=\"accelerometer; autoplay; encrypted-media; gyroscope; picture-in-picture\" allowfullscreen></iframe>"
      ],
      "text/plain": [
       "<IPython.core.display.HTML object>"
      ]
     },
     "execution_count": 7,
     "metadata": {},
     "output_type": "execute_result"
    }
   ],
   "source": [
    "HTML('<iframe width=\"729\" height=\"410\" src=\"https://www.youtube.com/embed/gG7uCskUOrA\" frameborder=\"0\" allow=\"accelerometer; autoplay; encrypted-media; gyroscope; picture-in-picture\" allowfullscreen></iframe>')"
   ]
  },
  {
   "cell_type": "code",
   "execution_count": 8,
   "metadata": {
    "slideshow": {
     "slide_type": "subslide"
    }
   },
   "outputs": [
    {
     "data": {
      "text/html": [
       "<iframe width=\"688\" height=\"410\" src=\"https://www.youtube.com/embed/2BwWavExcFI\" frameborder=\"0\" allow=\"accelerometer; autoplay; encrypted-media; gyroscope; picture-in-picture\" allowfullscreen></iframe>"
      ],
      "text/plain": [
       "<IPython.core.display.HTML object>"
      ]
     },
     "execution_count": 8,
     "metadata": {},
     "output_type": "execute_result"
    }
   ],
   "source": [
    "HTML('<iframe width=\"688\" height=\"410\" src=\"https://www.youtube.com/embed/2BwWavExcFI\" frameborder=\"0\" allow=\"accelerometer; autoplay; encrypted-media; gyroscope; picture-in-picture\" allowfullscreen></iframe>')"
   ]
  },
  {
   "cell_type": "markdown",
   "metadata": {
    "slideshow": {
     "slide_type": "slide"
    }
   },
   "source": [
    "## Some numbers\n",
    "A ribosome translates approximately $20$ amino acids per second (reading $60$ nuceotides per second)\n",
    "\n",
    "In a typical cell there are around $50\\,000$ ribosomes\n",
    "\n",
    "In a typical human there are around $37$ trillions $(10^{12})$ cells\n",
    "\n",
    "$$ 20 * (5*10^5) * (37 *10^{12}) = 3.7*10^{20}$$\n",
    "\n",
    "Just accounting for translation events. Other operations going on at cellular level:\n",
    "* DNA replication\n",
    "* Chromosome breathing (folding/unfolding)\n",
    "* DNA repairing\n",
    "* Epygenetic modifications (DNA methylation)\n",
    "* RNA-mediated cell regulation\n",
    "* Protein post translational modifications\n",
    "* Enzyme-mediated catalysis or chemical reactions\n",
    "* ..."
   ]
  },
  {
   "cell_type": "markdown",
   "metadata": {
    "slideshow": {
     "slide_type": "slide"
    }
   },
   "source": [
    "## Genes in Ensembl\n",
    "Genes are stored as sequences representing nucleotides (ACTG)\n",
    "\n",
    "The central resource containing gene sequences is __[Ensembl](https://www.ensembl.org/index.html)__\n",
    "\n",
    "Ensembl is an example of **genome browser**, a tool to browse the genome.\n",
    "\n",
    "It's highly organized and has an elaborate interface to retrieve and __[visualize data](https://www.ensembl.org/Homo_sapiens/Gene/Summary?db=core;g=ENSG00000139618;r=13:32315474-32400266)__\n",
    "\n",
    "Ensembl - like many EBI services - offer a **REST API**"
   ]
  },
  {
   "cell_type": "markdown",
   "metadata": {
    "slideshow": {
     "slide_type": "slide"
    }
   },
   "source": [
    "### What is a REST service\n",
    "Representational State Transfer (**REST**) is a set of constraints to be used for creating web services.\n",
    "\n",
    "RESTful web services, provide **interoperability** between computer systems on the Internet.\n",
    "\n",
    "In a RESTful web service, requests are made to a resource's URL (Uniform Resource Locator) or colloquially a **web address**\n",
    "\n",
    "Requests usually follow the **HTTP** protocol (the operations available are GET, POST, ...)\n",
    "\n",
    "RESTful web services expose one or more **endpoints** to access different data. "
   ]
  },
  {
   "cell_type": "markdown",
   "metadata": {
    "slideshow": {
     "slide_type": "slide"
    }
   },
   "source": [
    "## Retrieve a gene sequence from Ensembl\n",
    "* Use the RESTful API to retrieve a gene sequence from the Ensemble database.\n",
    "* The gene we want to obtain is the *cyclin dependent kinase 20* (`ENSG00000156345`)\n",
    "* Documentation for Ensembl endpoints is at __[https://rest.ensembl.org/](https://rest.ensembl.org/)__\n",
    "* There are different kind of sequence we can ask for\n",
    "    * **genomic**: the DNA sequence\n",
    "    * **cdna**: complementary DNA (complementary to a messenger RNA)\n",
    "    * **cds**: coding sequence (complementary to the coding sequence of mRNA)\n",
    "    * **protein**: protein sequence\n",
    "\n"
   ]
  },
  {
   "cell_type": "code",
   "execution_count": 4,
   "metadata": {
    "scrolled": true,
    "slideshow": {
     "slide_type": "slide"
    }
   },
   "outputs": [
    {
     "data": {
      "text/plain": [
       "b'{\"version\":17,\"desc\":\"chromosome:GRCh38:9:87966441:87974753:-1\",\"seq\":\"GCTGTCATCGTTCCGTGGGCCCTGCTGCGGGCACGCTCTCGGCGCATGCGTTTTTTATGCGGGATTAAGCTTGCTGCTGCGTGACAGCGGAGGGCTAGGAAAAGGCGCAGTGGGGCCCGGAGCTGTCACCCCTGACTCGACGCAGCTTCCGTTCTCCTGGTGACGTCGCCTACAGGAACCGCCCCAGTGGTCAGCTGCCGCGCTGTTGCTAGGCAACAGCGTGCGAGCTCAGATCAGCGTGGGGTGGAGGAGAAGTGGAGTTTGGAAGTTCAGGGGCACAGGGGCACAGGCCCACGACTGCAGCGGGATGGACCAGTACTGCATCCTGGGCCGCATCGGGGAGGGCGCCCACGGCATCGTCTTCAAGGCCAAGCACGTGGAGGTGAGGCTGGACCGCGGCCGGCAGCCTGGCGGGGGTGTGCCCCCGCCACCCTCCGGCTAACGCTCTAAACTGTTTCGGTTCCCTTTTTACATCCAGTACAGTTTTTAAAACCTACTCATATTCTAAACCTACTTTGGGCCGTTGCGCTTCCCTCCGCACAGCTGGCTTGGTCCCCTACCCCAGCGGCTGGGTCCCAGGCTAGTCCTAGACCCCCGAGGAGGGCCTCTGGCCGAGCCGGGGGCGCGTGTCTCTCTCTCAACCACCTTCCCCTCACCCACCTTCATCTCTCTTTCCCAGCCGAGGGTGGGCTGGCAGTGTCTGCCTTCTATCCTGCAGACTGGCGAGATAGTTGCCCTCAAGAAGGTGGCCCTAAGGCGGTTGGAGGACGGCTTCCCTAACCAGGCCCTGCGGGAGATTAAGGCTCTGCAGGAGATGGAGGACAATCAGTATGTGAGTAGGGGAGGGGGGGCATGGTATTCTCACCCTCAGTCGCTCGTTCCCACTTCTTTGTGCCTTCATTTTCCCAGCTACGCCTTCACCAGCTTTCAGGGATTTCCTCCCGCTGTCACTCACACACACTGCTCATTCATCTGCCTCCTTACCCCCTTTTGCCCTTTTTTGTCCACTTGTTCACCTTTATTTACCTATTTCTTTCATTTCTCACACATTCACTCTCATTTGCCTACTTATTTCTTAATGTATTCATTCATTCACCGACTTTTTTTCTCAAAACATGTAGTGATTTATAATGTAACTAGCACCTATTGAGCTCCCGATGTGTTCTGCAGGCATTATATACATTGTCATTTTGAGACCTCTTTACTACTGTACAAGGCAGGTTTCCAGATCTCTGTTTCTCAGGTGAGAGGAGGAGGTTATGTCACCAGCTCTTGGGCCCTCCGTTAGTCAGTAGAGGGTTTGGCCCAGGTTTGATTGAGAGTCCATTCTTCCCTTGGGACCTCCCATAGGCTCTACCCTGTGTTGGGCACTGGTGACACAGAGAAACCAGCTCCAGCCCAGCTCCTGAGGACTTAAGTGTGCTAACAAGAGACAGAGGCAACAGGGCCCACCTAGTGTGGTTCGTGCTGTGATAGGGTACCGGGAGGGGCTGCTGGAACACGAAGAGGGGCATCTTTCACCCCTAGTGTCATTACTCTTTTGGTGCTCTCTCTCACCCATGTCGAAATAGGGAATGTATTTGACTCCCTGGAGAGTTAACAGGGTTGGGTCTCTGTGATCTGGAGATATGCATGATATATTGGATGACAAAAGCATGTTATAAAATTTTGTGTCATCTGGGTTTTGTTTGGAAATATTATATATGTGAATGTGTATTTGTGTGTGCCATATCTGTTGTAAAGTCTGGTAGAATACACTCTAAGATTGACTGTAGGATTTTTCTTTTGTTCTTTTTCTGTTGGATTTTATGTCTTACCTGAATGTGTGCATGTGTTTTGATCTGTTAAATGGTTGTGTACTACCTGAAAAATCCGAAAACAGCAATCAGGCCATTTTGATTTTTTGAGGAAGATAAAAGGGCTTCCAGACAGCCATGTGTGGGATAGGTGGAGAGATCCATAAGGAAGCTGGTGATATGGTCCCTACATCCAGTTGGTCAGCAATTCTGAAGGTTCTAACTTTAAAACATACTCTAGATTTGCTCCTTGCCCAAGTCATCATCACCACTCATCAGAATGACAGTGGCAGCCTCCCCACTGCTCTCCATAGCCACAGTCCGGAGGGCTTTGTCAAAAGTGTAAGTTAAGTCATCGGCTCCCCTGCGTAAAAAGCCCTGGTGGCTTCTCTTCACACTTAGAGCACTATCACCATGTGCCCACCTCCAGCTGGCCTCTCCCTTTTCTCTCATTCAACACAACTTCTTAGGCATCTCTCCAGTGACCAGCACCTATCTAGGGTCCAGGAGCACAGAACAAGGCAGACACATCCTTCCCTTAAACAATCTCATGTACTCACATCCCTCTAGCCTCCTTCTGTGCTGGCGTTAGGGCCTTGCACTTGCTTTTCTTCCTGCTCAGAGCTTTATCCCAGATCCCCACAAACTGGGTCCTCATCTAGCCCCACCCCACCTAAATAAAGAAGTATCCTTTTCTCCACTCACAGAATCACACTATCCTCTTCTAGTTCTGTTGATTTTTTTTCTTTTTTTGATACAGGGTCTCACTCTGTCACCCAGGCTGGAGTGTAGAAGTGCGATTTTGTCTCCCTGTAGTCTCAACCTCCTGGGCTCAGGTGATCCTCCCACCTCAGCTTCCCAAGTAGCTAGGACTACAGGCACGTGTCACCATGCCTGGCTAGTTTTTTGTATTTTTTGTAGAGACAAGGTTTCACCATGTTGCCCAGGCTGGTCTCAAACACCTGGGTTCAAGCCATCCGCCCACCTTGGCCTCTCAAAGTACTGGGATTACGGGCATGAGACGTCATGCCCAGCCCCCTTGTATTTTGGTTCCTGTACTTACAGAATCTGAATATATCCCTTTTATTCATTTATTTGTTAAACTGTTTGTCCTTTGTGCTGTGAGTTCATTAAGAGTCCTGTCTCTCAGCTCACTCTCTGTGTAGCCTGGCTCCTCTGACAGTACTGGCCTCAGTGTTTGTGATGTGTCTGTAGCTGTCCCAGCACTGGGAAAGGTGGGATTCCTGGTGTCCTTTCCTTGGTGCTGGGATTCGGTGGTTCTAGAGGAAACAGGAGGAGACCTGTCCATCTCATGTGTGACCATCCAGATGATTTTCAGGCGGGTAGGCTGGGTGGGCGGACCAGATGGTGCCACTAAATGACCTTTTTTAGACCTTTTAGTGTTCATGGAGAATTAGAGTGGGGGCACACCTTATCTCAGGAGAGCAGAGCAAATCATGAGCATCGAGCTCTCTGATTCTTAGCTCAGGTCCACGTCACCTTCTTTGCTTACTGTCTTTTTGGATACAGGGTCCTCTGTCAGGGCATGGGCTGGGGTCTCAGGGTCACAGAGAGGGTCTGGTGACTTGAGTCTGGGGGCTAACAAGATGTCCTGCCCACAGGTGGTACAACTGAAGGCTGTGTTCCCACACGGTGGAGGCTTTGTGCTGGCCTTTGAGTTCATGCTGTCGGATCTGGCCGAGGTGGTGCGCCATGCCCAGAGGCCACTAGCCCAGGCACAGGTCAAGAGCTACCTGCAGATGCTGCTCAAGGGTGTCGCCTTCTGCCATGCCAACAACATTGTACATCGGGTCAGTCTCAGCATAGGCCGGGCATGGGGTCTGGGGAGCTGACTTGGCTTGGGGATGGGGCTAGCCCTTGTAAAAGGTGTGATAAGAAGTTGGGACAGAGCTGGTCAAGGCCTCCAGGTAAGTGGCCAGGGCATGGCCCTGGAGGAGGTGGGGACCGGGGCTGACCTGAGTGGTTAGACTGCCAAGCCCGCTTGTCCCAAGGTCCTATGGGGGATTTGGAGGGACTGATGCTTCTTTTGGTACTCCCAGGACCTGAAACCTGCCAACCTGCTCATCAGCGCCTCAGGCCAGCTCAAGATAGCGGACTTTGGCCTGGCTCGAGTCTTTTCCCCAGACGGCAGCCGCCTCTACACACACCAGGTGGCCACCAGGTAGGGAGGGCCAGATCCCTTCCAGTCTTCTCCATGGGGAAGAGATGCTTCTGGGCCTTTTCTCCAGACATTGCTTGTGGGGCTGGGGTCACCTCCCCAGGCATCCTTTTCTCAGCCCAGTGCCTGCCAGCCCTCTTCCTCGCAGGTGGTACCGAGCCCCCGAGCTCCTGTATGGTGCCCGCCAGTATGACCAGGGCGTCGATCTGTGGTGAGACCCCTGTGGGTGGTCAAAGGGTAACATGGCTCATGGATTTCTGCTAGGCTCTGAGGTCTCTGAGCTGTTTGGTGGTCTTTTCCCTGGTGGGAGTTTAGGCTTCCTTAAGGGTGTCTTCCCTGGTTGGGGTATTCTGAGCACTTTGGGGTTGGGGTTCCTCACTATGATGTTTTCGAGCTGGGTAGGGGCCAGGTGGGATGAGAATGGTGGTCCCAGGTGGGAAGCTTTCTGGGCTAGATGGGGAGGTGGTCTGAGCCGATATGTGCTGGAGTTAGATCCTAGGATATGGCATCTCTGAGCTGGTCAGAGGCCTGTGTCCTTGGACATGAAAGCTCTGAGCTTGTTTTGCAGCAAGAAGATAGTTGGCAGTGCCCATGGGTCTGAGATTTGGGGCAGGTTTGCAGGTCTGCCCCAGAAGTGTCCTAGAGCAGGAGTCTCCGAGAAGTCTTGGAACAGCTGGGGCTTTGCTCTGGGTTCTAGGGTTGAGGGCTTTGAGGGTTCAGGGACTGGGCCTCTGGACGTGAGGCTCCAGGGCTGGCTTGTGGGGCCTTGCCCTGGAGTGCAGTGTTAGAGCTGCTCTGTGGGTGGGTCTGTGGTCCATGGTGGGAGATCTCTGACCTGCTTGGGGCTCTGTGTCCACAGGTCTGTGGGCTGCATCATGGGGGAGCTGTTGAATGGGTCCCCCCTTTTCCCGGGCAAGAACGATATTGAACAGCTTTGCTATGTGCTTCGCATCTTGGGCACCCCAAACCCTCAAGTCTGGCCGGTTTGTAGGGGCCCTTGGTGAGGTGGGTGTGGGGCAGGTTTACTCCACTCCCAACAGCAAGTAACCACTCCCTCCCCTGAACCTTCTCTCTCCTGGCCCCAACCCCCCTTGATGGACAGGGACCACTGTCCTGGCCCAACTCAGGGCTTCCTCCTTCCTGCTGTCATTTGGGTTGGGGTAGATCCTGTCCTTTGTCCCTTTTCACCCCAGTACACACATGTGCAGTGTCTCAGCAAGCTGTGCACAGAGTCGTCATCTGAGAGGGCAAGGGGATGGATGAAGGAATACAGGGGTGGGTGAGTGAATGAATGATGGGTCAGGGAGACACATGGATGGGAGAGCACCCCCCATGTGAGTGTGTGTTAGGGGCTGAGAGTTGACAGCAGAGAGCATGGCAAGGGTCGGGAACTACTCTCATTGTACCCTGTTCCTTCTCCCTGGCCCAGGAGCTCACTGAGCTGCCGGACTACAACAAGATCTCCTTTAAGGAGCAGGTGCCCATGCCCCTGGAGGAGGTGCTGCCTGACGTCTCTCCCCAGGCATTGGATCTGCTGGGTCAATTCCTTCTCTACCCTCCTCACCAGCGCATCGCAGCTTCCAAGGTAGGGGGAGAGGCTGTAGTCTCTGCTCCTTCAGCTCCCCTCCCCATCACCCTGGTACTCTGTACTTGGTAGCCATGTGACCCCATCACATCAGCGACCCTCAGAACCTGTGATTGGCATGGACCAGCACCAGACATCTGGAACCCAGGGGACAGGGGCCTTGGAGCAGGTGTGCCTCTCATGAGTAGACCCCACTGGACATCCCCAGACTTCCCCTGAGGGTGGCCCATACGAGGGGCATGCCCAACTCTCAGGAGAGCGCGTGTCCGGGAGTGCAGGTTTCTGGGCTGCCCCTGACCCTGTGGCAGATACAGTAAGAGAGTCACTGGGGACTCATTCCTTTATTCCATTAGCAAGTATTTTCTGCACATCTGGCACATGCAGGGATTGTCCTGGGCCCTGCACAGATGGTAAACAATCAGTCCTACCTCCGCGGGGCACTCCTGGTGGTGAGGTAGCTCCAGGTCCAAAAGGTCACAAGAGGTCATGTTCTCCAGCTGTGGGAGCCCCAGGAGAGAGGCAAGGCCGACTTTGGGGTCAAGCAAAGCTTCCTGGTGGAGGGCAGGTTTAAGCATGAGATGTTTGAGGAGGTGTTCGCTGAAGAGAGAAATGGTGGGCAGAGGCCTGGAAGAGAGGACCCAGGAAGGCTGGTTATGGCTGGTAGGCCTGGGAGGACGATGACCACAGGAGCATGGGCTGACAGGTGTCAGGGTGTCTCTCAGGGGTCCCTGTCCCCTCCCTGCACTCAGCACCAGCCGCGTGTGTTTACATACGCCCTCTTGGTCTCCACTGTCAGCAGCTCCTGTGGGCTCTGTGTCCACAGTGTACCCAAGCCGTGTGACCCTTATCTCTTGGGTTGCCTCCCAGAATCTGGGTCTCCCCTCATCCCATTTAATCTCTTCTCCACCTGGCAGACAGAGTAACTTTATCCAAGTAGAACAGGACACATTCCTTCTCTGCCAGGGCCCTCCTGTGGCTCCATCTCAGAGGAAAAGCCAGGGTCCTTTTTGTGACCCACAGATGTCGTATGCTTGGGTGCCATCACCTCATGACGCTGCCTGCTGTTGTGCCCTGTGCTCACTCCTCTCCAGCCCCAGGGGTCAGTACACTTTTGTCCCTGGCCTGGAGCCTCATGTCCCACTTGCTTATGTCTCAAGTCTTGGCTTAAATGTCACTTCTCAGATGGCCTTCCCTCATGACTCTTCAGATCTGCAACCTCTCTCCAGGATTCCTCATTCCTCTGTCTTGCTTTCTCTCTTCCACTGCACTAATCATTATCTGACATACTGTGTATTTTACTTCATCTTGTTTATTACCCCCCACCCTCACTTATGTCAGAAAAACAGAGCTTTTGTCTGTTTTATTAACGGCTATGTTCCCAGCTTCTGGAATAGTGCTTCAGACATAGTAGACACTCAGAAAACACCCAGACACACTGAGTCAGCTGAATGCATAGATGAAGGAACATCTGCTTGAGGCTGGGGACAGGGAGGTGACTAGTTTCCTTCTGCTGTTCCTTACTTGCCACCCTCAGGCTCTCCTCCATCAGTACTTCTTCACAGCTCCCCTGCCTGCCCATCCATCTGAGCTGCCGATTCCTCAGCGTCTAGGGGGACCTGCCCCCAAGGCCCATCCAGGGCCCCCCCACATCCATGACTTCCACGTGGACCGGCCTCTTGAGGAGTCGCTGTTGAACCCAGAGCTGATTCGGCCCTTCATCCTGGAGGGGTGAGAAGTTGGCCCTGGTCCCGTCTGCCTGCTCCTCAGGACCACTCAGTCCACCTGTTCCTCTGCCACCTGCCTGGCTTCACCCTCCAAGGCCTCCCCATGGCCACAGTGGGCCCACACCACACCCTGCCCCTTAGCCCTTGCGAGGGTTGGTCTCGAGGCAGAGGTCATGTTCCCAGCCAAGAGTATGAGAACATCCAGTCGAGCAGAGGAGATTCATGGCCTGTGCTCGGTGAGCCTTACCTTCTGTGTGCTACTGACGTACCCATCAGGACAGTGAGCTCTGCTGCCAGTCAAGGCCTGCATATGCAGAATGACGATGCCTGCCTTGGTGCTGCTTCCCCGAGTGCTGCCTCCTGGTCAAGGAGAAGTGCAGAGAGTAAGGTGTCCTTATGTTGGAAACTCAAGTGGAAGGAAGATTTGGTTTGGTTTTATTCTCAGAGCCATTAAACACTAGTTCAGTATGTGAGATATAGATTCTAAAAACCTCAGGTGGCTCTGCCTTATGTCTGTTCCTCCTTCATTTCTCTCAAGGGAAATGGCTAAGGTGGCATTGTCTCATGGCTCTCGTTTTTGGGGTCATGGGGAGGGTAGCACCAGGCATAGCCACTTTTGCCCTGAGGGACTCCTGTGTACTTCACATCACTGAGCACTCATTTAGAAGTGAGGGAGACAGAAGTCTAGGCCCAGGGATGGCTCCAGTTGGGGATCCAGCAGGAGACCCTCTGCACATGAGGCTGGTTTACCAACATCTACTCCCTCAGGATGAGCGTGAGCCAGAAGCAGCTGTGTATTTAAGGAAACAAGCGTTCCTGGAATTAATTTATAAATTTAATAAATCCCAATATAATCCCAGCTAGTGCTTTTTCCTTATTATAATTTGATAAGGTGATTATAAAAGATACATGGAAGGAAGTGGAACCAGATGCAGAAGAGGAAATGATGGAAGGACTTACGGTATCAGATACCAATATTTAAAAGTTTGTATAATAATAAAGAGTATGATTGTGGTTCAAGGATAAAAA\",\"query\":\"ENSG00000156345\",\"id\":\"ENSG00000156345\",\"molecule\":\"dna\"}'"
      ]
     },
     "execution_count": 4,
     "metadata": {},
     "output_type": "execute_result"
    }
   ],
   "source": [
    "base_url = 'https://rest.ensembl.org/'\n",
    "endpoint = 'sequence/id/'\n",
    "seq_id = 'ENSG00000156345'\n",
    "parameters = '?content-type=application/json&type=genomic'\n",
    "gdna_url = base_url + endpoint + seq_id + parameters\n",
    "\n",
    "gdna = urllib.request.urlopen(gdna_url).read()\n",
    "gdna"
   ]
  },
  {
   "cell_type": "code",
   "execution_count": 5,
   "metadata": {
    "scrolled": true,
    "slideshow": {
     "slide_type": "subslide"
    }
   },
   "outputs": [
    {
     "data": {
      "text/plain": [
       "{'version': 17,\n",
       " 'desc': 'chromosome:GRCh38:9:87966441:87974753:-1',\n",
       " 'seq': 'GCTGTCATCGTTCCGTGGGCCCTGCTGCGGGCACGCTCTCGGCGCATGCGTTTTTTATGCGGGATTAAGCTTGCTGCTGCGTGACAGCGGAGGGCTAGGAAAAGGCGCAGTGGGGCCCGGAGCTGTCACCCCTGACTCGACGCAGCTTCCGTTCTCCTGGTGACGTCGCCTACAGGAACCGCCCCAGTGGTCAGCTGCCGCGCTGTTGCTAGGCAACAGCGTGCGAGCTCAGATCAGCGTGGGGTGGAGGAGAAGTGGAGTTTGGAAGTTCAGGGGCACAGGGGCACAGGCCCACGACTGCAGCGGGATGGACCAGTACTGCATCCTGGGCCGCATCGGGGAGGGCGCCCACGGCATCGTCTTCAAGGCCAAGCACGTGGAGGTGAGGCTGGACCGCGGCCGGCAGCCTGGCGGGGGTGTGCCCCCGCCACCCTCCGGCTAACGCTCTAAACTGTTTCGGTTCCCTTTTTACATCCAGTACAGTTTTTAAAACCTACTCATATTCTAAACCTACTTTGGGCCGTTGCGCTTCCCTCCGCACAGCTGGCTTGGTCCCCTACCCCAGCGGCTGGGTCCCAGGCTAGTCCTAGACCCCCGAGGAGGGCCTCTGGCCGAGCCGGGGGCGCGTGTCTCTCTCTCAACCACCTTCCCCTCACCCACCTTCATCTCTCTTTCCCAGCCGAGGGTGGGCTGGCAGTGTCTGCCTTCTATCCTGCAGACTGGCGAGATAGTTGCCCTCAAGAAGGTGGCCCTAAGGCGGTTGGAGGACGGCTTCCCTAACCAGGCCCTGCGGGAGATTAAGGCTCTGCAGGAGATGGAGGACAATCAGTATGTGAGTAGGGGAGGGGGGGCATGGTATTCTCACCCTCAGTCGCTCGTTCCCACTTCTTTGTGCCTTCATTTTCCCAGCTACGCCTTCACCAGCTTTCAGGGATTTCCTCCCGCTGTCACTCACACACACTGCTCATTCATCTGCCTCCTTACCCCCTTTTGCCCTTTTTTGTCCACTTGTTCACCTTTATTTACCTATTTCTTTCATTTCTCACACATTCACTCTCATTTGCCTACTTATTTCTTAATGTATTCATTCATTCACCGACTTTTTTTCTCAAAACATGTAGTGATTTATAATGTAACTAGCACCTATTGAGCTCCCGATGTGTTCTGCAGGCATTATATACATTGTCATTTTGAGACCTCTTTACTACTGTACAAGGCAGGTTTCCAGATCTCTGTTTCTCAGGTGAGAGGAGGAGGTTATGTCACCAGCTCTTGGGCCCTCCGTTAGTCAGTAGAGGGTTTGGCCCAGGTTTGATTGAGAGTCCATTCTTCCCTTGGGACCTCCCATAGGCTCTACCCTGTGTTGGGCACTGGTGACACAGAGAAACCAGCTCCAGCCCAGCTCCTGAGGACTTAAGTGTGCTAACAAGAGACAGAGGCAACAGGGCCCACCTAGTGTGGTTCGTGCTGTGATAGGGTACCGGGAGGGGCTGCTGGAACACGAAGAGGGGCATCTTTCACCCCTAGTGTCATTACTCTTTTGGTGCTCTCTCTCACCCATGTCGAAATAGGGAATGTATTTGACTCCCTGGAGAGTTAACAGGGTTGGGTCTCTGTGATCTGGAGATATGCATGATATATTGGATGACAAAAGCATGTTATAAAATTTTGTGTCATCTGGGTTTTGTTTGGAAATATTATATATGTGAATGTGTATTTGTGTGTGCCATATCTGTTGTAAAGTCTGGTAGAATACACTCTAAGATTGACTGTAGGATTTTTCTTTTGTTCTTTTTCTGTTGGATTTTATGTCTTACCTGAATGTGTGCATGTGTTTTGATCTGTTAAATGGTTGTGTACTACCTGAAAAATCCGAAAACAGCAATCAGGCCATTTTGATTTTTTGAGGAAGATAAAAGGGCTTCCAGACAGCCATGTGTGGGATAGGTGGAGAGATCCATAAGGAAGCTGGTGATATGGTCCCTACATCCAGTTGGTCAGCAATTCTGAAGGTTCTAACTTTAAAACATACTCTAGATTTGCTCCTTGCCCAAGTCATCATCACCACTCATCAGAATGACAGTGGCAGCCTCCCCACTGCTCTCCATAGCCACAGTCCGGAGGGCTTTGTCAAAAGTGTAAGTTAAGTCATCGGCTCCCCTGCGTAAAAAGCCCTGGTGGCTTCTCTTCACACTTAGAGCACTATCACCATGTGCCCACCTCCAGCTGGCCTCTCCCTTTTCTCTCATTCAACACAACTTCTTAGGCATCTCTCCAGTGACCAGCACCTATCTAGGGTCCAGGAGCACAGAACAAGGCAGACACATCCTTCCCTTAAACAATCTCATGTACTCACATCCCTCTAGCCTCCTTCTGTGCTGGCGTTAGGGCCTTGCACTTGCTTTTCTTCCTGCTCAGAGCTTTATCCCAGATCCCCACAAACTGGGTCCTCATCTAGCCCCACCCCACCTAAATAAAGAAGTATCCTTTTCTCCACTCACAGAATCACACTATCCTCTTCTAGTTCTGTTGATTTTTTTTCTTTTTTTGATACAGGGTCTCACTCTGTCACCCAGGCTGGAGTGTAGAAGTGCGATTTTGTCTCCCTGTAGTCTCAACCTCCTGGGCTCAGGTGATCCTCCCACCTCAGCTTCCCAAGTAGCTAGGACTACAGGCACGTGTCACCATGCCTGGCTAGTTTTTTGTATTTTTTGTAGAGACAAGGTTTCACCATGTTGCCCAGGCTGGTCTCAAACACCTGGGTTCAAGCCATCCGCCCACCTTGGCCTCTCAAAGTACTGGGATTACGGGCATGAGACGTCATGCCCAGCCCCCTTGTATTTTGGTTCCTGTACTTACAGAATCTGAATATATCCCTTTTATTCATTTATTTGTTAAACTGTTTGTCCTTTGTGCTGTGAGTTCATTAAGAGTCCTGTCTCTCAGCTCACTCTCTGTGTAGCCTGGCTCCTCTGACAGTACTGGCCTCAGTGTTTGTGATGTGTCTGTAGCTGTCCCAGCACTGGGAAAGGTGGGATTCCTGGTGTCCTTTCCTTGGTGCTGGGATTCGGTGGTTCTAGAGGAAACAGGAGGAGACCTGTCCATCTCATGTGTGACCATCCAGATGATTTTCAGGCGGGTAGGCTGGGTGGGCGGACCAGATGGTGCCACTAAATGACCTTTTTTAGACCTTTTAGTGTTCATGGAGAATTAGAGTGGGGGCACACCTTATCTCAGGAGAGCAGAGCAAATCATGAGCATCGAGCTCTCTGATTCTTAGCTCAGGTCCACGTCACCTTCTTTGCTTACTGTCTTTTTGGATACAGGGTCCTCTGTCAGGGCATGGGCTGGGGTCTCAGGGTCACAGAGAGGGTCTGGTGACTTGAGTCTGGGGGCTAACAAGATGTCCTGCCCACAGGTGGTACAACTGAAGGCTGTGTTCCCACACGGTGGAGGCTTTGTGCTGGCCTTTGAGTTCATGCTGTCGGATCTGGCCGAGGTGGTGCGCCATGCCCAGAGGCCACTAGCCCAGGCACAGGTCAAGAGCTACCTGCAGATGCTGCTCAAGGGTGTCGCCTTCTGCCATGCCAACAACATTGTACATCGGGTCAGTCTCAGCATAGGCCGGGCATGGGGTCTGGGGAGCTGACTTGGCTTGGGGATGGGGCTAGCCCTTGTAAAAGGTGTGATAAGAAGTTGGGACAGAGCTGGTCAAGGCCTCCAGGTAAGTGGCCAGGGCATGGCCCTGGAGGAGGTGGGGACCGGGGCTGACCTGAGTGGTTAGACTGCCAAGCCCGCTTGTCCCAAGGTCCTATGGGGGATTTGGAGGGACTGATGCTTCTTTTGGTACTCCCAGGACCTGAAACCTGCCAACCTGCTCATCAGCGCCTCAGGCCAGCTCAAGATAGCGGACTTTGGCCTGGCTCGAGTCTTTTCCCCAGACGGCAGCCGCCTCTACACACACCAGGTGGCCACCAGGTAGGGAGGGCCAGATCCCTTCCAGTCTTCTCCATGGGGAAGAGATGCTTCTGGGCCTTTTCTCCAGACATTGCTTGTGGGGCTGGGGTCACCTCCCCAGGCATCCTTTTCTCAGCCCAGTGCCTGCCAGCCCTCTTCCTCGCAGGTGGTACCGAGCCCCCGAGCTCCTGTATGGTGCCCGCCAGTATGACCAGGGCGTCGATCTGTGGTGAGACCCCTGTGGGTGGTCAAAGGGTAACATGGCTCATGGATTTCTGCTAGGCTCTGAGGTCTCTGAGCTGTTTGGTGGTCTTTTCCCTGGTGGGAGTTTAGGCTTCCTTAAGGGTGTCTTCCCTGGTTGGGGTATTCTGAGCACTTTGGGGTTGGGGTTCCTCACTATGATGTTTTCGAGCTGGGTAGGGGCCAGGTGGGATGAGAATGGTGGTCCCAGGTGGGAAGCTTTCTGGGCTAGATGGGGAGGTGGTCTGAGCCGATATGTGCTGGAGTTAGATCCTAGGATATGGCATCTCTGAGCTGGTCAGAGGCCTGTGTCCTTGGACATGAAAGCTCTGAGCTTGTTTTGCAGCAAGAAGATAGTTGGCAGTGCCCATGGGTCTGAGATTTGGGGCAGGTTTGCAGGTCTGCCCCAGAAGTGTCCTAGAGCAGGAGTCTCCGAGAAGTCTTGGAACAGCTGGGGCTTTGCTCTGGGTTCTAGGGTTGAGGGCTTTGAGGGTTCAGGGACTGGGCCTCTGGACGTGAGGCTCCAGGGCTGGCTTGTGGGGCCTTGCCCTGGAGTGCAGTGTTAGAGCTGCTCTGTGGGTGGGTCTGTGGTCCATGGTGGGAGATCTCTGACCTGCTTGGGGCTCTGTGTCCACAGGTCTGTGGGCTGCATCATGGGGGAGCTGTTGAATGGGTCCCCCCTTTTCCCGGGCAAGAACGATATTGAACAGCTTTGCTATGTGCTTCGCATCTTGGGCACCCCAAACCCTCAAGTCTGGCCGGTTTGTAGGGGCCCTTGGTGAGGTGGGTGTGGGGCAGGTTTACTCCACTCCCAACAGCAAGTAACCACTCCCTCCCCTGAACCTTCTCTCTCCTGGCCCCAACCCCCCTTGATGGACAGGGACCACTGTCCTGGCCCAACTCAGGGCTTCCTCCTTCCTGCTGTCATTTGGGTTGGGGTAGATCCTGTCCTTTGTCCCTTTTCACCCCAGTACACACATGTGCAGTGTCTCAGCAAGCTGTGCACAGAGTCGTCATCTGAGAGGGCAAGGGGATGGATGAAGGAATACAGGGGTGGGTGAGTGAATGAATGATGGGTCAGGGAGACACATGGATGGGAGAGCACCCCCCATGTGAGTGTGTGTTAGGGGCTGAGAGTTGACAGCAGAGAGCATGGCAAGGGTCGGGAACTACTCTCATTGTACCCTGTTCCTTCTCCCTGGCCCAGGAGCTCACTGAGCTGCCGGACTACAACAAGATCTCCTTTAAGGAGCAGGTGCCCATGCCCCTGGAGGAGGTGCTGCCTGACGTCTCTCCCCAGGCATTGGATCTGCTGGGTCAATTCCTTCTCTACCCTCCTCACCAGCGCATCGCAGCTTCCAAGGTAGGGGGAGAGGCTGTAGTCTCTGCTCCTTCAGCTCCCCTCCCCATCACCCTGGTACTCTGTACTTGGTAGCCATGTGACCCCATCACATCAGCGACCCTCAGAACCTGTGATTGGCATGGACCAGCACCAGACATCTGGAACCCAGGGGACAGGGGCCTTGGAGCAGGTGTGCCTCTCATGAGTAGACCCCACTGGACATCCCCAGACTTCCCCTGAGGGTGGCCCATACGAGGGGCATGCCCAACTCTCAGGAGAGCGCGTGTCCGGGAGTGCAGGTTTCTGGGCTGCCCCTGACCCTGTGGCAGATACAGTAAGAGAGTCACTGGGGACTCATTCCTTTATTCCATTAGCAAGTATTTTCTGCACATCTGGCACATGCAGGGATTGTCCTGGGCCCTGCACAGATGGTAAACAATCAGTCCTACCTCCGCGGGGCACTCCTGGTGGTGAGGTAGCTCCAGGTCCAAAAGGTCACAAGAGGTCATGTTCTCCAGCTGTGGGAGCCCCAGGAGAGAGGCAAGGCCGACTTTGGGGTCAAGCAAAGCTTCCTGGTGGAGGGCAGGTTTAAGCATGAGATGTTTGAGGAGGTGTTCGCTGAAGAGAGAAATGGTGGGCAGAGGCCTGGAAGAGAGGACCCAGGAAGGCTGGTTATGGCTGGTAGGCCTGGGAGGACGATGACCACAGGAGCATGGGCTGACAGGTGTCAGGGTGTCTCTCAGGGGTCCCTGTCCCCTCCCTGCACTCAGCACCAGCCGCGTGTGTTTACATACGCCCTCTTGGTCTCCACTGTCAGCAGCTCCTGTGGGCTCTGTGTCCACAGTGTACCCAAGCCGTGTGACCCTTATCTCTTGGGTTGCCTCCCAGAATCTGGGTCTCCCCTCATCCCATTTAATCTCTTCTCCACCTGGCAGACAGAGTAACTTTATCCAAGTAGAACAGGACACATTCCTTCTCTGCCAGGGCCCTCCTGTGGCTCCATCTCAGAGGAAAAGCCAGGGTCCTTTTTGTGACCCACAGATGTCGTATGCTTGGGTGCCATCACCTCATGACGCTGCCTGCTGTTGTGCCCTGTGCTCACTCCTCTCCAGCCCCAGGGGTCAGTACACTTTTGTCCCTGGCCTGGAGCCTCATGTCCCACTTGCTTATGTCTCAAGTCTTGGCTTAAATGTCACTTCTCAGATGGCCTTCCCTCATGACTCTTCAGATCTGCAACCTCTCTCCAGGATTCCTCATTCCTCTGTCTTGCTTTCTCTCTTCCACTGCACTAATCATTATCTGACATACTGTGTATTTTACTTCATCTTGTTTATTACCCCCCACCCTCACTTATGTCAGAAAAACAGAGCTTTTGTCTGTTTTATTAACGGCTATGTTCCCAGCTTCTGGAATAGTGCTTCAGACATAGTAGACACTCAGAAAACACCCAGACACACTGAGTCAGCTGAATGCATAGATGAAGGAACATCTGCTTGAGGCTGGGGACAGGGAGGTGACTAGTTTCCTTCTGCTGTTCCTTACTTGCCACCCTCAGGCTCTCCTCCATCAGTACTTCTTCACAGCTCCCCTGCCTGCCCATCCATCTGAGCTGCCGATTCCTCAGCGTCTAGGGGGACCTGCCCCCAAGGCCCATCCAGGGCCCCCCCACATCCATGACTTCCACGTGGACCGGCCTCTTGAGGAGTCGCTGTTGAACCCAGAGCTGATTCGGCCCTTCATCCTGGAGGGGTGAGAAGTTGGCCCTGGTCCCGTCTGCCTGCTCCTCAGGACCACTCAGTCCACCTGTTCCTCTGCCACCTGCCTGGCTTCACCCTCCAAGGCCTCCCCATGGCCACAGTGGGCCCACACCACACCCTGCCCCTTAGCCCTTGCGAGGGTTGGTCTCGAGGCAGAGGTCATGTTCCCAGCCAAGAGTATGAGAACATCCAGTCGAGCAGAGGAGATTCATGGCCTGTGCTCGGTGAGCCTTACCTTCTGTGTGCTACTGACGTACCCATCAGGACAGTGAGCTCTGCTGCCAGTCAAGGCCTGCATATGCAGAATGACGATGCCTGCCTTGGTGCTGCTTCCCCGAGTGCTGCCTCCTGGTCAAGGAGAAGTGCAGAGAGTAAGGTGTCCTTATGTTGGAAACTCAAGTGGAAGGAAGATTTGGTTTGGTTTTATTCTCAGAGCCATTAAACACTAGTTCAGTATGTGAGATATAGATTCTAAAAACCTCAGGTGGCTCTGCCTTATGTCTGTTCCTCCTTCATTTCTCTCAAGGGAAATGGCTAAGGTGGCATTGTCTCATGGCTCTCGTTTTTGGGGTCATGGGGAGGGTAGCACCAGGCATAGCCACTTTTGCCCTGAGGGACTCCTGTGTACTTCACATCACTGAGCACTCATTTAGAAGTGAGGGAGACAGAAGTCTAGGCCCAGGGATGGCTCCAGTTGGGGATCCAGCAGGAGACCCTCTGCACATGAGGCTGGTTTACCAACATCTACTCCCTCAGGATGAGCGTGAGCCAGAAGCAGCTGTGTATTTAAGGAAACAAGCGTTCCTGGAATTAATTTATAAATTTAATAAATCCCAATATAATCCCAGCTAGTGCTTTTTCCTTATTATAATTTGATAAGGTGATTATAAAAGATACATGGAAGGAAGTGGAACCAGATGCAGAAGAGGAAATGATGGAAGGACTTACGGTATCAGATACCAATATTTAAAAGTTTGTATAATAATAAAGAGTATGATTGTGGTTCAAGGATAAAAA',\n",
       " 'query': 'ENSG00000156345',\n",
       " 'id': 'ENSG00000156345',\n",
       " 'molecule': 'dna'}"
      ]
     },
     "execution_count": 5,
     "metadata": {},
     "output_type": "execute_result"
    }
   ],
   "source": [
    "# import json\n",
    "gdna = json.loads(gdna)\n",
    "gdna"
   ]
  },
  {
   "cell_type": "code",
   "execution_count": 6,
   "metadata": {
    "slideshow": {
     "slide_type": "subslide"
    }
   },
   "outputs": [
    {
     "name": "stdout",
     "output_type": "stream",
     "text": [
      " version: 17\n",
      "    desc: chromosome:GRCh38:9:87966441:87974753:-1\n",
      "     seq: GCTGTCATCGTTCCGTGGGCCCTGCTGCGGGCACGCTCTC... 8273 more\n",
      "   query: ENSG00000156345\n",
      "      id: ENSG00000156345\n",
      "molecule: dna\n"
     ]
    }
   ],
   "source": [
    "# items() reutrn an iterator with keys and values\n",
    "# the format method allow alignments {:>x}\n",
    "# ternary operators\n",
    "for k, v in gdna.items():\n",
    "    print('{:>8}: {}{}'.format(k, str(v)[:40], '... {} more'.format(len(gdna['seq']) - 40) if k == 'seq' else ''))"
   ]
  },
  {
   "cell_type": "markdown",
   "metadata": {
    "slideshow": {
     "slide_type": "slide"
    }
   },
   "source": [
    "## Retrieve all transcripts relative to a gene\n",
    "By using the same endpoint with different parameters we have access to the transcript(s) of a gene. Remember that a single gene may have **multiple** transcripts.\n",
    "\n",
    "* Sequence endpoint documentation: __[https://rest.ensembl.org/documentation/info/sequence_id](https://rest.ensembl.org/documentation/info/sequence_id)__\n",
    "* Ensembl REST base url `https://rest.ensembl.org/`\n",
    "* Sequence endpoint     `sequence/id/`\n",
    "* Gene id               `ENSG00000156345`\n",
    "* python function       `urllib.request.urlopen(URL).read()`\n",
    "* Hint 1: Remember to set the `type` parameter to `cdna` and `cds`\n",
    "* Hint 2: You need to account for the multiple sequences in the response setting the parameter `multiple_sequences=1`\n",
    "\n",
    "Try to answer these questions:\n",
    "* How many cdna transcripts do you find? How many cds transcripts? \n",
    "* Can you imagine why the numbers are different? \n",
    "* Do you notice any differences in the sequences of cdna and cds transcripts?\n",
    "* Why do you think they are different?"
   ]
  },
  {
   "cell_type": "code",
   "execution_count": 7,
   "metadata": {
    "slideshow": {
     "slide_type": "slide"
    }
   },
   "outputs": [
    {
     "data": {
      "text/html": [
       "<div>\n",
       "<style scoped>\n",
       "    .dataframe tbody tr th:only-of-type {\n",
       "        vertical-align: middle;\n",
       "    }\n",
       "\n",
       "    .dataframe tbody tr th {\n",
       "        vertical-align: top;\n",
       "    }\n",
       "\n",
       "    .dataframe thead th {\n",
       "        text-align: right;\n",
       "    }\n",
       "</style>\n",
       "<table border=\"1\" class=\"dataframe\">\n",
       "  <thead>\n",
       "    <tr style=\"text-align: right;\">\n",
       "      <th></th>\n",
       "      <th>desc</th>\n",
       "      <th>molecule</th>\n",
       "      <th>query</th>\n",
       "      <th>seq</th>\n",
       "      <th>version</th>\n",
       "    </tr>\n",
       "    <tr>\n",
       "      <th>id</th>\n",
       "      <th></th>\n",
       "      <th></th>\n",
       "      <th></th>\n",
       "      <th></th>\n",
       "      <th></th>\n",
       "    </tr>\n",
       "  </thead>\n",
       "  <tbody>\n",
       "    <tr>\n",
       "      <th>ENST00000459720</th>\n",
       "      <td>None</td>\n",
       "      <td>dna</td>\n",
       "      <td>ENSG00000156345</td>\n",
       "      <td>GCTTGCTGCTGCGTGACAGCGGAGGGCTAGGAAAAGGCGCAGTGGG...</td>\n",
       "      <td>5</td>\n",
       "    </tr>\n",
       "    <tr>\n",
       "      <th>ENST00000603475</th>\n",
       "      <td>None</td>\n",
       "      <td>dna</td>\n",
       "      <td>ENSG00000156345</td>\n",
       "      <td>CGTGCGAGCTCAGATCAGCGTGGGGTGGAGGAGAAGTGGAGTTTGG...</td>\n",
       "      <td>1</td>\n",
       "    </tr>\n",
       "    <tr>\n",
       "      <th>ENST00000336654</th>\n",
       "      <td>None</td>\n",
       "      <td>dna</td>\n",
       "      <td>ENSG00000156345</td>\n",
       "      <td>GTCGCCTACAGGAACCGCCCCAGTGGTCAGCTGCCGCGCTGTTGCT...</td>\n",
       "      <td>9</td>\n",
       "    </tr>\n",
       "    <tr>\n",
       "      <th>ENST00000375883</th>\n",
       "      <td>None</td>\n",
       "      <td>dna</td>\n",
       "      <td>ENSG00000156345</td>\n",
       "      <td>GCTGTCATCGTTCCGTGGGCCCTGCTGCGGGCACGCTCTCGGCGCA...</td>\n",
       "      <td>7</td>\n",
       "    </tr>\n",
       "    <tr>\n",
       "      <th>ENST00000375871</th>\n",
       "      <td>None</td>\n",
       "      <td>dna</td>\n",
       "      <td>ENSG00000156345</td>\n",
       "      <td>AGTTCAGGGGCACAGGGGCACAGGCCCACGACTGCAGCGGGATGGA...</td>\n",
       "      <td>8</td>\n",
       "    </tr>\n",
       "    <tr>\n",
       "      <th>ENST00000605159</th>\n",
       "      <td>None</td>\n",
       "      <td>dna</td>\n",
       "      <td>ENSG00000156345</td>\n",
       "      <td>GGAGAAGTGGAGTTTGGAAGTTCAGGGGCACAGGGGCACAGGCCCA...</td>\n",
       "      <td>5</td>\n",
       "    </tr>\n",
       "    <tr>\n",
       "      <th>ENST00000325303</th>\n",
       "      <td>None</td>\n",
       "      <td>dna</td>\n",
       "      <td>ENSG00000156345</td>\n",
       "      <td>CTGTCATCGTTCCGTGGGCCCTGCTGCGGGCACGCTCTCGGCGCAT...</td>\n",
       "      <td>8</td>\n",
       "    </tr>\n",
       "    <tr>\n",
       "      <th>ENST00000486228</th>\n",
       "      <td>None</td>\n",
       "      <td>dna</td>\n",
       "      <td>ENSG00000156345</td>\n",
       "      <td>TTTTATGCGGGATTAAGCTTGCTGCTGCGTGACAGCGGAGGGCTAG...</td>\n",
       "      <td>7</td>\n",
       "    </tr>\n",
       "    <tr>\n",
       "      <th>ENST00000604175</th>\n",
       "      <td>None</td>\n",
       "      <td>dna</td>\n",
       "      <td>ENSG00000156345</td>\n",
       "      <td>GCGAGCTCAGATCAGCGTGGGGTGGAGGAGAAGTGGAGTTTGGAAG...</td>\n",
       "      <td>5</td>\n",
       "    </tr>\n",
       "    <tr>\n",
       "      <th>ENST00000605591</th>\n",
       "      <td>None</td>\n",
       "      <td>dna</td>\n",
       "      <td>ENSG00000156345</td>\n",
       "      <td>GCGAGCTCAGATCAGCGTGGGGTGGAGGAGAAGTGGAGTTTGGAAG...</td>\n",
       "      <td>1</td>\n",
       "    </tr>\n",
       "  </tbody>\n",
       "</table>\n",
       "</div>"
      ],
      "text/plain": [
       "                 desc molecule            query  \\\n",
       "id                                                \n",
       "ENST00000459720  None      dna  ENSG00000156345   \n",
       "ENST00000603475  None      dna  ENSG00000156345   \n",
       "ENST00000336654  None      dna  ENSG00000156345   \n",
       "ENST00000375883  None      dna  ENSG00000156345   \n",
       "ENST00000375871  None      dna  ENSG00000156345   \n",
       "ENST00000605159  None      dna  ENSG00000156345   \n",
       "ENST00000325303  None      dna  ENSG00000156345   \n",
       "ENST00000486228  None      dna  ENSG00000156345   \n",
       "ENST00000604175  None      dna  ENSG00000156345   \n",
       "ENST00000605591  None      dna  ENSG00000156345   \n",
       "\n",
       "                                                               seq  version  \n",
       "id                                                                           \n",
       "ENST00000459720  GCTTGCTGCTGCGTGACAGCGGAGGGCTAGGAAAAGGCGCAGTGGG...        5  \n",
       "ENST00000603475  CGTGCGAGCTCAGATCAGCGTGGGGTGGAGGAGAAGTGGAGTTTGG...        1  \n",
       "ENST00000336654  GTCGCCTACAGGAACCGCCCCAGTGGTCAGCTGCCGCGCTGTTGCT...        9  \n",
       "ENST00000375883  GCTGTCATCGTTCCGTGGGCCCTGCTGCGGGCACGCTCTCGGCGCA...        7  \n",
       "ENST00000375871  AGTTCAGGGGCACAGGGGCACAGGCCCACGACTGCAGCGGGATGGA...        8  \n",
       "ENST00000605159  GGAGAAGTGGAGTTTGGAAGTTCAGGGGCACAGGGGCACAGGCCCA...        5  \n",
       "ENST00000325303  CTGTCATCGTTCCGTGGGCCCTGCTGCGGGCACGCTCTCGGCGCAT...        8  \n",
       "ENST00000486228  TTTTATGCGGGATTAAGCTTGCTGCTGCGTGACAGCGGAGGGCTAG...        7  \n",
       "ENST00000604175  GCGAGCTCAGATCAGCGTGGGGTGGAGGAGAAGTGGAGTTTGGAAG...        5  \n",
       "ENST00000605591  GCGAGCTCAGATCAGCGTGGGGTGGAGGAGAAGTGGAGTTTGGAAG...        1  "
      ]
     },
     "execution_count": 7,
     "metadata": {},
     "output_type": "execute_result"
    }
   ],
   "source": [
    "# import urllib.request, json\n",
    "# import pandas as pd\n",
    "params = '?content-type=application/json&type=cdna&multiple_sequences=1'\n",
    "cdna_url = base_url + endpoint + seq_id + params\n",
    "cdna = urllib.request.urlopen(cdna_url).read()\n",
    "pd.DataFrame.from_dict(json.loads(cdna)).set_index('id')"
   ]
  },
  {
   "cell_type": "code",
   "execution_count": 8,
   "metadata": {
    "slideshow": {
     "slide_type": "-"
    }
   },
   "outputs": [
    {
     "data": {
      "text/html": [
       "<div>\n",
       "<style scoped>\n",
       "    .dataframe tbody tr th:only-of-type {\n",
       "        vertical-align: middle;\n",
       "    }\n",
       "\n",
       "    .dataframe tbody tr th {\n",
       "        vertical-align: top;\n",
       "    }\n",
       "\n",
       "    .dataframe thead th {\n",
       "        text-align: right;\n",
       "    }\n",
       "</style>\n",
       "<table border=\"1\" class=\"dataframe\">\n",
       "  <thead>\n",
       "    <tr style=\"text-align: right;\">\n",
       "      <th></th>\n",
       "      <th>desc</th>\n",
       "      <th>molecule</th>\n",
       "      <th>query</th>\n",
       "      <th>seq</th>\n",
       "      <th>version</th>\n",
       "    </tr>\n",
       "    <tr>\n",
       "      <th>id</th>\n",
       "      <th></th>\n",
       "      <th></th>\n",
       "      <th></th>\n",
       "      <th></th>\n",
       "      <th></th>\n",
       "    </tr>\n",
       "  </thead>\n",
       "  <tbody>\n",
       "    <tr>\n",
       "      <th>ENST00000336654</th>\n",
       "      <td>None</td>\n",
       "      <td>dna</td>\n",
       "      <td>ENSG00000156345</td>\n",
       "      <td>ATGGACCAGTACTGCATCCTGGGCCGCATCGGGGAGGGCGCCCACG...</td>\n",
       "      <td>9</td>\n",
       "    </tr>\n",
       "    <tr>\n",
       "      <th>ENST00000375883</th>\n",
       "      <td>None</td>\n",
       "      <td>dna</td>\n",
       "      <td>ENSG00000156345</td>\n",
       "      <td>ATGGACCAGTACTGCATCCTGGGCCGCATCGGGGAGGGCGCCCACG...</td>\n",
       "      <td>7</td>\n",
       "    </tr>\n",
       "    <tr>\n",
       "      <th>ENST00000375871</th>\n",
       "      <td>None</td>\n",
       "      <td>dna</td>\n",
       "      <td>ENSG00000156345</td>\n",
       "      <td>ATGGACCAGTACTGCATCCTGGGCCGCATCGGGGAGGGCGCCCACG...</td>\n",
       "      <td>8</td>\n",
       "    </tr>\n",
       "    <tr>\n",
       "      <th>ENST00000605159</th>\n",
       "      <td>None</td>\n",
       "      <td>dna</td>\n",
       "      <td>ENSG00000156345</td>\n",
       "      <td>ATGGACCAGTACTGCATCCTGGGCCGCATCGGGGAGGGCGCCCACG...</td>\n",
       "      <td>5</td>\n",
       "    </tr>\n",
       "    <tr>\n",
       "      <th>ENST00000325303</th>\n",
       "      <td>None</td>\n",
       "      <td>dna</td>\n",
       "      <td>ENSG00000156345</td>\n",
       "      <td>ATGGACCAGTACTGCATCCTGGGCCGCATCGGGGAGGGCGCCCACG...</td>\n",
       "      <td>8</td>\n",
       "    </tr>\n",
       "  </tbody>\n",
       "</table>\n",
       "</div>"
      ],
      "text/plain": [
       "                 desc molecule            query  \\\n",
       "id                                                \n",
       "ENST00000336654  None      dna  ENSG00000156345   \n",
       "ENST00000375883  None      dna  ENSG00000156345   \n",
       "ENST00000375871  None      dna  ENSG00000156345   \n",
       "ENST00000605159  None      dna  ENSG00000156345   \n",
       "ENST00000325303  None      dna  ENSG00000156345   \n",
       "\n",
       "                                                               seq  version  \n",
       "id                                                                           \n",
       "ENST00000336654  ATGGACCAGTACTGCATCCTGGGCCGCATCGGGGAGGGCGCCCACG...        9  \n",
       "ENST00000375883  ATGGACCAGTACTGCATCCTGGGCCGCATCGGGGAGGGCGCCCACG...        7  \n",
       "ENST00000375871  ATGGACCAGTACTGCATCCTGGGCCGCATCGGGGAGGGCGCCCACG...        8  \n",
       "ENST00000605159  ATGGACCAGTACTGCATCCTGGGCCGCATCGGGGAGGGCGCCCACG...        5  \n",
       "ENST00000325303  ATGGACCAGTACTGCATCCTGGGCCGCATCGGGGAGGGCGCCCACG...        8  "
      ]
     },
     "execution_count": 8,
     "metadata": {},
     "output_type": "execute_result"
    }
   ],
   "source": [
    "cds_url = base_url + endpoint + seq_id + params.replace('cdna', 'cds')\n",
    "cds = json.loads(urllib.request.urlopen(cds_url).read())\n",
    "pd.DataFrame.from_dict(cds).set_index('id')"
   ]
  },
  {
   "cell_type": "markdown",
   "metadata": {
    "slideshow": {
     "slide_type": "slide"
    }
   },
   "source": [
    "## Retrieve exons of a gene\n",
    "Ensembl APIs allow to get the list of exons found in a genomic region throught the `overlap` endpoint. \n",
    "\n",
    "This endpoint allows to find sequence features overlapping a genomic regions, in this case `feature=exon`.\n",
    "\n"
   ]
  },
  {
   "cell_type": "code",
   "execution_count": 9,
   "metadata": {
    "slideshow": {
     "slide_type": "-"
    }
   },
   "outputs": [
    {
     "data": {
      "text/html": [
       "<div>\n",
       "<style scoped>\n",
       "    .dataframe tbody tr th:only-of-type {\n",
       "        vertical-align: middle;\n",
       "    }\n",
       "\n",
       "    .dataframe tbody tr th {\n",
       "        vertical-align: top;\n",
       "    }\n",
       "\n",
       "    .dataframe thead th {\n",
       "        text-align: right;\n",
       "    }\n",
       "</style>\n",
       "<table border=\"1\" class=\"dataframe\">\n",
       "  <thead>\n",
       "    <tr style=\"text-align: right;\">\n",
       "      <th></th>\n",
       "      <th>Parent</th>\n",
       "      <th>assembly_name</th>\n",
       "      <th>constitutive</th>\n",
       "      <th>end</th>\n",
       "      <th>ensembl_end_phase</th>\n",
       "      <th>ensembl_phase</th>\n",
       "      <th>exon_id</th>\n",
       "      <th>feature_type</th>\n",
       "      <th>rank</th>\n",
       "      <th>seq_region_name</th>\n",
       "      <th>source</th>\n",
       "      <th>start</th>\n",
       "      <th>strand</th>\n",
       "      <th>version</th>\n",
       "    </tr>\n",
       "    <tr>\n",
       "      <th>id</th>\n",
       "      <th></th>\n",
       "      <th></th>\n",
       "      <th></th>\n",
       "      <th></th>\n",
       "      <th></th>\n",
       "      <th></th>\n",
       "      <th></th>\n",
       "      <th></th>\n",
       "      <th></th>\n",
       "      <th></th>\n",
       "      <th></th>\n",
       "      <th></th>\n",
       "      <th></th>\n",
       "      <th></th>\n",
       "    </tr>\n",
       "  </thead>\n",
       "  <tbody>\n",
       "    <tr>\n",
       "      <th>ENSE00001862627</th>\n",
       "      <td>ENST00000459720</td>\n",
       "      <td>GRCh38</td>\n",
       "      <td>0</td>\n",
       "      <td>87974685</td>\n",
       "      <td>-1</td>\n",
       "      <td>-1</td>\n",
       "      <td>ENSE00001862627</td>\n",
       "      <td>exon</td>\n",
       "      <td>1</td>\n",
       "      <td>9</td>\n",
       "      <td>havana</td>\n",
       "      <td>87974372</td>\n",
       "      <td>-1</td>\n",
       "      <td>1</td>\n",
       "    </tr>\n",
       "    <tr>\n",
       "      <th>ENSE00003580906</th>\n",
       "      <td>ENST00000459720</td>\n",
       "      <td>GRCh38</td>\n",
       "      <td>0</td>\n",
       "      <td>87974035</td>\n",
       "      <td>-1</td>\n",
       "      <td>-1</td>\n",
       "      <td>ENSE00003580906</td>\n",
       "      <td>exon</td>\n",
       "      <td>2</td>\n",
       "      <td>9</td>\n",
       "      <td>havana</td>\n",
       "      <td>87973922</td>\n",
       "      <td>-1</td>\n",
       "      <td>1</td>\n",
       "    </tr>\n",
       "    <tr>\n",
       "      <th>ENSE00003551454</th>\n",
       "      <td>ENST00000459720</td>\n",
       "      <td>GRCh38</td>\n",
       "      <td>0</td>\n",
       "      <td>87971335</td>\n",
       "      <td>-1</td>\n",
       "      <td>-1</td>\n",
       "      <td>ENSE00003551454</td>\n",
       "      <td>exon</td>\n",
       "      <td>3</td>\n",
       "      <td>9</td>\n",
       "      <td>havana</td>\n",
       "      <td>87971147</td>\n",
       "      <td>-1</td>\n",
       "      <td>1</td>\n",
       "    </tr>\n",
       "    <tr>\n",
       "      <th>ENSE00001872570</th>\n",
       "      <td>ENST00000459720</td>\n",
       "      <td>GRCh38</td>\n",
       "      <td>0</td>\n",
       "      <td>87970897</td>\n",
       "      <td>-1</td>\n",
       "      <td>-1</td>\n",
       "      <td>ENSE00001872570</td>\n",
       "      <td>exon</td>\n",
       "      <td>4</td>\n",
       "      <td>9</td>\n",
       "      <td>havana</td>\n",
       "      <td>87969194</td>\n",
       "      <td>-1</td>\n",
       "      <td>1</td>\n",
       "    </tr>\n",
       "    <tr>\n",
       "      <th>ENSE00001822512</th>\n",
       "      <td>ENST00000459720</td>\n",
       "      <td>GRCh38</td>\n",
       "      <td>0</td>\n",
       "      <td>87967659</td>\n",
       "      <td>-1</td>\n",
       "      <td>-1</td>\n",
       "      <td>ENSE00001822512</td>\n",
       "      <td>exon</td>\n",
       "      <td>5</td>\n",
       "      <td>9</td>\n",
       "      <td>havana</td>\n",
       "      <td>87966441</td>\n",
       "      <td>-1</td>\n",
       "      <td>1</td>\n",
       "    </tr>\n",
       "  </tbody>\n",
       "</table>\n",
       "</div>"
      ],
      "text/plain": [
       "                          Parent assembly_name  constitutive       end  \\\n",
       "id                                                                       \n",
       "ENSE00001862627  ENST00000459720        GRCh38             0  87974685   \n",
       "ENSE00003580906  ENST00000459720        GRCh38             0  87974035   \n",
       "ENSE00003551454  ENST00000459720        GRCh38             0  87971335   \n",
       "ENSE00001872570  ENST00000459720        GRCh38             0  87970897   \n",
       "ENSE00001822512  ENST00000459720        GRCh38             0  87967659   \n",
       "\n",
       "                 ensembl_end_phase  ensembl_phase          exon_id  \\\n",
       "id                                                                   \n",
       "ENSE00001862627                 -1             -1  ENSE00001862627   \n",
       "ENSE00003580906                 -1             -1  ENSE00003580906   \n",
       "ENSE00003551454                 -1             -1  ENSE00003551454   \n",
       "ENSE00001872570                 -1             -1  ENSE00001872570   \n",
       "ENSE00001822512                 -1             -1  ENSE00001822512   \n",
       "\n",
       "                feature_type  rank seq_region_name  source     start  strand  \\\n",
       "id                                                                             \n",
       "ENSE00001862627         exon     1               9  havana  87974372      -1   \n",
       "ENSE00003580906         exon     2               9  havana  87973922      -1   \n",
       "ENSE00003551454         exon     3               9  havana  87971147      -1   \n",
       "ENSE00001872570         exon     4               9  havana  87969194      -1   \n",
       "ENSE00001822512         exon     5               9  havana  87966441      -1   \n",
       "\n",
       "                 version  \n",
       "id                        \n",
       "ENSE00001862627        1  \n",
       "ENSE00003580906        1  \n",
       "ENSE00003551454        1  \n",
       "ENSE00001872570        1  \n",
       "ENSE00001822512        1  "
      ]
     },
     "execution_count": 9,
     "metadata": {},
     "output_type": "execute_result"
    }
   ],
   "source": [
    "exons_url = base_url + 'overlap/id/' + seq_id + '?content-type=application/json&feature=exon'\n",
    "exons = urllib.request.urlopen(exons_url).read()\n",
    "exons = json.loads(exons)\n",
    "pd.DataFrame.from_dict(exons).set_index('id').head()"
   ]
  },
  {
   "cell_type": "code",
   "execution_count": 10,
   "metadata": {},
   "outputs": [
    {
     "data": {
      "text/plain": [
       "55"
      ]
     },
     "execution_count": 10,
     "metadata": {},
     "output_type": "execute_result"
    }
   ],
   "source": [
    "len(exons)"
   ]
  },
  {
   "cell_type": "markdown",
   "metadata": {
    "slideshow": {
     "slide_type": "slide"
    }
   },
   "source": [
    "There are so many exons because in Ensembl exons are redundant. Each transcript has its own set of exons even if they are the same exact genomic region.\n",
    "\n",
    "Exons have parents transcript identified by their `Parent` key.\n",
    "\n",
    "We can filter them by `Parent` key to select only the exons whose parent is the id of one (or all) transcript(s)."
   ]
  },
  {
   "cell_type": "code",
   "execution_count": 11,
   "metadata": {
    "scrolled": false,
    "slideshow": {
     "slide_type": "-"
    }
   },
   "outputs": [
    {
     "data": {
      "text/html": [
       "<div>\n",
       "<style scoped>\n",
       "    .dataframe tbody tr th:only-of-type {\n",
       "        vertical-align: middle;\n",
       "    }\n",
       "\n",
       "    .dataframe tbody tr th {\n",
       "        vertical-align: top;\n",
       "    }\n",
       "\n",
       "    .dataframe thead th {\n",
       "        text-align: right;\n",
       "    }\n",
       "</style>\n",
       "<table border=\"1\" class=\"dataframe\">\n",
       "  <thead>\n",
       "    <tr style=\"text-align: right;\">\n",
       "      <th></th>\n",
       "      <th>Parent</th>\n",
       "      <th>assembly_name</th>\n",
       "      <th>constitutive</th>\n",
       "      <th>end</th>\n",
       "      <th>ensembl_end_phase</th>\n",
       "      <th>ensembl_phase</th>\n",
       "      <th>exon_id</th>\n",
       "      <th>feature_type</th>\n",
       "      <th>rank</th>\n",
       "      <th>seq_region_name</th>\n",
       "      <th>source</th>\n",
       "      <th>start</th>\n",
       "      <th>strand</th>\n",
       "      <th>version</th>\n",
       "    </tr>\n",
       "    <tr>\n",
       "      <th>id</th>\n",
       "      <th></th>\n",
       "      <th></th>\n",
       "      <th></th>\n",
       "      <th></th>\n",
       "      <th></th>\n",
       "      <th></th>\n",
       "      <th></th>\n",
       "      <th></th>\n",
       "      <th></th>\n",
       "      <th></th>\n",
       "      <th></th>\n",
       "      <th></th>\n",
       "      <th></th>\n",
       "      <th></th>\n",
       "    </tr>\n",
       "  </thead>\n",
       "  <tbody>\n",
       "    <tr>\n",
       "      <th>ENSE00001890030</th>\n",
       "      <td>ENST00000336654</td>\n",
       "      <td>GRCh38</td>\n",
       "      <td>0</td>\n",
       "      <td>87974589</td>\n",
       "      <td>0</td>\n",
       "      <td>-1</td>\n",
       "      <td>ENSE00001890030</td>\n",
       "      <td>exon</td>\n",
       "      <td>1</td>\n",
       "      <td>9</td>\n",
       "      <td>ensembl_havana</td>\n",
       "      <td>87974372</td>\n",
       "      <td>-1</td>\n",
       "      <td>1</td>\n",
       "    </tr>\n",
       "    <tr>\n",
       "      <th>ENSE00001342208</th>\n",
       "      <td>ENST00000336654</td>\n",
       "      <td>GRCh38</td>\n",
       "      <td>0</td>\n",
       "      <td>87974074</td>\n",
       "      <td>0</td>\n",
       "      <td>0</td>\n",
       "      <td>ENSE00001342208</td>\n",
       "      <td>exon</td>\n",
       "      <td>2</td>\n",
       "      <td>9</td>\n",
       "      <td>ensembl_havana</td>\n",
       "      <td>87973922</td>\n",
       "      <td>-1</td>\n",
       "      <td>2</td>\n",
       "    </tr>\n",
       "    <tr>\n",
       "      <th>ENSE00003501098</th>\n",
       "      <td>ENST00000336654</td>\n",
       "      <td>GRCh38</td>\n",
       "      <td>0</td>\n",
       "      <td>87971335</td>\n",
       "      <td>0</td>\n",
       "      <td>0</td>\n",
       "      <td>ENSE00003501098</td>\n",
       "      <td>exon</td>\n",
       "      <td>3</td>\n",
       "      <td>9</td>\n",
       "      <td>ensembl_havana</td>\n",
       "      <td>87971147</td>\n",
       "      <td>-1</td>\n",
       "      <td>1</td>\n",
       "    </tr>\n",
       "    <tr>\n",
       "      <th>ENSE00003471288</th>\n",
       "      <td>ENST00000336654</td>\n",
       "      <td>GRCh38</td>\n",
       "      <td>0</td>\n",
       "      <td>87970897</td>\n",
       "      <td>2</td>\n",
       "      <td>0</td>\n",
       "      <td>ENSE00003471288</td>\n",
       "      <td>exon</td>\n",
       "      <td>4</td>\n",
       "      <td>9</td>\n",
       "      <td>ensembl_havana</td>\n",
       "      <td>87970776</td>\n",
       "      <td>-1</td>\n",
       "      <td>1</td>\n",
       "    </tr>\n",
       "    <tr>\n",
       "      <th>ENSE00003508198</th>\n",
       "      <td>ENST00000336654</td>\n",
       "      <td>GRCh38</td>\n",
       "      <td>0</td>\n",
       "      <td>87969919</td>\n",
       "      <td>0</td>\n",
       "      <td>2</td>\n",
       "      <td>ENSE00003508198</td>\n",
       "      <td>exon</td>\n",
       "      <td>5</td>\n",
       "      <td>9</td>\n",
       "      <td>ensembl_havana</td>\n",
       "      <td>87969796</td>\n",
       "      <td>-1</td>\n",
       "      <td>1</td>\n",
       "    </tr>\n",
       "    <tr>\n",
       "      <th>ENSE00003535476</th>\n",
       "      <td>ENST00000336654</td>\n",
       "      <td>GRCh38</td>\n",
       "      <td>0</td>\n",
       "      <td>87969349</td>\n",
       "      <td>0</td>\n",
       "      <td>0</td>\n",
       "      <td>ENSE00003535476</td>\n",
       "      <td>exon</td>\n",
       "      <td>6</td>\n",
       "      <td>9</td>\n",
       "      <td>ensembl_havana</td>\n",
       "      <td>87969194</td>\n",
       "      <td>-1</td>\n",
       "      <td>1</td>\n",
       "    </tr>\n",
       "    <tr>\n",
       "      <th>ENSE00001902992</th>\n",
       "      <td>ENST00000336654</td>\n",
       "      <td>GRCh38</td>\n",
       "      <td>0</td>\n",
       "      <td>87967659</td>\n",
       "      <td>-1</td>\n",
       "      <td>0</td>\n",
       "      <td>ENSE00001902992</td>\n",
       "      <td>exon</td>\n",
       "      <td>7</td>\n",
       "      <td>9</td>\n",
       "      <td>ensembl_havana</td>\n",
       "      <td>87966446</td>\n",
       "      <td>-1</td>\n",
       "      <td>1</td>\n",
       "    </tr>\n",
       "  </tbody>\n",
       "</table>\n",
       "</div>"
      ],
      "text/plain": [
       "                          Parent assembly_name  constitutive       end  \\\n",
       "id                                                                       \n",
       "ENSE00001890030  ENST00000336654        GRCh38             0  87974589   \n",
       "ENSE00001342208  ENST00000336654        GRCh38             0  87974074   \n",
       "ENSE00003501098  ENST00000336654        GRCh38             0  87971335   \n",
       "ENSE00003471288  ENST00000336654        GRCh38             0  87970897   \n",
       "ENSE00003508198  ENST00000336654        GRCh38             0  87969919   \n",
       "ENSE00003535476  ENST00000336654        GRCh38             0  87969349   \n",
       "ENSE00001902992  ENST00000336654        GRCh38             0  87967659   \n",
       "\n",
       "                 ensembl_end_phase  ensembl_phase          exon_id  \\\n",
       "id                                                                   \n",
       "ENSE00001890030                  0             -1  ENSE00001890030   \n",
       "ENSE00001342208                  0              0  ENSE00001342208   \n",
       "ENSE00003501098                  0              0  ENSE00003501098   \n",
       "ENSE00003471288                  2              0  ENSE00003471288   \n",
       "ENSE00003508198                  0              2  ENSE00003508198   \n",
       "ENSE00003535476                  0              0  ENSE00003535476   \n",
       "ENSE00001902992                 -1              0  ENSE00001902992   \n",
       "\n",
       "                feature_type  rank seq_region_name          source     start  \\\n",
       "id                                                                             \n",
       "ENSE00001890030         exon     1               9  ensembl_havana  87974372   \n",
       "ENSE00001342208         exon     2               9  ensembl_havana  87973922   \n",
       "ENSE00003501098         exon     3               9  ensembl_havana  87971147   \n",
       "ENSE00003471288         exon     4               9  ensembl_havana  87970776   \n",
       "ENSE00003508198         exon     5               9  ensembl_havana  87969796   \n",
       "ENSE00003535476         exon     6               9  ensembl_havana  87969194   \n",
       "ENSE00001902992         exon     7               9  ensembl_havana  87966446   \n",
       "\n",
       "                 strand  version  \n",
       "id                                \n",
       "ENSE00001890030      -1        1  \n",
       "ENSE00001342208      -1        2  \n",
       "ENSE00003501098      -1        1  \n",
       "ENSE00003471288      -1        1  \n",
       "ENSE00003508198      -1        1  \n",
       "ENSE00003535476      -1        1  \n",
       "ENSE00001902992      -1        1  "
      ]
     },
     "execution_count": 11,
     "metadata": {},
     "output_type": "execute_result"
    }
   ],
   "source": [
    "transcript = cds[0]['id']\n",
    "exons_example = list(filter(lambda d: d['Parent']==transcript, exons))\n",
    "pd.DataFrame.from_dict(exons_example).set_index('id')"
   ]
  },
  {
   "cell_type": "markdown",
   "metadata": {
    "slideshow": {
     "slide_type": "slide"
    }
   },
   "source": [
    "### Exons usage\n",
    "Not all transcript use the same exons. \n",
    "\n",
    "Some transcripts are shorter because they are assmebled starting from different combination of exons.\n",
    "\n",
    "Furthermore, exons can be assembled in different orders.\n",
    "\n",
    "Luckily not all combinations are viable"
   ]
  },
  {
   "cell_type": "code",
   "execution_count": 12,
   "metadata": {
    "slideshow": {
     "slide_type": "-"
    }
   },
   "outputs": [
    {
     "data": {
      "text/html": [
       "<div>\n",
       "<style scoped>\n",
       "    .dataframe tbody tr th:only-of-type {\n",
       "        vertical-align: middle;\n",
       "    }\n",
       "\n",
       "    .dataframe tbody tr th {\n",
       "        vertical-align: top;\n",
       "    }\n",
       "\n",
       "    .dataframe thead th {\n",
       "        text-align: right;\n",
       "    }\n",
       "</style>\n",
       "<table border=\"1\" class=\"dataframe\">\n",
       "  <thead>\n",
       "    <tr style=\"text-align: right;\">\n",
       "      <th></th>\n",
       "      <th>ENST00000336654</th>\n",
       "      <th>ENST00000375883</th>\n",
       "      <th>ENST00000375871</th>\n",
       "      <th>ENST00000605159</th>\n",
       "      <th>ENST00000325303</th>\n",
       "    </tr>\n",
       "  </thead>\n",
       "  <tbody>\n",
       "    <tr>\n",
       "      <th>1</th>\n",
       "      <td>ENSE00001890030</td>\n",
       "      <td>ENSE00003592303</td>\n",
       "      <td>ENSE00003553919</td>\n",
       "      <td>ENSE00003641963</td>\n",
       "      <td>ENSE00001468688</td>\n",
       "    </tr>\n",
       "    <tr>\n",
       "      <th>2</th>\n",
       "      <td>ENSE00001342208</td>\n",
       "      <td>ENSE00003694606</td>\n",
       "      <td>ENSE00003694606</td>\n",
       "      <td>ENSE00003694606</td>\n",
       "      <td>ENSE00003694606</td>\n",
       "    </tr>\n",
       "    <tr>\n",
       "      <th>3</th>\n",
       "      <td>ENSE00003501098</td>\n",
       "      <td>ENSE00003501098</td>\n",
       "      <td>ENSE00003501098</td>\n",
       "      <td>ENSE00003501098</td>\n",
       "      <td>ENSE00003501098</td>\n",
       "    </tr>\n",
       "    <tr>\n",
       "      <th>4</th>\n",
       "      <td>ENSE00003471288</td>\n",
       "      <td>ENSE00003471288</td>\n",
       "      <td>ENSE00003471288</td>\n",
       "      <td>ENSE00003471288</td>\n",
       "      <td>ENSE00003471288</td>\n",
       "    </tr>\n",
       "    <tr>\n",
       "      <th>5</th>\n",
       "      <td>ENSE00003508198</td>\n",
       "      <td>ENSE00003508198</td>\n",
       "      <td>ENSE00003658341</td>\n",
       "      <td>ENSE00003508198</td>\n",
       "      <td>ENSE00003532544</td>\n",
       "    </tr>\n",
       "    <tr>\n",
       "      <th>6</th>\n",
       "      <td>ENSE00003535476</td>\n",
       "      <td>ENSE00003535476</td>\n",
       "      <td>ENSE00001701771</td>\n",
       "      <td>ENSE00003535476</td>\n",
       "      <td>ENSE00003508198</td>\n",
       "    </tr>\n",
       "    <tr>\n",
       "      <th>7</th>\n",
       "      <td>ENSE00001902992</td>\n",
       "      <td>ENSE00001902992</td>\n",
       "      <td>None</td>\n",
       "      <td>ENSE00003527648</td>\n",
       "      <td>ENSE00003535476</td>\n",
       "    </tr>\n",
       "    <tr>\n",
       "      <th>8</th>\n",
       "      <td>None</td>\n",
       "      <td>None</td>\n",
       "      <td>None</td>\n",
       "      <td>None</td>\n",
       "      <td>ENSE00001902501</td>\n",
       "    </tr>\n",
       "  </tbody>\n",
       "</table>\n",
       "</div>"
      ],
      "text/plain": [
       "0  ENST00000336654  ENST00000375883  ENST00000375871  ENST00000605159  \\\n",
       "1  ENSE00001890030  ENSE00003592303  ENSE00003553919  ENSE00003641963   \n",
       "2  ENSE00001342208  ENSE00003694606  ENSE00003694606  ENSE00003694606   \n",
       "3  ENSE00003501098  ENSE00003501098  ENSE00003501098  ENSE00003501098   \n",
       "4  ENSE00003471288  ENSE00003471288  ENSE00003471288  ENSE00003471288   \n",
       "5  ENSE00003508198  ENSE00003508198  ENSE00003658341  ENSE00003508198   \n",
       "6  ENSE00003535476  ENSE00003535476  ENSE00001701771  ENSE00003535476   \n",
       "7  ENSE00001902992  ENSE00001902992             None  ENSE00003527648   \n",
       "8             None             None             None             None   \n",
       "\n",
       "0  ENST00000325303  \n",
       "1  ENSE00001468688  \n",
       "2  ENSE00003694606  \n",
       "3  ENSE00003501098  \n",
       "4  ENSE00003471288  \n",
       "5  ENSE00003532544  \n",
       "6  ENSE00003508198  \n",
       "7  ENSE00003535476  \n",
       "8  ENSE00001902501  "
      ]
     },
     "execution_count": 12,
     "metadata": {},
     "output_type": "execute_result"
    }
   ],
   "source": [
    "exons_per_transcript = [[tr['id']] + [e['id'] for e in filter(lambda d: d['Parent'] == tr['id'], exons)] for tr in cds]\n",
    "pd.DataFrame(exons_per_transcript).set_index(0).transpose()"
   ]
  },
  {
   "cell_type": "markdown",
   "metadata": {
    "slideshow": {
     "slide_type": "slide"
    }
   },
   "source": [
    "## Visualization of exon usage in Ensembl\n",
    "This is an example of the information found on a genome browser. In this case, exon usage for different transcripts is shown in a intuitive way. \n",
    "\n",
    "<div style='overflow-y: scroll; max-height: 400px'><img align='left' width=100% src=\"media/Human_98796627587974919.png\"></div>"
   ]
  },
  {
   "cell_type": "markdown",
   "metadata": {
    "slideshow": {
     "slide_type": "slide"
    }
   },
   "source": [
    "## Biopython\n",
    "### Writing exons in a FASTA file\n",
    "Biologists love text files! One of them (the most frequently used) is the FASTA format. It's a very simple format to store nucleotide or amino acid sequences. It can contain a single or multiple sequence record. Each sequence record is composed of two parts:\n",
    "* **Header** Identified by its first character `>`\n",
    "* **Sequence**: any other line"
   ]
  },
  {
   "cell_type": "code",
   "execution_count": 13,
   "metadata": {
    "scrolled": false,
    "slideshow": {
     "slide_type": "-"
    }
   },
   "outputs": [
    {
     "name": "stdout",
     "output_type": "stream",
     "text": [
      ">ENSE00001902992.1 chromosome:GRCh38:9:87966446:87967659:-1\n",
      "GCTCTCCTCCATCAGTACTTCTTCACAGCTCCCCTGCCTGCCCATCCATCTGAGCTGCCG\n",
      "ATTCCTCAGCGTCTAGGGGGACCTGCCCCCAAGGCCCATCCAGGGCCCCCCCACATCCAT\n",
      "GACTTCCACGTGGACCGGCCTCTTGAGGAGTCGCTGTTGAACCCAGAGCTGATTCGGCCC\n",
      "TTCATCC...\n"
     ]
    }
   ],
   "source": [
    "with open('exons.fasta', 'w') as of:\n",
    "    for exon_id in exons_per_transcript[0]:\n",
    "        exon_seq_url = base_url + 'sequence/id/' + exon_id + '?content-type=text/x-fasta'\n",
    "        exon_fasta = urllib.request.urlopen(exon_seq_url).read().decode('utf-8')\n",
    "        of.write(exon_fasta + '\\n')\n",
    "    print(exon_fasta[:250] + '...')"
   ]
  },
  {
   "cell_type": "markdown",
   "metadata": {
    "slideshow": {
     "slide_type": "slide"
    }
   },
   "source": [
    "In order to comply with biologists' love for text files, computer scientists came up with different solutions.\n",
    "\n",
    "One of them is __[BioPython](https://biopython.org/)__, a python library that let's you manage all kinds of biological file formats.\n",
    "\n",
    "It also has some useful utilities to:\n",
    "* align sequences\n",
    "* launch BLAST remotely\n",
    "* handle protein structures\n"
   ]
  },
  {
   "cell_type": "code",
   "execution_count": 14,
   "metadata": {
    "slideshow": {
     "slide_type": "-"
    }
   },
   "outputs": [
    {
     "name": "stdout",
     "output_type": "stream",
     "text": [
      "ID: ENSE00001890030.1\n",
      "Name: ENSE00001890030.1\n",
      "Description: ENSE00001890030.1 chromosome:GRCh38:9:87974372:87974589:-1\n",
      "Number of features: 0\n",
      "Seq('GTCGCCTACAGGAACCGCCCCAGTGGTCAGCTGCCGCGCTGTTGCTAGGCAACA...GAG', SingleLetterAlphabet())\n"
     ]
    }
   ],
   "source": [
    "# parse FASTA file with biopython module SeqIO\n",
    "seq_records = list(SeqIO.parse(\"exons.fasta\", \"fasta\"))\n",
    "# select one exon from the list of results\n",
    "an_exon = seq_records[1]\n",
    "# __repr__ method of Fasta record objects\n",
    "print(an_exon)"
   ]
  },
  {
   "cell_type": "code",
   "execution_count": 15,
   "metadata": {
    "slideshow": {
     "slide_type": "slide"
    }
   },
   "outputs": [
    {
     "name": "stdout",
     "output_type": "stream",
     "text": [
      "GTCGCCTACAGGAACCGCCCCAGTGGTCAGCTGCCGCGCTGTTGCTAGGCAACAGCGTGCGAGCTCAGATCAGCGTGGGGTGGAGGAGAAGTGGAGTTTGGAAGTTCAGGGGCACAGGGGCACAGGCCCACGACTGCAGCGGGATGGACCAGTACTGCATCCTGGGCCGCATCGGGGAGGGCGCCCACGGCATCGTCTTCAAGGCCAAGCACGTGGAG\n"
     ]
    }
   ],
   "source": [
    "# __repr__ method of the Seq objects\n",
    "print(an_exon.seq)"
   ]
  },
  {
   "cell_type": "code",
   "execution_count": 16,
   "metadata": {
    "slideshow": {
     "slide_type": "-"
    }
   },
   "outputs": [
    {
     "name": "stdout",
     "output_type": "stream",
     "text": [
      "GUCGCCUACAGGAACCGCCCCAGUGGUCAGCUGCCGCGCUGUUGCUAGGCAACAGCGUGCGAGCUCAGAUCAGCGUGGGGUGGAGGAGAAGUGGAGUUUGGAAGUUCAGGGGCACAGGGGCACAGGCCCACGACUGCAGCGGGAUGGACCAGUACUGCAUCCUGGGCCGCAUCGGGGAGGGCGCCCACGGCAUCGUCUUCAAGGCCAAGCACGUGGAG\n"
     ]
    }
   ],
   "source": [
    "# transcription is the conversion of DNA to messenger RNA\n",
    "print(an_exon.seq.transcribe())"
   ]
  },
  {
   "cell_type": "code",
   "execution_count": 17,
   "metadata": {
    "slideshow": {
     "slide_type": "-"
    }
   },
   "outputs": [
    {
     "name": "stdout",
     "output_type": "stream",
     "text": [
      "VAYRNRPSGQLPRCC*ATACELRSAWGGGEVEFGSSGAQGHRPTTAAGWTSTASWAASGRAPTASSSRPSTW\n"
     ]
    },
    {
     "name": "stderr",
     "output_type": "stream",
     "text": [
      "c:\\users\\marco\\appdata\\local\\programs\\python\\python37-32\\lib\\site-packages\\Bio\\Seq.py:2576: BiopythonWarning: Partial codon, len(sequence) not a multiple of three. Explicitly trim the sequence or add trailing N before translation. This may become an error in future.\n",
      "  BiopythonWarning)\n"
     ]
    }
   ],
   "source": [
    "# translation is the conversion of messenger RNA to amino acid\n",
    "print(an_exon.seq.transcribe().translate())"
   ]
  },
  {
   "cell_type": "code",
   "execution_count": 18,
   "metadata": {
    "scrolled": false,
    "slideshow": {
     "slide_type": "skip"
    }
   },
   "outputs": [],
   "source": [
    "def print_multiline_alignment(alignment, n=80):\n",
    "    seq1 = [alignment[0][i:i+n] for i in range(0, len(alignment[0]), n)]\n",
    "    seq2 =  [alignment[1][i:i+n] for i in range(0, len(alignment[1]), n)]\n",
    "    nstart1, nend1 = 1, 0\n",
    "    nstart2, nend2 = 0, 0\n",
    "    for s1, s2 in zip(seq1, seq2):\n",
    "        print(s1)\n",
    "        print(''.join(['|' if x == y else ' ' for x, y in zip(s1, s2)]))\n",
    "        print(s2)\n",
    "        print()"
   ]
  },
  {
   "cell_type": "markdown",
   "metadata": {
    "slideshow": {
     "slide_type": "slide"
    }
   },
   "source": [
    "## Pairwise alignment\n",
    "Biopython has functions to perform pairwise alignments. It has different functions:\n",
    "* globalxx \n",
    "* globalms\n",
    "* localds...\n",
    "\n",
    "where global and local indicate the type of alignment and the two letters are match and gap-penalty parameters\n",
    "\n",
    "The **match** parameters are:\n",
    "* `x`     No parameters. Identical characters have score of 1, otherwise 0.\n",
    "* `m`     A match score is the score of identical chars, otherwise mismatch score.\n",
    "* `d`     A dictionary returns the score of any pair of characters.\n",
    "\n",
    "The **gap penalty** parameters are:\n",
    "* `x`     No gap penalties.\n",
    "* `s`     Same open and extend gap penalties for both sequences.\n",
    "* `d`     The sequences have different open and extend gap penalties.\n",
    "\n"
   ]
  },
  {
   "cell_type": "code",
   "execution_count": 19,
   "metadata": {
    "scrolled": false,
    "slideshow": {
     "slide_type": "subslide"
    }
   },
   "outputs": [
    {
     "name": "stdout",
     "output_type": "stream",
     "text": [
      "ATGGACCAGTACTGCATCCTGGGCCGCATCGGGGAGGGCGCCCACGGCATCGTCTTCAAGGCCAAGCACGTGGAGCCGAG\n",
      "                                                                                \n",
      "--------------------------------------------------------------------------------\n",
      "\n",
      "GGTGGGCTGGCAGTGTCTGCCTTCTATCCTGCAGACTGGCGAGATAGTTGCCCTCAAGAAGGTGGCCCTAAGGCGGTTGG\n",
      "                                                                                \n",
      "--------------------------------------------------------------------------------\n",
      "\n",
      "AGGACGGCTTCCCTAACCAGGCCCTGCGGGAGATTAAGGCTCTGCAGGAGATGGAGGACAATCAGTATGTGGTACAACTG\n",
      "                                                        |    ||        |     |  \n",
      "--------------------------------------------------------G----TC--------G-----C--\n",
      "\n",
      "AAGGCTGTGTTCCCACACGGTGGAGGCTTTGTGCTGGCCTTTGAGTTCATGCTGTCGGATCTGGCCGAGGTGGTGCGCCA\n",
      "    |     |   |||    |||                   |   |   | | |    |   || |    ||| |   \n",
      "----C-----T---ACA----GGA-------------------A---C---C-G-C----C---CC-A----GTG-G---\n",
      "\n",
      "TGCCCAGAGGCCACTAGCCCAGGCACAGGTCAAGAGCTACCTGCAGATGCTGCTCAAGGGTGTCGCCTTCTGCCATGCCA\n",
      "|   |  | |   ||       || |  | |    |    ||   | |  ||||  |              |    |   \n",
      "T---C--A-G---CT-------GC-C--G-C----G----CT---G-T--TGCT--A--------------G----G---\n",
      "\n",
      "ACAACATTGTACATCGGGACCTGAAACCTGCCAACCTGCTCATCAGCGCCTCAGGCCAGCTCAAGATAGCGGACTTTGGC\n",
      "    ||    |||    |  | |     ||     | |      |  | |||| |  |  ||     |   | |    | \n",
      "----CA----ACA----G--C-G-----TG-----C-G------A--G-CTCA-G--A--TC-----A---G-C----G-\n",
      "\n",
      "CTGGCTCGAGTCTTTTCCCCAGACGGCAGCCGCCTCTACACACACCAGGTGGCCACCAGGTCTGTGGGCTGCATCATGGG\n",
      " |||   | |     |            |  |              |   ||     |            |    |    \n",
      "-TGG---G-G-----T------------G--G--------------A---GG-----A------------G----A----\n",
      "\n",
      "GGAGCTGTTGAATGGGTCCCCCCTTTTCCCGGGCAAGAACGATATTGAACAGCTTTGCTATGTGCTTCGCATCTTGGGCA\n",
      "  || ||  | |   |        |||             |     | | ||  || | |        |      |||  \n",
      "--AG-TG--G-A---G--------TTT-------------G-----G-A-AG--TT-C-A--------G------GGG--\n",
      "\n",
      "CCCCAAACCCTCAAGTCTGGCCGGAGCTCACTGAGCTGCCGGACTACAACAAGATCTCCTTTAAGGAGCAGGTGCCCATG\n",
      "   |  |    | |     |  || |  |||  |      || |  |  |   |    |      || |   ||  || |\n",
      "---C--A----C-A-----G--GG-G--CAC--A------GG-C--C--C---A----C------GA-C---TG--CA-G\n",
      "\n",
      "CCCCTGGAGGAGGTGCTGCCTGACGTCTCTCCCCAGGCATTGGATCTGCTGGGTCAATTCCTTCTCTACCCTCCTCACCA\n",
      "   |  | |||     ||   ||          |   |     |        |                     |    |\n",
      "---C--G-GGA-----TG---GA----------C---C-----A--------G---------------------T----A\n",
      "\n",
      "GCGCATCGCAGCTTCCAAGGCTCTCCTCCATCAGTACTTCTTCACAGCTCCCCTGCCTGCCCATCCATCTGAGCTGCCGA\n",
      "   | |    |    | |        ||| |  |            |       ||| |      ||  |   | |  | \n",
      "---C-T----G----C-A--------TCC-T--G------------G-------GCC-G------CA--T---C-G--G-\n",
      "\n",
      "TTCCTCAGCGTCTAGGGGGACCTGCCCCCAAGGCCCATCCAGGGCCCCCCCACATCCATGACTTCCACGTGGACCGGCCT\n",
      "       | |   |   ||    |    |   |||||  |  ||        ||| |  |   |   | |         |\n",
      "-------G-G---A---GG----G----C---GCCCA--C--GG--------CAT-C--G---T---C-T---------T\n",
      "\n",
      "CTTGAGGAGTCGCTGTTGAACCCAGAGCTGATTCGGCCCTTCATCCTGGAGGGGTGA\n",
      "|   |  |      |  |   ||| |||  |  | |          ||||     | \n",
      "C---A--A------G--G---CCA-AGC--A--C-G----------TGGA-----G-\n",
      "\n"
     ]
    }
   ],
   "source": [
    "# from Bio import pairwise2\n",
    "alignment = pairwise2.align.globalxx(cds[0]['seq'], an_exon.seq)[0]\n",
    "# custom print function\n",
    "print_multiline_alignment(alignment)"
   ]
  },
  {
   "cell_type": "markdown",
   "metadata": {
    "slideshow": {
     "slide_type": "subslide"
    }
   },
   "source": [
    "## Aligning two sequences\n",
    "\n",
    "By using the the `pairwise2` module, correctly align the **cds** `ENST00000336654` and **exon** `ENSE00001890030.1`\n",
    "\n",
    "Retrieve the sequence of the two entities using the endpoint:<br>__[https://rest.ensembl.org/documentation/info/sequence_id](https://rest.ensembl.org/documentation/info/sequence_id)__\n",
    "\n",
    "Find the correct way to align the two sequences. Documentation of the pairwise2 module is here: <br>__[http://biopython.org/DIST/docs/api/Bio.pairwise2-module.html](http://biopython.org/DIST/docs/api/Bio.pairwise2-module.html)__\n",
    "\n",
    "* Hint 1: function to print alignments __[https://github.com/marnec/practical](https://github.com/marnec/practical)__\n",
    "* Hint 2: local alignment is the way to go\n",
    "* Hint 3: You probably want a substitution matrix (http://biopython.org/DIST/docs/api/Bio.SubsMat.MatrixInfo-module.html)\n",
    "* Hint 4: `print(MatrixInfo.available_matrices)`"
   ]
  }
 ],
 "metadata": {
  "celltoolbar": "Slideshow",
  "kernelspec": {
   "display_name": "Python 3",
   "language": "python",
   "name": "python3"
  },
  "language_info": {
   "codemirror_mode": {
    "name": "ipython",
    "version": 3
   },
   "file_extension": ".py",
   "mimetype": "text/x-python",
   "name": "python",
   "nbconvert_exporter": "python",
   "pygments_lexer": "ipython3",
   "version": "3.7.0"
  }
 },
 "nbformat": 4,
 "nbformat_minor": 2
}
