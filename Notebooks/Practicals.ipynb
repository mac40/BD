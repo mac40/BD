{
 "cells": [
  {
   "cell_type": "markdown",
   "metadata": {},
   "source": [
    "# Practicals"
   ]
  },
  {
   "cell_type": "markdown",
   "metadata": {},
   "source": [
    "## First Practical"
   ]
  },
  {
   "cell_type": "markdown",
   "metadata": {},
   "source": [
    "###  Imports"
   ]
  },
  {
   "cell_type": "code",
   "execution_count": 52,
   "metadata": {},
   "outputs": [],
   "source": [
    "import urllib.request"
   ]
  },
  {
   "cell_type": "code",
   "execution_count": 53,
   "metadata": {},
   "outputs": [],
   "source": [
    "import json"
   ]
  },
  {
   "cell_type": "code",
   "execution_count": 56,
   "metadata": {},
   "outputs": [],
   "source": [
    "import pandas as pd"
   ]
  },
  {
   "cell_type": "markdown",
   "metadata": {},
   "source": [
    "### CDNA"
   ]
  },
  {
   "cell_type": "code",
   "execution_count": 39,
   "metadata": {},
   "outputs": [],
   "source": [
    "base_url = 'https://rest.ensembl.org/'\n",
    "endpoint = 'sequence/id/'\n",
    "seq_id = 'ENSG00000156345'\n",
    "parameters = '?content-type=application/json&type=cdna&multiple_sequences=1'\n",
    "cdna_url = base_url + endpoint + seq_id + parameters\n",
    "cdna = urllib.request.urlopen(cdna_url).read()"
   ]
  },
  {
   "cell_type": "code",
   "execution_count": 66,
   "metadata": {},
   "outputs": [],
   "source": [
    "# json load\n",
    "j_cdna = json.loads(cdna)"
   ]
  },
  {
   "cell_type": "markdown",
   "metadata": {},
   "source": [
    "#### Number of Sequences"
   ]
  },
  {
   "cell_type": "code",
   "execution_count": 51,
   "metadata": {},
   "outputs": [
    {
     "name": "stdout",
     "output_type": "stream",
     "text": [
      "number of cdna sequences: 10\n"
     ]
    }
   ],
   "source": [
    "print(\"number of cdna sequences: {}\".format(len(j_cdna)))"
   ]
  },
  {
   "cell_type": "markdown",
   "metadata": {},
   "source": [
    "#### Result preview"
   ]
  },
  {
   "cell_type": "code",
   "execution_count": 61,
   "metadata": {},
   "outputs": [
    {
     "data": {
      "text/html": [
       "<div>\n",
       "<style scoped>\n",
       "    .dataframe tbody tr th:only-of-type {\n",
       "        vertical-align: middle;\n",
       "    }\n",
       "\n",
       "    .dataframe tbody tr th {\n",
       "        vertical-align: top;\n",
       "    }\n",
       "\n",
       "    .dataframe thead th {\n",
       "        text-align: right;\n",
       "    }\n",
       "</style>\n",
       "<table border=\"1\" class=\"dataframe\">\n",
       "  <thead>\n",
       "    <tr style=\"text-align: right;\">\n",
       "      <th></th>\n",
       "      <th>desc</th>\n",
       "      <th>molecule</th>\n",
       "      <th>query</th>\n",
       "      <th>seq</th>\n",
       "      <th>version</th>\n",
       "    </tr>\n",
       "    <tr>\n",
       "      <th>id</th>\n",
       "      <th></th>\n",
       "      <th></th>\n",
       "      <th></th>\n",
       "      <th></th>\n",
       "      <th></th>\n",
       "    </tr>\n",
       "  </thead>\n",
       "  <tbody>\n",
       "    <tr>\n",
       "      <th>ENST00000459720</th>\n",
       "      <td>None</td>\n",
       "      <td>dna</td>\n",
       "      <td>ENSG00000156345</td>\n",
       "      <td>GCTTGCTGCTGCGTGACAGCGGAGGGCTAGGAAAAGGCGCAGTGGG...</td>\n",
       "      <td>5</td>\n",
       "    </tr>\n",
       "    <tr>\n",
       "      <th>ENST00000603475</th>\n",
       "      <td>None</td>\n",
       "      <td>dna</td>\n",
       "      <td>ENSG00000156345</td>\n",
       "      <td>CGTGCGAGCTCAGATCAGCGTGGGGTGGAGGAGAAGTGGAGTTTGG...</td>\n",
       "      <td>1</td>\n",
       "    </tr>\n",
       "    <tr>\n",
       "      <th>ENST00000336654</th>\n",
       "      <td>None</td>\n",
       "      <td>dna</td>\n",
       "      <td>ENSG00000156345</td>\n",
       "      <td>GTCGCCTACAGGAACCGCCCCAGTGGTCAGCTGCCGCGCTGTTGCT...</td>\n",
       "      <td>9</td>\n",
       "    </tr>\n",
       "    <tr>\n",
       "      <th>ENST00000375883</th>\n",
       "      <td>None</td>\n",
       "      <td>dna</td>\n",
       "      <td>ENSG00000156345</td>\n",
       "      <td>GCTGTCATCGTTCCGTGGGCCCTGCTGCGGGCACGCTCTCGGCGCA...</td>\n",
       "      <td>7</td>\n",
       "    </tr>\n",
       "    <tr>\n",
       "      <th>ENST00000375871</th>\n",
       "      <td>None</td>\n",
       "      <td>dna</td>\n",
       "      <td>ENSG00000156345</td>\n",
       "      <td>AGTTCAGGGGCACAGGGGCACAGGCCCACGACTGCAGCGGGATGGA...</td>\n",
       "      <td>8</td>\n",
       "    </tr>\n",
       "    <tr>\n",
       "      <th>ENST00000605159</th>\n",
       "      <td>None</td>\n",
       "      <td>dna</td>\n",
       "      <td>ENSG00000156345</td>\n",
       "      <td>GGAGAAGTGGAGTTTGGAAGTTCAGGGGCACAGGGGCACAGGCCCA...</td>\n",
       "      <td>5</td>\n",
       "    </tr>\n",
       "    <tr>\n",
       "      <th>ENST00000325303</th>\n",
       "      <td>None</td>\n",
       "      <td>dna</td>\n",
       "      <td>ENSG00000156345</td>\n",
       "      <td>CTGTCATCGTTCCGTGGGCCCTGCTGCGGGCACGCTCTCGGCGCAT...</td>\n",
       "      <td>8</td>\n",
       "    </tr>\n",
       "    <tr>\n",
       "      <th>ENST00000486228</th>\n",
       "      <td>None</td>\n",
       "      <td>dna</td>\n",
       "      <td>ENSG00000156345</td>\n",
       "      <td>TTTTATGCGGGATTAAGCTTGCTGCTGCGTGACAGCGGAGGGCTAG...</td>\n",
       "      <td>7</td>\n",
       "    </tr>\n",
       "    <tr>\n",
       "      <th>ENST00000604175</th>\n",
       "      <td>None</td>\n",
       "      <td>dna</td>\n",
       "      <td>ENSG00000156345</td>\n",
       "      <td>GCGAGCTCAGATCAGCGTGGGGTGGAGGAGAAGTGGAGTTTGGAAG...</td>\n",
       "      <td>5</td>\n",
       "    </tr>\n",
       "    <tr>\n",
       "      <th>ENST00000605591</th>\n",
       "      <td>None</td>\n",
       "      <td>dna</td>\n",
       "      <td>ENSG00000156345</td>\n",
       "      <td>GCGAGCTCAGATCAGCGTGGGGTGGAGGAGAAGTGGAGTTTGGAAG...</td>\n",
       "      <td>1</td>\n",
       "    </tr>\n",
       "  </tbody>\n",
       "</table>\n",
       "</div>"
      ],
      "text/plain": [
       "                 desc molecule            query  \\\n",
       "id                                                \n",
       "ENST00000459720  None      dna  ENSG00000156345   \n",
       "ENST00000603475  None      dna  ENSG00000156345   \n",
       "ENST00000336654  None      dna  ENSG00000156345   \n",
       "ENST00000375883  None      dna  ENSG00000156345   \n",
       "ENST00000375871  None      dna  ENSG00000156345   \n",
       "ENST00000605159  None      dna  ENSG00000156345   \n",
       "ENST00000325303  None      dna  ENSG00000156345   \n",
       "ENST00000486228  None      dna  ENSG00000156345   \n",
       "ENST00000604175  None      dna  ENSG00000156345   \n",
       "ENST00000605591  None      dna  ENSG00000156345   \n",
       "\n",
       "                                                               seq  version  \n",
       "id                                                                           \n",
       "ENST00000459720  GCTTGCTGCTGCGTGACAGCGGAGGGCTAGGAAAAGGCGCAGTGGG...        5  \n",
       "ENST00000603475  CGTGCGAGCTCAGATCAGCGTGGGGTGGAGGAGAAGTGGAGTTTGG...        1  \n",
       "ENST00000336654  GTCGCCTACAGGAACCGCCCCAGTGGTCAGCTGCCGCGCTGTTGCT...        9  \n",
       "ENST00000375883  GCTGTCATCGTTCCGTGGGCCCTGCTGCGGGCACGCTCTCGGCGCA...        7  \n",
       "ENST00000375871  AGTTCAGGGGCACAGGGGCACAGGCCCACGACTGCAGCGGGATGGA...        8  \n",
       "ENST00000605159  GGAGAAGTGGAGTTTGGAAGTTCAGGGGCACAGGGGCACAGGCCCA...        5  \n",
       "ENST00000325303  CTGTCATCGTTCCGTGGGCCCTGCTGCGGGCACGCTCTCGGCGCAT...        8  \n",
       "ENST00000486228  TTTTATGCGGGATTAAGCTTGCTGCTGCGTGACAGCGGAGGGCTAG...        7  \n",
       "ENST00000604175  GCGAGCTCAGATCAGCGTGGGGTGGAGGAGAAGTGGAGTTTGGAAG...        5  \n",
       "ENST00000605591  GCGAGCTCAGATCAGCGTGGGGTGGAGGAGAAGTGGAGTTTGGAAG...        1  "
      ]
     },
     "execution_count": 61,
     "metadata": {},
     "output_type": "execute_result"
    }
   ],
   "source": [
    "pd_cdna = pd.DataFrame(j_cdna).set_index('id')\n",
    "pd_cdna"
   ]
  },
  {
   "cell_type": "markdown",
   "metadata": {},
   "source": [
    "### CDS"
   ]
  },
  {
   "cell_type": "code",
   "execution_count": 42,
   "metadata": {},
   "outputs": [],
   "source": [
    "base_url = 'https://rest.ensembl.org/'\n",
    "endpoint = 'sequence/id/'\n",
    "seq_id = 'ENSG00000156345'\n",
    "parameters = '?content-type=application/json&type=cds&multiple_sequences=1'\n",
    "cds_url = base_url + endpoint + seq_id + parameters\n",
    "cds = urllib.request.urlopen(cds_url).read()"
   ]
  },
  {
   "cell_type": "code",
   "execution_count": 68,
   "metadata": {},
   "outputs": [],
   "source": [
    "# json load\n",
    "j_cds = json.loads(cds)"
   ]
  },
  {
   "cell_type": "markdown",
   "metadata": {},
   "source": [
    "#### Number of Sequences"
   ]
  },
  {
   "cell_type": "code",
   "execution_count": 64,
   "metadata": {},
   "outputs": [
    {
     "name": "stdout",
     "output_type": "stream",
     "text": [
      "number of cds sequences: 5\n"
     ]
    }
   ],
   "source": [
    "print(\"number of cds sequences: {}\".format(len(j_cds)))"
   ]
  },
  {
   "cell_type": "markdown",
   "metadata": {},
   "source": [
    "#### Result preview"
   ]
  },
  {
   "cell_type": "code",
   "execution_count": 63,
   "metadata": {},
   "outputs": [
    {
     "data": {
      "text/html": [
       "<div>\n",
       "<style scoped>\n",
       "    .dataframe tbody tr th:only-of-type {\n",
       "        vertical-align: middle;\n",
       "    }\n",
       "\n",
       "    .dataframe tbody tr th {\n",
       "        vertical-align: top;\n",
       "    }\n",
       "\n",
       "    .dataframe thead th {\n",
       "        text-align: right;\n",
       "    }\n",
       "</style>\n",
       "<table border=\"1\" class=\"dataframe\">\n",
       "  <thead>\n",
       "    <tr style=\"text-align: right;\">\n",
       "      <th></th>\n",
       "      <th>desc</th>\n",
       "      <th>molecule</th>\n",
       "      <th>query</th>\n",
       "      <th>seq</th>\n",
       "      <th>version</th>\n",
       "    </tr>\n",
       "    <tr>\n",
       "      <th>id</th>\n",
       "      <th></th>\n",
       "      <th></th>\n",
       "      <th></th>\n",
       "      <th></th>\n",
       "      <th></th>\n",
       "    </tr>\n",
       "  </thead>\n",
       "  <tbody>\n",
       "    <tr>\n",
       "      <th>ENST00000336654</th>\n",
       "      <td>None</td>\n",
       "      <td>dna</td>\n",
       "      <td>ENSG00000156345</td>\n",
       "      <td>ATGGACCAGTACTGCATCCTGGGCCGCATCGGGGAGGGCGCCCACG...</td>\n",
       "      <td>9</td>\n",
       "    </tr>\n",
       "    <tr>\n",
       "      <th>ENST00000375883</th>\n",
       "      <td>None</td>\n",
       "      <td>dna</td>\n",
       "      <td>ENSG00000156345</td>\n",
       "      <td>ATGGACCAGTACTGCATCCTGGGCCGCATCGGGGAGGGCGCCCACG...</td>\n",
       "      <td>7</td>\n",
       "    </tr>\n",
       "    <tr>\n",
       "      <th>ENST00000375871</th>\n",
       "      <td>None</td>\n",
       "      <td>dna</td>\n",
       "      <td>ENSG00000156345</td>\n",
       "      <td>ATGGACCAGTACTGCATCCTGGGCCGCATCGGGGAGGGCGCCCACG...</td>\n",
       "      <td>8</td>\n",
       "    </tr>\n",
       "    <tr>\n",
       "      <th>ENST00000605159</th>\n",
       "      <td>None</td>\n",
       "      <td>dna</td>\n",
       "      <td>ENSG00000156345</td>\n",
       "      <td>ATGGACCAGTACTGCATCCTGGGCCGCATCGGGGAGGGCGCCCACG...</td>\n",
       "      <td>5</td>\n",
       "    </tr>\n",
       "    <tr>\n",
       "      <th>ENST00000325303</th>\n",
       "      <td>None</td>\n",
       "      <td>dna</td>\n",
       "      <td>ENSG00000156345</td>\n",
       "      <td>ATGGACCAGTACTGCATCCTGGGCCGCATCGGGGAGGGCGCCCACG...</td>\n",
       "      <td>8</td>\n",
       "    </tr>\n",
       "  </tbody>\n",
       "</table>\n",
       "</div>"
      ],
      "text/plain": [
       "                 desc molecule            query  \\\n",
       "id                                                \n",
       "ENST00000336654  None      dna  ENSG00000156345   \n",
       "ENST00000375883  None      dna  ENSG00000156345   \n",
       "ENST00000375871  None      dna  ENSG00000156345   \n",
       "ENST00000605159  None      dna  ENSG00000156345   \n",
       "ENST00000325303  None      dna  ENSG00000156345   \n",
       "\n",
       "                                                               seq  version  \n",
       "id                                                                           \n",
       "ENST00000336654  ATGGACCAGTACTGCATCCTGGGCCGCATCGGGGAGGGCGCCCACG...        9  \n",
       "ENST00000375883  ATGGACCAGTACTGCATCCTGGGCCGCATCGGGGAGGGCGCCCACG...        7  \n",
       "ENST00000375871  ATGGACCAGTACTGCATCCTGGGCCGCATCGGGGAGGGCGCCCACG...        8  \n",
       "ENST00000605159  ATGGACCAGTACTGCATCCTGGGCCGCATCGGGGAGGGCGCCCACG...        5  \n",
       "ENST00000325303  ATGGACCAGTACTGCATCCTGGGCCGCATCGGGGAGGGCGCCCACG...        8  "
      ]
     },
     "execution_count": 63,
     "metadata": {},
     "output_type": "execute_result"
    }
   ],
   "source": [
    "pd_cds = pd.DataFrame(j_cds).set_index('id')\n",
    "pd_cds"
   ]
  },
  {
   "cell_type": "markdown",
   "metadata": {},
   "source": [
    "## Second Practical"
   ]
  },
  {
   "cell_type": "code",
   "execution_count": null,
   "metadata": {},
   "outputs": [],
   "source": []
  }
 ],
 "metadata": {
  "kernelspec": {
   "display_name": "Python 3",
   "language": "python",
   "name": "python3"
  },
  "language_info": {
   "codemirror_mode": {
    "name": "ipython",
    "version": 3
   },
   "file_extension": ".py",
   "mimetype": "text/x-python",
   "name": "python",
   "nbconvert_exporter": "python",
   "pygments_lexer": "ipython3",
   "version": "3.7.0"
  }
 },
 "nbformat": 4,
 "nbformat_minor": 2
}
